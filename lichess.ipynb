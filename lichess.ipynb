{
  "nbformat": 4,
  "nbformat_minor": 0,
  "metadata": {
    "colab": {
      "provenance": [],
      "gpuType": "T4"
    },
    "kernelspec": {
      "name": "python3",
      "display_name": "Python 3"
    },
    "language_info": {
      "name": "python"
    }
  },
  "cells": [
    {
      "cell_type": "markdown",
      "source": [
        "# Projet Lichess\n",
        "\n",
        "_Traitements et données large échelle_\n",
        "\n",
        "Zoé Marquis & Charlotte Kruzic"
      ],
      "metadata": {
        "id": "SZ-ApUtIwHXG"
      }
    },
    {
      "cell_type": "markdown",
      "source": [
        "TODO : présenter les objectifs du projet, les différentes questions, les données utilisées\n"
      ],
      "metadata": {
        "id": "ManTk4Ll02fM"
      }
    },
    {
      "cell_type": "markdown",
      "source": [
        "### Installation et importation des bibliothèques nécessaires"
      ],
      "metadata": {
        "id": "MoCDA5c1McJt"
      }
    },
    {
      "cell_type": "code",
      "source": [
        "!pip install kagglehub"
      ],
      "metadata": {
        "colab": {
          "base_uri": "https://localhost:8080/"
        },
        "id": "BLQJBvTu1Ln_",
        "outputId": "8c1137e0-cdbe-40ee-d5aa-ea04f032e050"
      },
      "execution_count": 48,
      "outputs": [
        {
          "output_type": "stream",
          "name": "stdout",
          "text": [
            "Requirement already satisfied: kagglehub in /usr/local/lib/python3.10/dist-packages (0.3.5)\n",
            "Requirement already satisfied: packaging in /usr/local/lib/python3.10/dist-packages (from kagglehub) (24.2)\n",
            "Requirement already satisfied: requests in /usr/local/lib/python3.10/dist-packages (from kagglehub) (2.32.3)\n",
            "Requirement already satisfied: tqdm in /usr/local/lib/python3.10/dist-packages (from kagglehub) (4.67.1)\n",
            "Requirement already satisfied: charset-normalizer<4,>=2 in /usr/local/lib/python3.10/dist-packages (from requests->kagglehub) (3.4.0)\n",
            "Requirement already satisfied: idna<4,>=2.5 in /usr/local/lib/python3.10/dist-packages (from requests->kagglehub) (3.10)\n",
            "Requirement already satisfied: urllib3<3,>=1.21.1 in /usr/local/lib/python3.10/dist-packages (from requests->kagglehub) (2.2.3)\n",
            "Requirement already satisfied: certifi>=2017.4.17 in /usr/local/lib/python3.10/dist-packages (from requests->kagglehub) (2024.12.14)\n"
          ]
        }
      ]
    },
    {
      "cell_type": "code",
      "source": [
        "!pip install -q findspark"
      ],
      "metadata": {
        "id": "ZIoRHOnTSqmt"
      },
      "execution_count": 49,
      "outputs": []
    },
    {
      "cell_type": "code",
      "source": [
        "# imports\n",
        "import pandas as pd\n",
        "import numpy as np\n",
        "import matplotlib.pyplot as plt\n",
        "import seaborn as sns\n",
        "import json\n",
        "import os\n",
        "import kagglehub\n",
        "\n",
        "import findspark\n",
        "from pyspark.sql import SparkSession"
      ],
      "metadata": {
        "id": "7Fq95N2B0pm8"
      },
      "execution_count": 50,
      "outputs": []
    },
    {
      "cell_type": "code",
      "source": [
        "!apt-get install openjdk-8-jdk-headless -qq > /dev/null\n",
        "!wget -q https://downloads.apache.org/spark/spark-3.5.3/spark-3.5.3-bin-hadoop3.tgz\n",
        "!tar xf spark-3.5.3-bin-hadoop3.tgz"
      ],
      "metadata": {
        "id": "6v1hNJRbMmTS"
      },
      "execution_count": 51,
      "outputs": []
    },
    {
      "cell_type": "code",
      "source": [
        "os.environ[\"JAVA_HOME\"] = \"/usr/lib/jvm/java-8-openjdk-amd64\"\n",
        "os.environ[\"SPARK_HOME\"] = \"/content/spark-3.5.3-bin-hadoop3\"  # this is proper to Colab\n"
      ],
      "metadata": {
        "id": "mXe-TNDn4Seo"
      },
      "execution_count": 52,
      "outputs": []
    },
    {
      "cell_type": "markdown",
      "source": [
        "## Préparation des données\n",
        "\n",
        "Chargement des données, analyse exploratoire et prétraitement des données."
      ],
      "metadata": {
        "id": "MoOwUYVF0r4O"
      }
    },
    {
      "cell_type": "code",
      "source": [
        "path = kagglehub.dataset_download(\"noobiedatascientist/lichess-september-2020-data\")\n",
        "print(\"Chemin vers le fichier du dataset : \", path)"
      ],
      "metadata": {
        "id": "8dD1y9b60pkk",
        "colab": {
          "base_uri": "https://localhost:8080/"
        },
        "outputId": "24754e5e-f3c6-476a-d889-48385e4e3bbe"
      },
      "execution_count": 53,
      "outputs": [
        {
          "output_type": "stream",
          "name": "stdout",
          "text": [
            "Warning: Looks like you're using an outdated `kagglehub` version (installed: 0.3.5), please consider upgrading to the latest version (0.3.6).\n",
            "Chemin vers le fichier du dataset :  /root/.cache/kagglehub/datasets/noobiedatascientist/lichess-september-2020-data/versions/3\n"
          ]
        }
      ]
    },
    {
      "cell_type": "code",
      "source": [
        "files = os.listdir(path)\n",
        "print(\"Fichiers du dataset : \", files)"
      ],
      "metadata": {
        "id": "ZoMmOHTH0pf_",
        "colab": {
          "base_uri": "https://localhost:8080/"
        },
        "outputId": "f71752e4-b0ca-4e7f-d8a8-8fb519724c2f"
      },
      "execution_count": 54,
      "outputs": [
        {
          "output_type": "stream",
          "name": "stdout",
          "text": [
            "Fichiers du dataset :  ['Sept_20_analysis.RDS', 'Sept_20_analysis.csv', 'Column information.txt']\n"
          ]
        }
      ]
    },
    {
      "cell_type": "code",
      "source": [
        "filename = f\"{path}/Sept_20_analysis.csv\"\n",
        "print(\"Nom du fichier : \", filename)"
      ],
      "metadata": {
        "id": "-C_Fv81N0pbO",
        "colab": {
          "base_uri": "https://localhost:8080/"
        },
        "outputId": "b8774147-5fd0-45a4-ee78-10ba6fc6a073"
      },
      "execution_count": 55,
      "outputs": [
        {
          "output_type": "stream",
          "name": "stdout",
          "text": [
            "Nom du fichier :  /root/.cache/kagglehub/datasets/noobiedatascientist/lichess-september-2020-data/versions/3/Sept_20_analysis.csv\n"
          ]
        }
      ]
    },
    {
      "cell_type": "code",
      "source": [
        "# voir le contenu du .txt\n",
        "filename_txt = f\"{path}/Column information.txt\"\n",
        "with open(filename_txt, 'r') as f:\n",
        "    print(f.read())"
      ],
      "metadata": {
        "id": "bj58yVL60pPQ",
        "colab": {
          "base_uri": "https://localhost:8080/"
        },
        "outputId": "45de550f-c04b-4e34-caf9-0f491d4ef0b0"
      },
      "execution_count": 56,
      "outputs": [
        {
          "output_type": "stream",
          "name": "stdout",
          "text": [
            "GAME: Game ID (not from lichess.org)\n",
            "\n",
            "BlackElo: Elo rating of the player with the black pieces\n",
            "\n",
            "BlackRatingDiff: Rating change (gain/loss) after game conclusion for the player with the black pieces\n",
            "\n",
            "Date: Date the game was played\n",
            "\n",
            "ECO: Game opening (ECO notation)\n",
            "\n",
            "Event: Event where the game was played\n",
            "\n",
            "Opening: Game opening\n",
            "\n",
            "Result: Result of the game\n",
            "\n",
            "\t1-0 -- White victory\n",
            "\t0-1 -- Black victory\n",
            "\t1/2-1/2 -- Draw\n",
            "\t* -- Undecided\n",
            "\t\n",
            "Site: URL of the game\n",
            "\n",
            "Termination: Way the game terminated\n",
            "\n",
            "\tTime forfeit -- One of the players ran out of time\n",
            "\tNormal -- Game terminated with check mate\n",
            "\tRules infraction -- Game terminated due to rule breaking\n",
            "\tAbandoned -- Game was abandoned\n",
            "\t\n",
            "TimeControl: Timecontrol in seconds that was used for the game (Starting time: Increment) \n",
            "\n",
            "UTCTime: Time the game was played\n",
            "\n",
            "WhiteElo: Elo rating of the player with the white pieces\n",
            "\n",
            "WhiteRatingDiff: Rating change (gain/loss) after game conclusion for the player with the white pieces\n",
            "\n",
            "Black_elo_category: ELO category of the player with the black pieces\n",
            "\n",
            "\tLow rating -- Rating below 1900\n",
            "\tHigh rating -- Rating above 1900 and below 2400\n",
            "\tGM rating -- Rating above 2400\n",
            "\t\n",
            "starting_time: The time in seconds that the players have available at the start of the game (taken from TimeControl)\n",
            "\n",
            "\tEMPTY -- Correspondence games\n",
            "\t\n",
            "increment: Time increment in seconds that was used in the game (taken from TimeControl)\n",
            "\n",
            "\tEMPTY -- Correspondence games\n",
            "\n",
            "Game_type: Type of game based on TimeControl\n",
            "\n",
            "\tBullet -- Starting time below 2 minutes\n",
            "\tBlitz -- Starting time between 2 and 10 minutes\n",
            "\tRapid -- Starting time between 10 and 15 minutes\n",
            "\tClassical -- Starting time above 15 minutes or increment 2 minutes or higher\n",
            "\tCorrespondence -- No time information\n",
            "\t\n",
            "Total_moves: Total number of moves in the game\n",
            "\n",
            "Black_blunders: Number of blunders by the player with the black pieces (move annotation ?? in the PGN)\n",
            "\n",
            "White_blunders: Number of blunders by the player with the white pieces (move annotation ?? in the PGN)\n",
            "\n",
            "Black_mistakes: Number of mistakes by the player with the black pieces (move annotation ? in the PGN)\n",
            "\n",
            "White_mistakes: Number of mistakes by the player with the white pieces (move annotation ? in the PGN)\n",
            "\n",
            "Black_inaccuracies: Number of inaccuracies by the player with the black pieces (move annotation ?! in the PGN)\n",
            "\n",
            "White_inaccuracies: Number of inaccuracies by the player with the white pieces (move annotation ?! in the PGN)\n",
            "\n",
            "Black_inferior_moves: Black_blunders + Black_mistakes + Black_inaccuracies \n",
            "\n",
            "White_inferior_moves: White_blunders + White_mistakes + White_inaccuracies\n",
            "\n",
            "Black_ts_moves: Number of moves by the player with the black pieces in time scramble (remaining time less than or equal to 10% of the starting time)\n",
            "\n",
            "White_ts_moves: Number of moves by the player with the white pieces in time scramble (remaining time less than or equal to 10% of the starting time)\n",
            "\n",
            "Black_ts_blunders: Number of blunders by the player with the black pieces in time scramble (remaining time less than or equal to 10% of the starting time)\n",
            "\n",
            "White_ts_blunders: Number of blunders by the player with the white pieces in time scramble (remaining time less than or equal to 10% of the starting time)\n",
            "\n",
            "Black_ts_mistakes: Number of mistakes by the player with the black pieces in time scramble (remaining time less than or equal to 10% of the starting time)\n",
            "\n",
            "White_ts_mistakes: Number of mistakes by the player with the white pieces in time scramble (remaining time less than or equal to 10% of the starting time)\n",
            "\n",
            "Black_long_moves: Number of moves by the player with the black pieces that required more than 10% of the starting time\n",
            "\n",
            "White_long_moves: Number of moves by the player with the white pieces that required more than 10% of the starting time\n",
            "\n",
            "Black_bad_long_moves: Number of long moves by the player with the black pieces that were inferior\n",
            "\n",
            "White_bad_long_moves: Number of long moves by the player with the white pieces that were inferior \n",
            "\n",
            "Game_flips: Number of times in the game where the balance of the game changed\n",
            "\n",
            "Game_flips_ts: Number of times in the game where the balance of the game changed and the players were in time scramble\n",
            "\n",
            "\n",
            "\n",
            "\n",
            "\n",
            "\n"
          ]
        }
      ]
    },
    {
      "cell_type": "markdown",
      "source": [
        "## Spark"
      ],
      "metadata": {
        "id": "tHbCTsTR4S6e"
      }
    },
    {
      "cell_type": "code",
      "source": [
        "# Importation des éléments Spark\n",
        "from pyspark.sql.functions import col, when, isnull, count, max as spark_max, countDistinct, row_number, split, concat_ws\n",
        "from pyspark.sql.functions import col, when, floor\n",
        "from pyspark.sql.window import Window\n",
        "from pyspark.ml.feature import OneHotEncoder, StringIndexer\n",
        "from collections import defaultdict"
      ],
      "metadata": {
        "id": "uiPqfPJdY4Lx"
      },
      "execution_count": 57,
      "outputs": []
    },
    {
      "cell_type": "code",
      "source": [
        "findspark.init()\n",
        "spark = SparkSession.builder.master(\"local[*]\").getOrCreate()"
      ],
      "metadata": {
        "id": "YEcWzry24SZ4"
      },
      "execution_count": 58,
      "outputs": []
    },
    {
      "cell_type": "code",
      "source": [
        "sc = spark.sparkContext\n",
        "df_spark = spark.read.csv(filename, header=True, inferSchema=True)"
      ],
      "metadata": {
        "id": "wQTMYx5g4SXb"
      },
      "execution_count": 59,
      "outputs": []
    },
    {
      "cell_type": "code",
      "source": [
        "df_spark.printSchema()"
      ],
      "metadata": {
        "id": "-KMIg7qx4ihe",
        "colab": {
          "base_uri": "https://localhost:8080/"
        },
        "outputId": "3be909c6-a1b8-471d-d840-20eb1853e205"
      },
      "execution_count": 60,
      "outputs": [
        {
          "output_type": "stream",
          "name": "stdout",
          "text": [
            "root\n",
            " |-- GAME: integer (nullable = true)\n",
            " |-- BlackElo: integer (nullable = true)\n",
            " |-- BlackRatingDiff: integer (nullable = true)\n",
            " |-- Date: string (nullable = true)\n",
            " |-- ECO: string (nullable = true)\n",
            " |-- Event: string (nullable = true)\n",
            " |-- Opening: string (nullable = true)\n",
            " |-- Result: string (nullable = true)\n",
            " |-- Site: string (nullable = true)\n",
            " |-- Termination: string (nullable = true)\n",
            " |-- TimeControl: string (nullable = true)\n",
            " |-- UTCTime: timestamp (nullable = true)\n",
            " |-- WhiteElo: integer (nullable = true)\n",
            " |-- WhiteRatingDiff: integer (nullable = true)\n",
            " |-- Black_elo_category: string (nullable = true)\n",
            " |-- White_elo_category: string (nullable = true)\n",
            " |-- starting_time: integer (nullable = true)\n",
            " |-- increment: integer (nullable = true)\n",
            " |-- Game_type: string (nullable = true)\n",
            " |-- Total_moves: integer (nullable = true)\n",
            " |-- Black_blunders: integer (nullable = true)\n",
            " |-- White_blunders: integer (nullable = true)\n",
            " |-- Black_mistakes: integer (nullable = true)\n",
            " |-- White_mistakes: integer (nullable = true)\n",
            " |-- Black_inaccuracies: integer (nullable = true)\n",
            " |-- White_inaccuracies: integer (nullable = true)\n",
            " |-- Black_inferior_moves: integer (nullable = true)\n",
            " |-- White_inferior_moves: integer (nullable = true)\n",
            " |-- Black_ts_moves: integer (nullable = true)\n",
            " |-- White_ts_moves: integer (nullable = true)\n",
            " |-- Black_ts_blunders: integer (nullable = true)\n",
            " |-- White_ts_blunders: integer (nullable = true)\n",
            " |-- Black_ts_mistakes: integer (nullable = true)\n",
            " |-- White_ts_mistake: integer (nullable = true)\n",
            " |-- Black_long_moves: integer (nullable = true)\n",
            " |-- White_long_moves: integer (nullable = true)\n",
            " |-- Black_bad_long_moves: integer (nullable = true)\n",
            " |-- White_bad_long_moves: integer (nullable = true)\n",
            " |-- Game_flips: integer (nullable = true)\n",
            " |-- Game_flips_ts: integer (nullable = true)\n",
            "\n"
          ]
        }
      ]
    },
    {
      "cell_type": "code",
      "source": [
        "# nombre lignes\n",
        "df_spark.count()"
      ],
      "metadata": {
        "colab": {
          "base_uri": "https://localhost:8080/"
        },
        "id": "VrCaCyNT_rtu",
        "outputId": "2efa3ff8-ba71-41d1-839b-aed90e3c3eff"
      },
      "execution_count": 61,
      "outputs": [
        {
          "output_type": "execute_result",
          "data": {
            "text/plain": [
              "3739909"
            ]
          },
          "metadata": {},
          "execution_count": 61
        }
      ]
    },
    {
      "cell_type": "code",
      "source": [
        "df_spark.show(5)"
      ],
      "metadata": {
        "id": "XiSTXCRS4ife",
        "colab": {
          "base_uri": "https://localhost:8080/"
        },
        "outputId": "d8f5cd2f-a3df-487c-8372-97328c610d33"
      },
      "execution_count": 62,
      "outputs": [
        {
          "output_type": "stream",
          "name": "stdout",
          "text": [
            "+----+--------+---------------+----------+---+----------------+--------------------+------+--------------------+------------+-----------+-------------------+--------+---------------+------------------+------------------+-------------+---------+---------+-----------+--------------+--------------+--------------+--------------+------------------+------------------+--------------------+--------------------+--------------+--------------+-----------------+-----------------+-----------------+----------------+----------------+----------------+--------------------+--------------------+----------+-------------+\n",
            "|GAME|BlackElo|BlackRatingDiff|      Date|ECO|           Event|             Opening|Result|                Site| Termination|TimeControl|            UTCTime|WhiteElo|WhiteRatingDiff|Black_elo_category|White_elo_category|starting_time|increment|Game_type|Total_moves|Black_blunders|White_blunders|Black_mistakes|White_mistakes|Black_inaccuracies|White_inaccuracies|Black_inferior_moves|White_inferior_moves|Black_ts_moves|White_ts_moves|Black_ts_blunders|White_ts_blunders|Black_ts_mistakes|White_ts_mistake|Black_long_moves|White_long_moves|Black_bad_long_moves|White_bad_long_moves|Game_flips|Game_flips_ts|\n",
            "+----+--------+---------------+----------+---+----------------+--------------------+------+--------------------+------------+-----------+-------------------+--------+---------------+------------------+------------------+-------------+---------+---------+-----------+--------------+--------------+--------------+--------------+------------------+------------------+--------------------+--------------------+--------------+--------------+-----------------+-----------------+-----------------+----------------+----------------+----------------+--------------------+--------------------+----------+-------------+\n",
            "|  11|    1143|              6|2020.09.01|A02|Rated Blitz game|        Bird Opening|   0-1|https://lichess.o...|Time forfeit|      300+0|2024-12-31 00:00:00|    1180|             -7|        Low rating|        Low rating|          300|        0|    Blitz|         66|             4|             2|             0|             3|                 3|                 1|                   7|                   6|             8|             8|                0|                0|                0|               0|               2|               1|                   1|                   1|         8|            0|\n",
            "|  14|    1504|           NULL|2020.09.01|A04|Rated Blitz game|        Réti Opening|   0-1|https://lichess.o...|      Normal|      300+0|2024-12-31 00:00:00|    1381|           NULL|        Low rating|        Low rating|          300|        0|    Blitz|         64|             2|             1|             1|             1|                 7|                 5|                  10|                   7|             0|             0|                0|                0|                0|               0|               0|               1|                   0|                   0|         6|            0|\n",
            "|  29|    1933|              1|2020.09.01|C41|Rated Blitz game|    Philidor Defense|   0-1|https://lichess.o...|Time forfeit|      300+2|2024-12-31 00:00:00|    1485|             -1|       High rating|        Low rating|          300|        2|    Blitz|         70|             0|             1|             1|             2|                 8|                 8|                   9|                  11|             0|             2|                0|                0|                0|               0|               1|               1|                   1|                   0|         5|            0|\n",
            "|  40|    1710|             10|2020.09.01|B23|Rated Blitz game|Sicilian Defense:...|   0-1|https://lichess.o...|      Normal|      180+2|2024-12-31 00:00:00|    2040|            -11|        Low rating|       High rating|          180|        2|    Blitz|         86|             4|             2|             1|             5|                 3|                 4|                   8|                  11|            18|             0|                4|                0|                0|               0|               3|               1|                   1|                   0|         8|            1|\n",
            "|  55|    1598|             -1|2020.09.01|B03|Rated Rapid game|    Alekhine Defense|   1-0|https://lichess.o...|      Normal|      600+0|2024-12-31 00:00:00|    2163|              0|        Low rating|       High rating|          600|        0|    Rapid|         71|             1|             0|             1|             1|                 6|                 2|                   8|                   3|             0|             0|                0|                0|                0|               0|               0|               0|                   0|                   0|         2|            0|\n",
            "+----+--------+---------------+----------+---+----------------+--------------------+------+--------------------+------------+-----------+-------------------+--------+---------------+------------------+------------------+-------------+---------+---------+-----------+--------------+--------------+--------------+--------------+------------------+------------------+--------------------+--------------------+--------------+--------------+-----------------+-----------------+-----------------+----------------+----------------+----------------+--------------------+--------------------+----------+-------------+\n",
            "only showing top 5 rows\n",
            "\n"
          ]
        }
      ]
    },
    {
      "cell_type": "markdown",
      "source": [
        "## Préparation générale des données"
      ],
      "metadata": {
        "id": "NAcsmDlTdOWG"
      }
    },
    {
      "cell_type": "markdown",
      "source": [
        "#### Calcule des catégories"
      ],
      "metadata": {
        "id": "o89yf5WEXwQT"
      }
    },
    {
      "cell_type": "code",
      "source": [
        "# Ajout des catégories ELO\n",
        "# Catégorie ELO du joueur Noir\n",
        "df_spark_plus = df_spark.withColumn(\"Black_ELO_category\",\n",
        "                              when((col(\"BlackElo\") >= 1200) & (col(\"BlackElo\") <= 1499), \"occasional player\")\n",
        "                              .when((col(\"BlackElo\") >= 1500) & (col(\"BlackElo\") <= 1799), \"good club player\")\n",
        "                              .when((col(\"BlackElo\") >= 1800) & (col(\"BlackElo\") <= 1999), \"very good club player\")\n",
        "                              .when((col(\"BlackElo\") >= 2000) & (col(\"BlackElo\") <= 2399), \"national and international level\")\n",
        "                              .when((col(\"BlackElo\") >= 2400) & (col(\"BlackElo\") <= 2800), \"GMI, World Champions\")\n",
        "                              .when((col(\"BlackElo\") < 1200), \"other lower bound\")\n",
        "                              .otherwise(\"other upper bound\")\n",
        "                              )\n",
        "\n",
        "# Catégorie ELO du joueur Blanc\n",
        "df_spark_plus = df_spark_plus.withColumn(\"White_ELO_category\",\n",
        "                              when((col(\"WhiteElo\") >= 1200) & (col(\"WhiteElo\") <= 1499), \"occasional player\")\n",
        "                              .when((col(\"WhiteElo\") >= 1500) & (col(\"WhiteElo\") <= 1799), \"good club player\")\n",
        "                              .when((col(\"WhiteElo\") >= 1800) & (col(\"WhiteElo\") <= 1999), \"very good club player\")\n",
        "                              .when((col(\"WhiteElo\") >= 2000) & (col(\"WhiteElo\") <= 2399), \"national and international level\")\n",
        "                              .when((col(\"WhiteElo\") >= 2400) & (col(\"WhiteElo\") <= 2800), \"GMI, World Champions\")\n",
        "                              .when((col(\"WhiteElo\") < 1200), \"other lower bound\")\n",
        "                              .otherwise(\"other upper bound\")\n",
        "                              )\n",
        "\n",
        "# Catégorie ELO moyenne des 2 joueurs\n",
        "df_spark_plus = df_spark_plus.withColumn(\"Avg_ELO_category\", (col(\"BlackElo\") + col(\"WhiteElo\")) / 2)\n",
        "\n",
        "df_spark_plus = df_spark_plus.withColumn(\"Avg_ELO_category\",\n",
        "                              when((col(\"Avg_ELO_category\") >= 1200) & (col(\"Avg_ELO_category\") <= 1499), \"occasional player\")\n",
        "                              .when((col(\"Avg_ELO_category\") >= 1500) & (col(\"Avg_ELO_category\") <= 1799), \"good club player\")\n",
        "                              .when((col(\"Avg_ELO_category\") >= 1800) & (col(\"Avg_ELO_category\") <= 1999), \"very good club player\")\n",
        "                              .when((col(\"Avg_ELO_category\") >= 2000) & (col(\"Avg_ELO_category\") <= 2399), \"national and international level\")\n",
        "                              .when((col(\"Avg_ELO_category\") >= 2400) & (col(\"Avg_ELO_category\") <= 2800), \"GMI, World Champions\")\n",
        "                              .when((col(\"Avg_ELO_category\") < 1200), \"other lower bound\")\n",
        "                              .otherwise(\"other upper bound\")\n",
        "                              )"
      ],
      "metadata": {
        "id": "ypAzl9Gh6iWY"
      },
      "execution_count": 63,
      "outputs": []
    },
    {
      "cell_type": "code",
      "source": [
        "# vérifier combien de \"other\"\n",
        "other_lower_bound_black = df_spark_plus.filter(col(\"Black_ELO_category\") == \"other lower bound\").count()\n",
        "other_lower_bound_white = df_spark_plus.filter(col(\"White_ELO_category\") == \"other lower bound\").count()\n",
        "other_upper_bound_black = df_spark_plus.filter(col(\"Black_ELO_category\") == \"other upper bound\").count()\n",
        "other_upper_bound_white = df_spark_plus.filter(col(\"White_ELO_category\") == \"other upper bound\").count()\n",
        "print(f\"Nombre de parties avec other lower bound pour le joueur noir : {other_lower_bound_black}\")\n",
        "print(f\"Nombre de parties avec other lower bound pour le joueur blanc : {other_lower_bound_white}\")\n",
        "print(f\"Nombre de parties avec other upper bound pour le joueur noir : {other_upper_bound_black}\")\n",
        "print(f\"Nombre de parties avec other upper bound pour le joueur blanc : {other_upper_bound_white}\")"
      ],
      "metadata": {
        "id": "vdeN_nAW6iUQ",
        "colab": {
          "base_uri": "https://localhost:8080/"
        },
        "outputId": "409c6708-0a4e-4b60-957d-61490ccb98a4"
      },
      "execution_count": 64,
      "outputs": [
        {
          "output_type": "stream",
          "name": "stdout",
          "text": [
            "Nombre de parties avec other lower bound pour le joueur noir : 474566\n",
            "Nombre de parties avec other lower bound pour le joueur blanc : 477997\n",
            "Nombre de parties avec other upper bound pour le joueur noir : 1730\n",
            "Nombre de parties avec other upper bound pour le joueur blanc : 1721\n"
          ]
        }
      ]
    },
    {
      "cell_type": "code",
      "source": [
        "# répartition du nombre de parties pour avg\n",
        "avg_other_lower_bound = df_spark_plus.filter(col(\"Avg_ELO_category\") == \"other lower bound\").count()\n",
        "avg_occasional_player = df_spark_plus.filter(col(\"Avg_ELO_category\") == \"occasional player\").count()\n",
        "avg_good_club_player = df_spark_plus.filter(col(\"Avg_ELO_category\") == \"good club player\").count()\n",
        "avg_very_good_club_player = df_spark_plus.filter(col(\"Avg_ELO_category\") == \"very good club player\").count()\n",
        "avg_national_international_level = df_spark_plus.filter(col(\"Avg_ELO_category\") == \"national and international level\").count()\n",
        "avg_GMI_World_Champions = df_spark_plus.filter(col(\"Avg_ELO_category\") == \"GMI, World Champions\").count()\n",
        "avg_other_upper_bound = df_spark_plus.filter(col(\"Avg_ELO_category\") == \"other upper bound\").count()\n",
        "\n",
        "# répartition du nombre de parties quand les 2 joueurs sont dans la même catégorie\n",
        "same_player_other_lower_bound = df_spark_plus.filter((col(\"Black_ELO_category\") == \"other lower bound\") & (col(\"White_ELO_category\") == \"other lower bound\")).count()\n",
        "same_player_occasional_player = df_spark_plus.filter((col(\"Black_ELO_category\") == \"occasional player\") & (col(\"White_ELO_category\") == \"occasional player\")).count()\n",
        "same_player_good_club_player = df_spark_plus.filter((col(\"Black_ELO_category\") == \"good club player\") & (col(\"White_ELO_category\") == \"good club player\")).count()\n",
        "same_player_very_good_club_player = df_spark_plus.filter((col(\"Black_ELO_category\") == \"very good club player\") & (col(\"White_ELO_category\") == \"very good club player\")).count()\n",
        "same_player_national_international_level = df_spark_plus.filter((col(\"Black_ELO_category\") == \"national and international level\") & (col(\"White_ELO_category\") == \"national and international level\")).count()\n",
        "same_player_GMI_World_Champions = df_spark_plus.filter((col(\"Black_ELO_category\") == \"GMI, World Champions\") & (col(\"White_ELO_category\") == \"GMI, World Champions\")).count()\n",
        "same_player_other_upper_bound = df_spark_plus.filter((col(\"Black_ELO_category\") == \"other upper bound\") & (col(\"White_ELO_category\") == \"other upper bound\")).count()\n"
      ],
      "metadata": {
        "id": "IFVmQEXcF2ep"
      },
      "execution_count": 65,
      "outputs": []
    },
    {
      "cell_type": "code",
      "source": [
        "# Visualiser la répartition des catégories\n",
        "\n",
        "categories = [\n",
        "    \"other lower bound\", \"occasional player\", \"good club player\",\n",
        "    \"very good club player\", \"national and international level\", \"GMI, World Champions\",\n",
        "    \"other upper bound\"\n",
        "]\n",
        "avg_counts = [\n",
        "    avg_other_lower_bound, avg_occasional_player, avg_good_club_player,\n",
        "    avg_very_good_club_player, avg_national_international_level, avg_GMI_World_Champions,\n",
        "    avg_other_upper_bound\n",
        "]\n",
        "same_player_counts = [\n",
        "    same_player_other_lower_bound, same_player_occasional_player, same_player_good_club_player,\n",
        "    same_player_very_good_club_player, same_player_national_international_level, same_player_GMI_World_Champions,\n",
        "    same_player_other_upper_bound\n",
        "]\n",
        "\n",
        "df_counts = pd.DataFrame({\n",
        "    'Category': categories,\n",
        "    'Avg_ELO_category': avg_counts,\n",
        "    'Same_Player_ELO_category': same_player_counts\n",
        "})\n",
        "\n",
        "plt.figure(figsize=(12, 6))\n",
        "df_counts.set_index('Category')[['Avg_ELO_category', 'Same_Player_ELO_category']].plot(kind='bar', ax=plt.gca(), color=['skyblue', 'lightcoral'])\n",
        "plt.xlabel('ELO Categories', fontsize=12)\n",
        "plt.ylabel('Number of Games', fontsize=12)\n",
        "plt.title('Répartition du nombre de parties pour chaque catégorie d\\'ELO', fontsize=14)\n",
        "plt.xticks(rotation=45, ha='right')\n",
        "plt.legend(['Avg ELO Category', 'Same Player ELO Category'])\n",
        "plt.tight_layout()\n",
        "plt.show()"
      ],
      "metadata": {
        "colab": {
          "base_uri": "https://localhost:8080/",
          "height": 607
        },
        "id": "nzgBXJ82CU2G",
        "outputId": "a937e12b-7dab-4db2-fac9-d2cdfb6a5916"
      },
      "execution_count": 66,
      "outputs": [
        {
          "output_type": "display_data",
          "data": {
            "text/plain": [
              "<Figure size 1200x600 with 1 Axes>"
            ],
            "image/png": "[encoded data removed]"
          },
          "metadata": {}
        }
      ]
    },
    {
      "cell_type": "code",
      "source": [
        "# TODO faire des commentaires\n",
        "#\n",
        "# -> sous représentation des other upper bound ..."
      ],
      "metadata": {
        "id": "MD8l96gHHwCk"
      },
      "execution_count": 67,
      "outputs": []
    },
    {
      "cell_type": "code",
      "source": [
        "# Compter le nombre de moves pour chaque joueur (c'est White qui commence)\n",
        "df_spark_plus = df_spark_plus.withColumn(\"white_moves\",\n",
        "                                         when(col(\"Total_moves\") % 2 == 0, col(\"Total_moves\") / 2)\n",
        "                                         .otherwise(floor(col(\"Total_moves\") / 2) + 1)\n",
        "                                         )\n",
        "df_spark_plus = df_spark_plus.withColumn(\"black_moves\",\n",
        "                                         when(col(\"Total_moves\") % 2 == 0, col(\"Total_moves\") / 2)\n",
        "                                         .otherwise(floor(col(\"Total_moves\") / 2))\n",
        "                                         )"
      ],
      "metadata": {
        "id": "Wqo_RBUW7UzI"
      },
      "execution_count": 68,
      "outputs": []
    },
    {
      "cell_type": "code",
      "source": [
        "df_spark_plus.select(\"Total_moves\", \"white_moves\", \"black_moves\").show(5)"
      ],
      "metadata": {
        "colab": {
          "base_uri": "https://localhost:8080/"
        },
        "id": "e-NpaXh38W9m",
        "outputId": "220edd02-153d-4214-fcc6-814270edf4f6"
      },
      "execution_count": 69,
      "outputs": [
        {
          "output_type": "stream",
          "name": "stdout",
          "text": [
            "+-----------+-----------+-----------+\n",
            "|Total_moves|white_moves|black_moves|\n",
            "+-----------+-----------+-----------+\n",
            "|         66|       33.0|       33.0|\n",
            "|         64|       32.0|       32.0|\n",
            "|         70|       35.0|       35.0|\n",
            "|         86|       43.0|       43.0|\n",
            "|         71|       36.0|       35.0|\n",
            "+-----------+-----------+-----------+\n",
            "only showing top 5 rows\n",
            "\n"
          ]
        }
      ]
    },
    {
      "cell_type": "markdown",
      "source": [
        "## Question 1"
      ],
      "metadata": {
        "id": "T74gZM0NPDmJ"
      }
    },
    {
      "cell_type": "markdown",
      "source": [
        "*Q1: What is the rate of blunders, errors and inaccuracies per move, per level category and on Blitz type games (Blitz type is by far the most played on these online sites). A game has two players, whose ELOs are most likely different. You will be able to classify a game into a category, either by considering the average ELO of both players, or by considering only the games where both players are in the same category.*"
      ],
      "metadata": {
        "id": "0XEtPJrWOqkm"
      }
    },
    {
      "cell_type": "markdown",
      "source": [
        "Hypothèse : Les joueurs appartenant à des catégories plus expérimentées devraient présenter un taux d'erreurs plus faible."
      ],
      "metadata": {
        "id": "GljHcFnAbLcJ"
      }
    },
    {
      "cell_type": "code",
      "source": [
        "# Filtre les parties avec le type de jeu Blitz\n",
        "df_blitz = df_spark_plus.filter(col(\"Game_type\") == \"Blitz\")\n",
        "df_blitz.count()"
      ],
      "metadata": {
        "id": "oRA97x6ZQFls",
        "colab": {
          "base_uri": "https://localhost:8080/"
        },
        "outputId": "444a5153-2e6c-4088-8ea7-09bdfbb8170b"
      },
      "execution_count": 70,
      "outputs": [
        {
          "output_type": "execute_result",
          "data": {
            "text/plain": [
              "1812120"
            ]
          },
          "metadata": {},
          "execution_count": 70
        }
      ]
    },
    {
      "cell_type": "markdown",
      "source": [
        "#### Calcule des taux"
      ],
      "metadata": {
        "id": "hQv8TwoKXrxT"
      }
    },
    {
      "cell_type": "code",
      "source": [
        "# Calcule taux de bourdes (blunders)\n",
        "df_blitz = df_blitz.withColumn(\"Black_blunders_rate\", col(\"Black_blunders\") / col(\"black_moves\")) \\\n",
        "                   .withColumn(\"White_blunders_rate\", col(\"White_blunders\") / col(\"white_moves\"))"
      ],
      "metadata": {
        "id": "rBnGnO-5QbsD"
      },
      "execution_count": 71,
      "outputs": []
    },
    {
      "cell_type": "code",
      "source": [
        "# Calcule taux d'erreurs (errors)\n",
        "df_blitz = df_blitz.withColumn(\"Black_errors_rate\", col(\"Black_mistakes\") / col(\"black_moves\")) \\\n",
        "                   .withColumn(\"White_errors_rate\", col(\"White_mistakes\") / col(\"white_moves\"))"
      ],
      "metadata": {
        "id": "ZxP7iixpRX06"
      },
      "execution_count": 72,
      "outputs": []
    },
    {
      "cell_type": "code",
      "source": [
        "# Calcule taux d'imprecisions (inaccurcies)\n",
        "df_blitz = df_blitz.withColumn(\"Black_inaccuracies_rate\", col(\"Black_inaccuracies\") / col(\"black_moves\")) \\\n",
        "                   .withColumn(\"White_inaccuracies_rate\", col(\"White_inaccuracies\") / col(\"white_moves\"))"
      ],
      "metadata": {
        "id": "xI1qobZ_R_CU"
      },
      "execution_count": 73,
      "outputs": []
    },
    {
      "cell_type": "markdown",
      "source": [
        "#### Classification des parties (on considère le score ELO moyen des 2 joueurs)"
      ],
      "metadata": {
        "id": "pEG83zrNXzT6"
      }
    },
    {
      "cell_type": "code",
      "source": [
        "df_avg_elo_summary = df_blitz.groupBy(\"Avg_ELO_category\").agg(\n",
        "    {\"Black_blunders_rate\": \"avg\", \"White_blunders_rate\": \"avg\",\n",
        "     \"Black_errors_rate\": \"avg\", \"White_errors_rate\": \"avg\",\n",
        "     \"Black_inaccuracies_rate\": \"avg\", \"White_inaccuracies_rate\": \"avg\"}\n",
        ").withColumnRenamed(\"avg(Black_blunders_rate)\", \"Avg_Black_blunders_rate\") \\\n",
        " .withColumnRenamed(\"avg(White_blunders_rate)\", \"Avg_White_blunders_rate\") \\\n",
        " .withColumnRenamed(\"avg(Black_errors_rate)\", \"Avg_Black_errors_rate\") \\\n",
        " .withColumnRenamed(\"avg(White_errors_rate)\", \"Avg_White_errors_rate\") \\\n",
        " .withColumnRenamed(\"avg(Black_inaccuracies_rate)\", \"Avg_Black_inaccuracies_rate\") \\\n",
        " .withColumnRenamed(\"avg(White_inaccuracies_rate)\", \"Avg_White_inaccuracies_rate\")"
      ],
      "metadata": {
        "id": "pdklkG0cX6Zh"
      },
      "execution_count": 74,
      "outputs": []
    },
    {
      "cell_type": "code",
      "source": [
        "df_avg_elo_summary.show(5)"
      ],
      "metadata": {
        "colab": {
          "base_uri": "https://localhost:8080/"
        },
        "id": "oUmnTnbIPxTX",
        "outputId": "5943e219-c880-4b1c-adcd-5175a73af861"
      },
      "execution_count": 75,
      "outputs": [
        {
          "output_type": "stream",
          "name": "stdout",
          "text": [
            "+--------------------+---------------------------+-----------------------+---------------------+---------------------+-----------------------+---------------------------+\n",
            "|    Avg_ELO_category|Avg_White_inaccuracies_rate|Avg_White_blunders_rate|Avg_Black_errors_rate|Avg_White_errors_rate|Avg_Black_blunders_rate|Avg_Black_inaccuracies_rate|\n",
            "+--------------------+---------------------------+-----------------------+---------------------+---------------------+-----------------------+---------------------------+\n",
            "|   other upper bound|        0.08923646820987065|   0.053883314861216475|  0.09786062988127485|  0.09316825168156774|    0.05713253835834972|        0.09422886449242146|\n",
            "|   other lower bound|        0.09123664425761414|    0.09505881705406403|  0.11316469323850303|  0.10800044716165165|    0.09865934120262021|        0.09602531148536161|\n",
            "|GMI, World Champions|        0.07247529070529041|    0.03077546627182289|  0.06824732477795835|  0.06620118207859484|    0.03325752004748459|         0.0774731883738546|\n",
            "|very good club pl...|        0.08844571685155392|    0.04855612537788302|  0.09295170486304197|   0.0909842906123529|    0.05123485093711867|        0.09472554219716672|\n",
            "|    good club player|        0.09093954331324328|    0.05938955675514127|  0.10091977180018212|  0.09810289300309284|   0.062224417146813066|        0.09697079506921225|\n",
            "+--------------------+---------------------------+-----------------------+---------------------+---------------------+-----------------------+---------------------------+\n",
            "only showing top 5 rows\n",
            "\n"
          ]
        }
      ]
    },
    {
      "cell_type": "code",
      "source": [
        "df_avg_elo_summary_pandas = df_avg_elo_summary.toPandas()"
      ],
      "metadata": {
        "id": "GsfB62FrYR55"
      },
      "execution_count": 76,
      "outputs": []
    },
    {
      "cell_type": "code",
      "source": [
        "df_avg_elo_summary_pandas.isna().sum()"
      ],
      "metadata": {
        "colab": {
          "base_uri": "https://localhost:8080/",
          "height": 300
        },
        "id": "HmO5nsP2a2Fz",
        "outputId": "db96b5fe-fc34-4ea0-f6cb-43b742259d0c"
      },
      "execution_count": 77,
      "outputs": [
        {
          "output_type": "execute_result",
          "data": {
            "text/plain": [
              "Avg_ELO_category               0\n",
              "Avg_White_inaccuracies_rate    0\n",
              "Avg_White_blunders_rate        0\n",
              "Avg_Black_errors_rate          0\n",
              "Avg_White_errors_rate          0\n",
              "Avg_Black_blunders_rate        0\n",
              "Avg_Black_inaccuracies_rate    0\n",
              "dtype: int64"
            ],
            "text/html": [
              "<div>\n",
              "<style scoped>\n",
              "    .dataframe tbody tr th:only-of-type {\n",
              "        vertical-align: middle;\n",
              "    }\n",
              "\n",
              "    .dataframe tbody tr th {\n",
              "        vertical-align: top;\n",
              "    }\n",
              "\n",
              "    .dataframe thead th {\n",
              "        text-align: right;\n",
              "    }\n",
              "</style>\n",
              "<table border=\"1\" class=\"dataframe\">\n",
              "  <thead>\n",
              "    <tr style=\"text-align: right;\">\n",
              "      <th></th>\n",
              "      <th>0</th>\n",
              "    </tr>\n",
              "  </thead>\n",
              "  <tbody>\n",
              "    <tr>\n",
              "      <th>Avg_ELO_category</th>\n",
              "      <td>0</td>\n",
              "    </tr>\n",
              "    <tr>\n",
              "      <th>Avg_White_inaccuracies_rate</th>\n",
              "      <td>0</td>\n",
              "    </tr>\n",
              "    <tr>\n",
              "      <th>Avg_White_blunders_rate</th>\n",
              "      <td>0</td>\n",
              "    </tr>\n",
              "    <tr>\n",
              "      <th>Avg_Black_errors_rate</th>\n",
              "      <td>0</td>\n",
              "    </tr>\n",
              "    <tr>\n",
              "      <th>Avg_White_errors_rate</th>\n",
              "      <td>0</td>\n",
              "    </tr>\n",
              "    <tr>\n",
              "      <th>Avg_Black_blunders_rate</th>\n",
              "      <td>0</td>\n",
              "    </tr>\n",
              "    <tr>\n",
              "      <th>Avg_Black_inaccuracies_rate</th>\n",
              "      <td>0</td>\n",
              "    </tr>\n",
              "  </tbody>\n",
              "</table>\n",
              "</div><br><label><b>dtype:</b> int64</label>"
            ]
          },
          "metadata": {},
          "execution_count": 77
        }
      ]
    },
    {
      "cell_type": "code",
      "source": [
        "# Ordonner les catégories de joueurs\n",
        "category_order = [\"other lower bound\", \"occasional player\", \"good club player\", \"very good club player\",\n",
        "                  \"national and international level\", \"GMI, World Champions\", \"other upper bound\"]\n",
        "df_avg_elo_summary_pandas['Avg_ELO_category'] = pd.Categorical(df_avg_elo_summary_pandas['Avg_ELO_category'],  categories=category_order,  ordered=True)\n",
        "df_avg_elo_summary_pandas = df_avg_elo_summary_pandas.sort_values('Avg_ELO_category')\n",
        "\n",
        "\n",
        "categories = df_avg_elo_summary_pandas['Avg_ELO_category']\n",
        "error_types = ['Blunders', 'Errors', 'Inaccuracies']\n",
        "\n",
        "# Données par type d'erreur et catégorie\n",
        "blunders = df_avg_elo_summary_pandas[['Avg_Black_blunders_rate', 'Avg_White_blunders_rate']].mean(axis=1)*100\n",
        "mistakes = df_avg_elo_summary_pandas[['Avg_Black_errors_rate', 'Avg_White_errors_rate']].mean(axis=1)*100\n",
        "inaccuracies = df_avg_elo_summary_pandas[['Avg_Black_inaccuracies_rate', 'Avg_White_inaccuracies_rate']].mean(axis=1)*100\n",
        "\n",
        "# Matrice (erreurs x catégorie)\n",
        "data = np.array([blunders, mistakes, inaccuracies]).T"
      ],
      "metadata": {
        "id": "Ff1S4mlyYblk"
      },
      "execution_count": 78,
      "outputs": []
    },
    {
      "cell_type": "code",
      "source": [
        "# Graphique\n",
        "plt.figure(figsize=(14, 8))\n",
        "x = np.arange(len(error_types))\n",
        "bar_width = 0.1\n",
        "\n",
        "for i, category in enumerate(categories):\n",
        "    plt.bar(x + i * bar_width, data[i], width=bar_width, label=str(category))\n",
        "\n",
        "plt.xlabel('Taux de fautes')\n",
        "plt.ylabel('Pourcentage de taux moyen')\n",
        "plt.title('Moyenne des taux de fautes par catégorie (Catégorie moyenne)')\n",
        "plt.xticks(x + bar_width * (len(categories) - 1) / 2, error_types)\n",
        "plt.legend(title=\"Catégorie ELO\")\n",
        "plt.tight_layout()\n",
        "plt.show()"
      ],
      "metadata": {
        "colab": {
          "base_uri": "https://localhost:8080/",
          "height": 782
        },
        "id": "kTpkiqb2cMMX",
        "outputId": "01e0455c-0206-4681-9b26-70e169a19325"
      },
      "execution_count": 79,
      "outputs": [
        {
          "output_type": "display_data",
          "data": {
            "text/plain": [
              "<Figure size 1400x800 with 1 Axes>"
            ],
            "image/png": "[encoded data removed]"
          },
          "metadata": {}
        }
      ]
    },
    {
      "cell_type": "markdown",
      "source": [
        "##### Analyse des taux de blunders, errors et inaccuracies selon les catégories d'ELO\n",
        "\n",
        "Lorsqu'on analyse les taux de blunders, errors et inaccuracies en fonction des différentes catégories d'ELO, plusieurs tendances intéressantes émergent. En excluant la catégorie \"Other Upper Bound\", on observe une diminution progressive des blunders à mesure que les catégories augmentent, avec une chute marquée qui devient moins prononcée à mesure que l'on se rapproche des catégories les plus élevées. Cela suggère qu'il y a une réelle amélioration dans la qualité des parties au fur et à mesure que le niveau des joueurs augmente, bien que l'effet de cette amélioration soit moins évident pour les catégories les plus expérimentées.\n",
        "\n",
        "Concernant les erreurs (errors), la diminution est relativement constante à travers les catégories, mais on remarque une chute plus importante lorsque l'on atteint les deux meilleures catégories (\"National and International Level\" et \"GMI, World Champions\"). Cela indique une amélioration notable dans la gestion des erreurs pour les joueurs de niveau supérieur.\n",
        "\n",
        "Quant aux inexactitudes (inaccuracies), la tendance reste assez stable pour les premières catégories, avec une baisse qui s'accélère à mesure que l'on approche des deux catégories les plus élevées. Cette tendance suggère également une amélioration du jeu des joueurs plus expérimentés.\n",
        "\n",
        "En résumé, les taux diminuent sensiblement à mesure que l'on progresse dans les catégories d'ELO, avec une amélioration plus marquée dans les catégories \"National and International Level\" et \"GMI, World Champions\", ce qui reflète probablement un meilleur contrôle stratégique et une plus grande expérience des joueurs.\n",
        "\n",
        "##### Analyse de la catégorie \"Other Upper Bound\"\n",
        "Lorsqu'on considère la catégorie \"Other Upper Bound\", une tendance différente se dessine. Les taux de blunders, errors et inaccuracies semblent augmenter pour atteindre une valeur entre celle des catégories \"Good Club Player\" et \"Very Good Club Player\". Cette anomalie pourrait suggérer plusieurs pistes d'interprétation. Tout d'abord, il est possible que cette catégorie contienne des données qui ne sont pas représentatives du reste des catégories en raison d'un échantillon trop faible ou non nettoyé correctement. Une autre hypothèse pourrait être que la performance des joueurs dans cette catégorie est influencée par la moyenne des ELO des deux joueurs, et non seulement par l'ELO individuel. Par exemple, un joueur avec un ELO élevé qui affronte un adversaire de niveau inférieur pourrait être amené à prendre plus de risques ou adopter des stratégies différentes, ce qui expliquerait certains résultats. De plus, il est possible qu'une partie classée dans la catégorie \"Other upper bound\" n'inclue qu'un seul joueur avec un ELO très élevé, ce qui fausse la moyenne des deux scores ELO et pourrait influencer l'analyse des performances."
      ],
      "metadata": {
        "id": "JF6InvGrNm7z"
      }
    },
    {
      "cell_type": "markdown",
      "source": [
        "#### Classification des parties (ici on considère seulement les parties où les joueurs sont dans la même catégorie)\n"
      ],
      "metadata": {
        "id": "it5jufdcX3K8"
      }
    },
    {
      "cell_type": "code",
      "source": [
        "df_same_category = df_blitz.filter(col(\"Black_ELO_category\") == col(\"White_ELO_category\"))"
      ],
      "metadata": {
        "id": "iUfv1BQDX224"
      },
      "execution_count": 80,
      "outputs": []
    },
    {
      "cell_type": "code",
      "source": [
        "tot_blitz = df_blitz.count()\n",
        "tot_same_cat = df_same_category.count()\n",
        "print(f\"Nombre de parties total : {tot_blitz}\")\n",
        "print(f\"Nombre de parties avec 2 joueurs de la même catégorie : {tot_blitz}\")\n",
        "print(f\"Pourcentage même catégorie : {tot_same_cat / tot_blitz * 100} %\")"
      ],
      "metadata": {
        "colab": {
          "base_uri": "https://localhost:8080/"
        },
        "id": "Wwa42HNxhrYe",
        "outputId": "75c62a91-de76-4c34-e736-59649eca254d"
      },
      "execution_count": 81,
      "outputs": [
        {
          "output_type": "stream",
          "name": "stdout",
          "text": [
            "Nombre de parties total : 1812120\n",
            "Nombre de parties avec 2 joueurs de la même catégorie : 1812120\n",
            "Pourcentage même catégorie : 77.09219036266914 %\n"
          ]
        }
      ]
    },
    {
      "cell_type": "code",
      "source": [
        "# TODO : expliquer qu'on introduit un biais (comme pour le avg ducoup enfaite...)\n",
        "# poru avg dire qu'on devrait un peu étudier l'écrat type peut etre ?"
      ],
      "metadata": {
        "id": "ZCJU38ziDDA-"
      },
      "execution_count": 82,
      "outputs": []
    },
    {
      "cell_type": "code",
      "source": [
        "df_same_category_summary = df_same_category.groupBy(\"Black_ELO_category\").agg(\n",
        "    {\"Black_blunders_rate\": \"avg\", \"White_blunders_rate\": \"avg\",\n",
        "     \"Black_errors_rate\": \"avg\", \"White_errors_rate\": \"avg\",\n",
        "     \"Black_inaccuracies_rate\": \"avg\", \"White_inaccuracies_rate\": \"avg\"}\n",
        ").withColumnRenamed(\"avg(Black_blunders_rate)\", \"Avg_Black_blunders_rate\") \\\n",
        " .withColumnRenamed(\"avg(White_blunders_rate)\", \"Avg_White_blunders_rate\") \\\n",
        " .withColumnRenamed(\"avg(Black_errors_rate)\", \"Avg_Black_errors_rate\") \\\n",
        " .withColumnRenamed(\"avg(White_errors_rate)\", \"Avg_White_errors_rate\") \\\n",
        " .withColumnRenamed(\"avg(Black_inaccuracies_rate)\", \"Avg_Black_inaccuracies_rate\") \\\n",
        " .withColumnRenamed(\"avg(White_inaccuracies_rate)\", \"Avg_White_inaccuracies_rate\")"
      ],
      "metadata": {
        "id": "8E8WMVXZYBf6"
      },
      "execution_count": 83,
      "outputs": []
    },
    {
      "cell_type": "code",
      "source": [
        "df_same_category_summary_pandas = df_same_category_summary.toPandas()"
      ],
      "metadata": {
        "id": "l_Ye8JmudLX7"
      },
      "execution_count": 84,
      "outputs": []
    },
    {
      "cell_type": "code",
      "source": [
        "# Ordonner les catégories de joueurs\n",
        "category_order = [\"other lower bound\", \"occasional player\", \"good club player\", \"very good club player\",\n",
        "                  \"national and international level\", \"GMI, World Champions\", \"other upper bound\"]\n",
        "df_same_category_summary_pandas['Black_ELO_category'] = pd.Categorical(df_same_category_summary_pandas['Black_ELO_category'],  categories=category_order,  ordered=True)\n",
        "df_same_category_summary_pandas = df_same_category_summary_pandas.sort_values('Black_ELO_category')\n",
        "\n",
        "\n",
        "categories = df_same_category_summary_pandas['Black_ELO_category']\n",
        "error_types = ['Blunders', 'Errors', 'Inaccuracies']\n",
        "\n",
        "# Données par type d'erreur et catégorie (moyenne) # TODO : Voir si on fait autrement\n",
        "blunders = df_same_category_summary_pandas[['Avg_Black_blunders_rate', 'Avg_White_blunders_rate']].mean(axis=1)*100\n",
        "mistakes = df_same_category_summary_pandas[['Avg_Black_errors_rate', 'Avg_White_errors_rate']].mean(axis=1)*100\n",
        "inaccuracies = df_same_category_summary_pandas[['Avg_Black_inaccuracies_rate', 'Avg_White_inaccuracies_rate']].mean(axis=1)*100\n",
        "\n",
        "# Matrice (erreurs x catégorie)\n",
        "data = np.array([blunders, mistakes, inaccuracies]).T"
      ],
      "metadata": {
        "id": "WtSEk6uMfAnG"
      },
      "execution_count": 85,
      "outputs": []
    },
    {
      "cell_type": "code",
      "source": [
        "# Graphique\n",
        "plt.figure(figsize=(14, 8))\n",
        "x = np.arange(len(error_types))\n",
        "bar_width = 0.1\n",
        "for i, category in enumerate(categories):\n",
        "    plt.bar(x + i * bar_width, data[i], width=bar_width, label=str(category))\n",
        "\n",
        "plt.xlabel('Type de fautes')\n",
        "plt.ylabel('Pourcentage de taux moyen')\n",
        "plt.title('Moyenne des taux de fautes par catégorie (Même catégorie entre les joueurs)')\n",
        "plt.xticks(x + bar_width * (len(categories) - 1) / 2, error_types)\n",
        "plt.legend(title=\"Catégorie ELO\")\n",
        "plt.tight_layout()\n",
        "plt.show()"
      ],
      "metadata": {
        "colab": {
          "base_uri": "https://localhost:8080/",
          "height": 782
        },
        "id": "zKlJ7m2AeUJA",
        "outputId": "7b49514e-2117-4a5f-93f7-7e82ce18303a"
      },
      "execution_count": 86,
      "outputs": [
        {
          "output_type": "display_data",
          "data": {
            "text/plain": [
              "<Figure size 1400x800 with 1 Axes>"
            ],
            "image/png": "[encoded data removed]"
          },
          "metadata": {}
        }
      ]
    },
    {
      "cell_type": "markdown",
      "source": [
        "Pour les parties où les deux joueurs appartiennent à la même catégorie, les observations sont similaires à celles faites pour la moyenne des ELO des joueurs. Cependant, pour la catégorie \"Other upper bound\", on ne constate pas de réaugmentation des erreurs et inexactitudes, ce qui confirme que la moyenne des ELO des deux joueurs influençait les résultats dans cette catégorie. En revanche, une légère réaugmentation des blunders est observée entre les catégories \"National and International level\" et \"GMI, World Champions\"."
      ],
      "metadata": {
        "id": "zANho_i7QPRs"
      }
    },
    {
      "cell_type": "markdown",
      "source": [
        "#### Résultats"
      ],
      "metadata": {
        "id": "M8vNfmy-g0d7"
      }
    },
    {
      "cell_type": "markdown",
      "source": [
        "- Même résultats par moyenne ou seulement les joueurs ayant la même catégorie.\n",
        "- Tous les types de fautes ont tendances à diminuer plus le niveau augmente (taux diminue)\n",
        "- En accord avec l'hypothèse"
      ],
      "metadata": {
        "id": "v5acBCPUg3nC"
      }
    },
    {
      "cell_type": "markdown",
      "source": [
        "### Question 2"
      ],
      "metadata": {
        "id": "YGmM--xUgI7N"
      }
    },
    {
      "cell_type": "code",
      "source": [
        "# TODO texte\n",
        "# je capte pas pourquoi ECO ? genre ils mentionnent pas ECO dans l'énoncé donc on peut dire qu'on fait l'assertion d'utiliser que Opening ?\n",
        "# ou alors on expliue un peu plus en amont pcq juste \"alignés\" c'est pas super clair"
      ],
      "metadata": {
        "id": "VwuPZf0__umf"
      },
      "execution_count": 87,
      "outputs": []
    },
    {
      "cell_type": "markdown",
      "source": [
        "Les Opening et ECO coressepondent aux ouvertures, nous regardons s'ils sont alignés."
      ],
      "metadata": {
        "id": "41P8vKRnZ6kH"
      }
    },
    {
      "cell_type": "code",
      "source": [
        "# Nombre valeurs opening\n",
        "print(f\"Nombre de valeurs opening : {df_spark.select('Opening').distinct().count()}\")\n",
        "print(f\"Nombre de valeurs ECO : {df_spark.select('ECO').distinct().count()}\")"
      ],
      "metadata": {
        "colab": {
          "base_uri": "https://localhost:8080/"
        },
        "id": "KfgPipGf5Fdo",
        "outputId": "800fc419-6e06-44c7-e124-6ea08cd1117a"
      },
      "execution_count": 88,
      "outputs": [
        {
          "output_type": "stream",
          "name": "stdout",
          "text": [
            "Nombre de valeurs opening : 2790\n",
            "Nombre de valeurs ECO : 492\n"
          ]
        }
      ]
    },
    {
      "cell_type": "code",
      "source": [
        "#  Checker si les colonnes ECO et Opening sont toujours alignées\n",
        "alignment_check_1 = df_spark.groupBy(\"ECO\").agg(countDistinct(\"Opening\").alias(\"Unique_Openings\"))\n",
        "misaligned_rows_1 = alignment_check_1.filter(col(\"Unique_Openings\") > 1)"
      ],
      "metadata": {
        "id": "pn4f69Fx17ju"
      },
      "execution_count": 89,
      "outputs": []
    },
    {
      "cell_type": "code",
      "source": [
        "# Afficher les résultats\n",
        "if misaligned_rows_1.count() > 0:\n",
        "    print(\"Il existe plusieurs Openings pour un code ECO.\")\n",
        "    misaligned_rows_1.show(5)\n",
        "    print(\"Nombre de lignes : \", misaligned_rows_1.count())\n",
        "else:\n",
        "    print(\"Il existe un seul Opening pour un code ECO.\")"
      ],
      "metadata": {
        "colab": {
          "base_uri": "https://localhost:8080/"
        },
        "id": "Gu0Edcv32tO5",
        "outputId": "d66ecd58-1341-4fc8-da01-3b3cec056562"
      },
      "execution_count": 90,
      "outputs": [
        {
          "output_type": "stream",
          "name": "stdout",
          "text": [
            "Il existe plusieurs Openings pour un code ECO.\n",
            "+---+---------------+\n",
            "|ECO|Unique_Openings|\n",
            "+---+---------------+\n",
            "|B05|              4|\n",
            "|B79|              2|\n",
            "|A47|              3|\n",
            "|E83|              3|\n",
            "|B34|              3|\n",
            "+---+---------------+\n",
            "only showing top 5 rows\n",
            "\n",
            "Nombre de lignes :  353\n"
          ]
        }
      ]
    },
    {
      "cell_type": "code",
      "source": [
        "#  Checker si les colonnes ECO et Opening sont toujours alignées\n",
        "alignment_check_2 = df_spark.groupBy(\"Opening\").agg(countDistinct(\"ECO\").alias(\"Unique_ECOs\"))\n",
        "misaligned_rows_2 = alignment_check_2.filter(col(\"Unique_ECOs\") > 1)"
      ],
      "metadata": {
        "id": "XPLNZ7I_2wm2"
      },
      "execution_count": 91,
      "outputs": []
    },
    {
      "cell_type": "code",
      "source": [
        "# Afficher les résultats\n",
        "if misaligned_rows_2.count() > 0:\n",
        "    print(\"Il existe plusieurs ECO pour un code Opening.\")\n",
        "    misaligned_rows_2.show(5)\n",
        "    print(\"Nombre de lignes : \", misaligned_rows_2.count())\n",
        "else:\n",
        "    print(\"Il existe un seul ECO pour un code Opening.\")"
      ],
      "metadata": {
        "colab": {
          "base_uri": "https://localhost:8080/"
        },
        "id": "o-1nR4KR3f8j",
        "outputId": "91dbb3c4-4362-4ca2-d882-c8141e545eaa"
      },
      "execution_count": 92,
      "outputs": [
        {
          "output_type": "stream",
          "name": "stdout",
          "text": [
            "Il existe plusieurs ECO pour un code Opening.\n",
            "+--------------------+-----------+\n",
            "|             Opening|Unique_ECOs|\n",
            "+--------------------+-----------+\n",
            "|  St. George Defense|          2|\n",
            "|Nimzo-Indian Defe...|          5|\n",
            "|        Torre Attack|          2|\n",
            "|   Caro-Kann Defense|          4|\n",
            "|Sicilian Defense:...|          2|\n",
            "+--------------------+-----------+\n",
            "only showing top 5 rows\n",
            "\n",
            "Nombre de lignes :  95\n"
          ]
        }
      ]
    },
    {
      "cell_type": "markdown",
      "source": [
        "Beaucoup de Opening et ECO ne sont pas alignés, nous allons regarder si ce sont des erreurs."
      ],
      "metadata": {
        "id": "RZaOgJPZaC4H"
      }
    },
    {
      "cell_type": "code",
      "source": [
        "# Filtrer pour les ouvertures ayant plusieurs ECO\n",
        "misaligned_rows_2 = alignment_check_2.filter(col(\"Unique_ECOs\") > 1)\n",
        "opening_eco_counts = df_spark.groupBy(\"Opening\", \"ECO\").agg(count(\"*\").alias(\"count\"))\n",
        "multiple_opening_eco_counts = misaligned_rows_2.join(opening_eco_counts, on=\"Opening\", how=\"inner\")\n",
        "multiple_opening_eco_counts.orderBy(\"Opening\", \"count\", ascending=False).show(truncate=False)\n"
      ],
      "metadata": {
        "colab": {
          "base_uri": "https://localhost:8080/"
        },
        "id": "Qb3pNGYNQk5g",
        "outputId": "b39a0921-39ff-4ff7-dc89-9e06103dca9b"
      },
      "execution_count": 93,
      "outputs": [
        {
          "output_type": "stream",
          "name": "stdout",
          "text": [
            "+------------------------------------------------------------------------+-----------+---+-----+\n",
            "|Opening                                                                 |Unique_ECOs|ECO|count|\n",
            "+------------------------------------------------------------------------+-----------+---+-----+\n",
            "|Vienna Game: Vienna Gambit                                              |2          |C28|3648 |\n",
            "|Vienna Game: Vienna Gambit                                              |2          |C25|1193 |\n",
            "|Torre Attack                                                            |2          |A46|1704 |\n",
            "|Torre Attack                                                            |2          |A48|1587 |\n",
            "|St. George Defense                                                      |2          |B00|4265 |\n",
            "|St. George Defense                                                      |2          |C00|690  |\n",
            "|Slav Defense: Exchange Variation                                        |2          |D10|5637 |\n",
            "|Slav Defense: Exchange Variation                                        |2          |D13|1076 |\n",
            "|Sicilian Defense: Scheveningen Variation, Classical Variation           |2          |B84|944  |\n",
            "|Sicilian Defense: Scheveningen Variation, Classical Variation           |2          |B83|111  |\n",
            "|Sicilian Defense: Richter-Rauzer Variation, Neo-Modern Variation        |2          |B67|90   |\n",
            "|Sicilian Defense: Richter-Rauzer Variation, Neo-Modern Variation        |2          |B68|17   |\n",
            "|Sicilian Defense: Richter-Rauzer Variation, Modern Variation            |2          |B60|58   |\n",
            "|Sicilian Defense: Richter-Rauzer Variation, Modern Variation            |2          |B61|51   |\n",
            "|Sicilian Defense: Richter-Rauzer Variation, Classical Variation         |3          |B63|124  |\n",
            "|Sicilian Defense: Richter-Rauzer Variation, Classical Variation         |3          |B64|23   |\n",
            "|Sicilian Defense: Richter-Rauzer Variation, Classical Variation         |3          |B65|15   |\n",
            "|Sicilian Defense: Richter-Rauzer Variation                              |2          |B60|360  |\n",
            "|Sicilian Defense: Richter-Rauzer Variation                              |2          |B62|10   |\n",
            "|Sicilian Defense: Paulsen Variation, Bastrikov Variation, English Attack|2          |B48|242  |\n",
            "+------------------------------------------------------------------------+-----------+---+-----+\n",
            "only showing top 20 rows\n",
            "\n"
          ]
        }
      ]
    },
    {
      "cell_type": "markdown",
      "source": [
        "Cela ne semble pas être des erreurs, il n'y a pas de ECO ou Opening largement dominant, nous allons donc garder ces éléments comme cela et les considérer comme 2 colonnes distinctes."
      ],
      "metadata": {
        "id": "ybFjANGdaKhv"
      }
    },
    {
      "cell_type": "code",
      "source": [
        "# TODO : Voir si on traite pour aligner ou si on fait juste avec Opening\n",
        "# comme c'est fait actuellement"
      ],
      "metadata": {
        "id": "eDVorzco4DZ3"
      },
      "execution_count": null,
      "outputs": []
    },
    {
      "cell_type": "markdown",
      "source": [
        "Nous avons pu constater que certaines configurations n'étaient joués que quelques fois et toujours gagnés par les Blancs. Cela ajoute un biais, et ne permet pas de déterminer correctement quel opening permet le plus de gagner. On obtenait plus de 3800 White_win_probability=1.\n",
        "\n",
        "Nous avons donc décidé de concerver seulement les configurations avec un nombre de parties jouées élevées.\n",
        "\n",
        "TODO : Dire combien on garde finalement et pourquoi"
      ],
      "metadata": {
        "id": "hXkg4q_iK6rM"
      }
    },
    {
      "cell_type": "markdown",
      "source": [
        "##### Q2: Win probability depending on opening:\n",
        "\n",
        "- Q2a: With which opening does White have the best chance to win, by level category (*) and by type of game (Blitz, Fast, Classic)."
      ],
      "metadata": {
        "id": "JuH5E2dAgNr7"
      }
    },
    {
      "cell_type": "code",
      "source": [
        "# Calculer le nombre de parties pour chaque configuration\n",
        "config_game_counts = df_spark_plus.groupBy(\"Opening\", \"White_ELO_category\", \"Game_type\").agg(count(\"*\").alias(\"Total_games_count\"))\n",
        "config_game_counts.orderBy(\"Total_games_count\", ascending=False).show(5)"
      ],
      "metadata": {
        "colab": {
          "base_uri": "https://localhost:8080/"
        },
        "id": "u75jGBagKp72",
        "outputId": "bf456063-be93-4b6d-f695-206db464a269"
      },
      "execution_count": 94,
      "outputs": [
        {
          "output_type": "stream",
          "name": "stdout",
          "text": [
            "+--------------------+------------------+---------+-----------------+\n",
            "|             Opening|White_ELO_category|Game_type|Total_games_count|\n",
            "+--------------------+------------------+---------+-----------------+\n",
            "|Queen's Pawn Game...| occasional player|    Blitz|            11963|\n",
            "|Queen's Pawn Game...|  good club player|    Blitz|            11456|\n",
            "|    Philidor Defense| occasional player|    Blitz|            10246|\n",
            "|    Philidor Defense|  good club player|    Blitz|             9800|\n",
            "|    Sicilian Defense|  good club player|    Blitz|             9702|\n",
            "+--------------------+------------------+---------+-----------------+\n",
            "only showing top 5 rows\n",
            "\n"
          ]
        }
      ]
    },
    {
      "cell_type": "code",
      "source": [
        "# TODO : mais là tu prends plus en compte les ECO ?? tu prends que Opening ?\n",
        "# tu veux pas faire une config ou tu groupes par Opening ECO category et game type ?"
      ],
      "metadata": {
        "id": "ocVhYDjOL_wZ"
      },
      "execution_count": null,
      "outputs": []
    },
    {
      "cell_type": "code",
      "source": [
        "# Nombre total de configurations uniques\n",
        "print(f\"Nombre total de configurations possibles : {config_game_counts.count()}\")"
      ],
      "metadata": {
        "colab": {
          "base_uri": "https://localhost:8080/"
        },
        "id": "jJE5RbW9MnpR",
        "outputId": "295bd766-715c-48d7-953a-7ecfb0f285ce"
      },
      "execution_count": 95,
      "outputs": [
        {
          "output_type": "stream",
          "name": "stdout",
          "text": [
            "Nombre total de configurations possibles : 44438\n"
          ]
        }
      ]
    },
    {
      "cell_type": "code",
      "source": [
        "# Filtrer les configurations avec plus de 1000 parties jouées\n",
        "# TODO : Voir si on adapte le nombre de parties (autre chose que 1000)\n",
        "filtered_configurations = config_game_counts.filter(col(\"Total_games_count\") > 1000)\n",
        "filtered_configurations.orderBy(\"Total_games_count\", ascending=False).show(5)\n",
        "print(f\"Nombre de configurations avec plus de 1000 parties jouées : {filtered_configurations.count()}\")"
      ],
      "metadata": {
        "colab": {
          "base_uri": "https://localhost:8080/"
        },
        "id": "BGq5eexmMrTo",
        "outputId": "f6e9fd2f-3ee3-4497-f448-45a346ae6240"
      },
      "execution_count": 96,
      "outputs": [
        {
          "output_type": "stream",
          "name": "stdout",
          "text": [
            "+--------------------+------------------+---------+-----------------+\n",
            "|             Opening|White_ELO_category|Game_type|Total_games_count|\n",
            "+--------------------+------------------+---------+-----------------+\n",
            "|Queen's Pawn Game...| occasional player|    Blitz|            11963|\n",
            "|Queen's Pawn Game...|  good club player|    Blitz|            11456|\n",
            "|    Philidor Defense| occasional player|    Blitz|            10246|\n",
            "|    Philidor Defense|  good club player|    Blitz|             9800|\n",
            "|    Sicilian Defense|  good club player|    Blitz|             9702|\n",
            "+--------------------+------------------+---------+-----------------+\n",
            "only showing top 5 rows\n",
            "\n",
            "Nombre de configurations avec plus de 1000 parties jouées : 690\n"
          ]
        }
      ]
    },
    {
      "cell_type": "code",
      "source": [
        "# On utilise que les configurations avec plus de 1000 parties\n",
        "filtered_df = df_spark_plus.join( filtered_configurations.select(\"Opening\", \"White_ELO_category\", \"Game_type\"), on=[\"Opening\", \"White_ELO_category\", \"Game_type\"], how=\"inner\")\n"
      ],
      "metadata": {
        "id": "YeJ6lm0bN_Pn"
      },
      "execution_count": 97,
      "outputs": []
    },
    {
      "cell_type": "code",
      "source": [
        "# quels sont les différentes valeurs de Game_type ?\n",
        "filtered_df.select(\"Game_type\").distinct().show()"
      ],
      "metadata": {
        "colab": {
          "base_uri": "https://localhost:8080/"
        },
        "id": "E65RvfdqMW5E",
        "outputId": "0eb28826-c7dd-4da8-85b4-771a1a0bcc2a"
      },
      "execution_count": 99,
      "outputs": [
        {
          "output_type": "stream",
          "name": "stdout",
          "text": [
            "+---------+\n",
            "|Game_type|\n",
            "+---------+\n",
            "|   Bullet|\n",
            "|    Blitz|\n",
            "|Classical|\n",
            "|    Rapid|\n",
            "+---------+\n",
            "\n"
          ]
        }
      ]
    },
    {
      "cell_type": "markdown",
      "source": [
        "L'énoncé précise \"by type of game (Blitz, Fast, Classic)\" mais on voit bien ici que c'est Blitz, Rapid et Classical."
      ],
      "metadata": {
        "id": "9Vf--LJCMux6"
      }
    },
    {
      "cell_type": "code",
      "source": [
        "# comment sont explicités les différentes fin de partie ?\n",
        "filtered_df.select(\"Result\").distinct().show()"
      ],
      "metadata": {
        "colab": {
          "base_uri": "https://localhost:8080/"
        },
        "id": "VMtXPRSQNDIy",
        "outputId": "182200f9-4505-45ef-8040-65b120498b11"
      },
      "execution_count": 101,
      "outputs": [
        {
          "output_type": "stream",
          "name": "stdout",
          "text": [
            "+-------+\n",
            "| Result|\n",
            "+-------+\n",
            "|      *|\n",
            "|1/2-1/2|\n",
            "|    1-0|\n",
            "|    0-1|\n",
            "+-------+\n",
            "\n"
          ]
        }
      ]
    },
    {
      "cell_type": "markdown",
      "source": [
        "1-0 -- White victory  \n",
        "0-1 -- Black victory  \n",
        "(vérifier dans la documentation)"
      ],
      "metadata": {
        "id": "cfCDdQADP7Xz"
      }
    },
    {
      "cell_type": "code",
      "source": [
        "# Récupération des parties voulues (blancs gagnes +  type de jeux Blitz, Fast, Classic)\n",
        "df_white_wins = filtered_df.filter((col(\"Result\") == \"1-0\") & (col(\"Game_type\").isin([\"Blitz\", \"Rapid\", \"Classical\"])))\n",
        "df_total_games = filtered_df.filter(col(\"Game_type\").isin([\"Blitz\", \"Rapid\", \"Classical\"]))"
      ],
      "metadata": {
        "id": "MyMMuNQ3glZd"
      },
      "execution_count": 100,
      "outputs": []
    },
    {
      "cell_type": "code",
      "source": [
        "# Pour chaque ouverture, catégorie et type de jeu on calcule le nombre de victoires des blancs\n",
        "df_white_wins_groupby = df_white_wins.groupBy(\"Opening\", \"White_ELO_category\", \"Game_type\").agg(count(\"*\").alias(\"White_win_count\"))\n",
        "\n",
        "# Pareil mais on calcule le total de parties jouées\n",
        "df_total_games_groupby = df_total_games.groupBy(\"Opening\", \"White_ELO_category\", \"Game_type\").agg(count(\"*\").alias(\"Total_games_count\"))"
      ],
      "metadata": {
        "id": "ax5rSGfWcPiO"
      },
      "execution_count": 102,
      "outputs": []
    },
    {
      "cell_type": "code",
      "source": [
        "df_white_wins_groupby.show(5)"
      ],
      "metadata": {
        "colab": {
          "base_uri": "https://localhost:8080/"
        },
        "id": "2z0MCCPSeZol",
        "outputId": "c3a6a5d2-5d5d-4ce0-ae34-3dac8b9cda22"
      },
      "execution_count": 103,
      "outputs": [
        {
          "output_type": "stream",
          "name": "stdout",
          "text": [
            "+----------------+------------------+---------+---------------+\n",
            "|         Opening|White_ELO_category|Game_type|White_win_count|\n",
            "+----------------+------------------+---------+---------------+\n",
            "|Alekhine Defense|  good club player|    Blitz|            519|\n",
            "|Alekhine Defense| occasional player|    Blitz|            523|\n",
            "|Bishop's Opening|  good club player|    Blitz|           1477|\n",
            "|Bishop's Opening|  good club player|    Rapid|            834|\n",
            "|Bishop's Opening| occasional player|    Blitz|           1563|\n",
            "+----------------+------------------+---------+---------------+\n",
            "only showing top 5 rows\n",
            "\n"
          ]
        }
      ]
    },
    {
      "cell_type": "code",
      "source": [
        "df_total_games_groupby.show(5)"
      ],
      "metadata": {
        "colab": {
          "base_uri": "https://localhost:8080/"
        },
        "id": "RvYom_bSejJU",
        "outputId": "ebd0995b-06aa-49ce-dc3b-9ce51d524f47"
      },
      "execution_count": 104,
      "outputs": [
        {
          "output_type": "stream",
          "name": "stdout",
          "text": [
            "+----------------+------------------+---------+-----------------+\n",
            "|         Opening|White_ELO_category|Game_type|Total_games_count|\n",
            "+----------------+------------------+---------+-----------------+\n",
            "|Alekhine Defense|  good club player|    Blitz|             1010|\n",
            "|Alekhine Defense| occasional player|    Blitz|             1029|\n",
            "|Bishop's Opening|  good club player|    Blitz|             2953|\n",
            "|Bishop's Opening|  good club player|    Rapid|             1842|\n",
            "|Bishop's Opening| occasional player|    Blitz|             3494|\n",
            "+----------------+------------------+---------+-----------------+\n",
            "only showing top 5 rows\n",
            "\n"
          ]
        }
      ]
    },
    {
      "cell_type": "code",
      "source": [
        "# Calcule de la probabilité de gagner en fonction de l'ouverture\n",
        "df_opening_stats = df_white_wins_groupby.join(df_total_games_groupby, on=[\"Opening\", \"White_ELO_category\", \"Game_type\"])\n",
        "df_opening_stats = df_opening_stats.withColumn(\"White_win_probability\", col(\"White_win_count\") / col(\"Total_games_count\"))"
      ],
      "metadata": {
        "id": "1JRCvwm1ezys"
      },
      "execution_count": 105,
      "outputs": []
    },
    {
      "cell_type": "code",
      "source": [
        "df_opening_stats.show(5)"
      ],
      "metadata": {
        "colab": {
          "base_uri": "https://localhost:8080/"
        },
        "id": "cCYS9hr6fazc",
        "outputId": "374d22bd-dd95-479b-b2c3-fe4d99fff37d"
      },
      "execution_count": 106,
      "outputs": [
        {
          "output_type": "stream",
          "name": "stdout",
          "text": [
            "+----------------+------------------+---------+---------------+-----------------+---------------------+\n",
            "|         Opening|White_ELO_category|Game_type|White_win_count|Total_games_count|White_win_probability|\n",
            "+----------------+------------------+---------+---------------+-----------------+---------------------+\n",
            "|Alekhine Defense|  good club player|    Blitz|            519|             1010|   0.5138613861386139|\n",
            "|Alekhine Defense| occasional player|    Blitz|            523|             1029|   0.5082604470359572|\n",
            "|Bishop's Opening|  good club player|    Blitz|           1477|             2953|   0.5001693193362682|\n",
            "|Bishop's Opening|  good club player|    Rapid|            834|             1842|   0.4527687296416938|\n",
            "|Bishop's Opening| occasional player|    Blitz|           1563|             3494|  0.44733829421866056|\n",
            "+----------------+------------------+---------+---------------+-----------------+---------------------+\n",
            "only showing top 5 rows\n",
            "\n"
          ]
        }
      ]
    },
    {
      "cell_type": "code",
      "source": [
        "df_opening_stats.count()"
      ],
      "metadata": {
        "colab": {
          "base_uri": "https://localhost:8080/"
        },
        "id": "0bI0zsP9gY4j",
        "outputId": "c5201642-4aa8-4461-df31-d3f798482667"
      },
      "execution_count": 107,
      "outputs": [
        {
          "output_type": "execute_result",
          "data": {
            "text/plain": [
              "548"
            ]
          },
          "metadata": {},
          "execution_count": 107
        }
      ]
    },
    {
      "cell_type": "code",
      "source": [
        "# Récupération du meilleur opening pour chaque catégorie de joueur et type de partie\n",
        "window_spec = Window.partitionBy(\"White_ELO_category\", \"Game_type\").orderBy(col(\"White_win_probability\").desc())\n",
        "best_openings = df_opening_stats.withColumn(\"rank\", row_number().over(window_spec))\n",
        "best_openings = best_openings.filter(col(\"rank\") == 1).select(\"White_ELO_category\", \"Game_type\", \"Opening\", \"White_win_probability\")"
      ],
      "metadata": {
        "id": "8DYvuedq_xTv"
      },
      "execution_count": 108,
      "outputs": []
    },
    {
      "cell_type": "code",
      "source": [
        "best_openings.orderBy(\"White_ELO_category\", \"Game_type\").show(truncate=False)"
      ],
      "metadata": {
        "colab": {
          "base_uri": "https://localhost:8080/"
        },
        "id": "wQr5WLm9Akvd",
        "outputId": "8e9b3d20-196f-432c-e704-fb5d4bab74e5"
      },
      "execution_count": 109,
      "outputs": [
        {
          "output_type": "stream",
          "name": "stdout",
          "text": [
            "+--------------------------------+---------+---------------------------------------------+---------------------+\n",
            "|White_ELO_category              |Game_type|Opening                                      |White_win_probability|\n",
            "+--------------------------------+---------+---------------------------------------------+---------------------+\n",
            "|good club player                |Blitz    |King's Pawn Game: McConnell Defense          |0.6738768718801996   |\n",
            "|good club player                |Classical|Philidor Defense                             |0.6274154589371981   |\n",
            "|good club player                |Rapid    |King's Pawn Game: McConnell Defense          |0.7159716758457907   |\n",
            "|national and international level|Blitz    |Owen Defense                                 |0.5989628349178912   |\n",
            "|national and international level|Rapid    |Queen's Pawn Game: Mason Attack              |0.5564263322884012   |\n",
            "|occasional player               |Blitz    |King's Pawn Game: McConnell Defense          |0.6744868035190615   |\n",
            "|occasional player               |Rapid    |King's Pawn Game: McConnell Defense          |0.6809487375669472   |\n",
            "|other lower bound               |Blitz    |King's Pawn Game: McConnell Defense          |0.6675148430873622   |\n",
            "|other lower bound               |Rapid    |Scandinavian Defense: Mieses-Kotroc Variation|0.5767731878409976   |\n",
            "|very good club player           |Blitz    |Ruy Lopez: Steinitz Defense                  |0.6385199240986718   |\n",
            "|very good club player           |Rapid    |Philidor Defense                             |0.6380240763802407   |\n",
            "+--------------------------------+---------+---------------------------------------------+---------------------+\n",
            "\n"
          ]
        }
      ]
    },
    {
      "cell_type": "code",
      "source": [
        "best_openings_pandas = best_openings.toPandas()"
      ],
      "metadata": {
        "id": "L83rRW9pQrtl"
      },
      "execution_count": 110,
      "outputs": []
    },
    {
      "cell_type": "code",
      "source": [
        "best_openings_pandas[\"GameType_Category\"] = (best_openings_pandas[\"Game_type\"] + \" | \" + best_openings_pandas[\"White_ELO_category\"])\n",
        "\n",
        "# Table pivot pour voir le meilleur opening pour chaque configuration\n",
        "pivot_table = best_openings_pandas.pivot_table(\n",
        "    index=\"GameType_Category\",\n",
        "    columns=\"Opening\",\n",
        "    values=\"White_win_probability\"\n",
        ")"
      ],
      "metadata": {
        "id": "k2dpsGhbPzrA"
      },
      "execution_count": 111,
      "outputs": []
    },
    {
      "cell_type": "code",
      "source": [
        "plt.figure(figsize=(12, 8))\n",
        "sns.heatmap(pivot_table, annot=True, fmt=\".2f\", cmap=\"coolwarm\", cbar=True)\n",
        "plt.title(\"Probabilités de victoire des Blancs par Opening et Configuration\")\n",
        "plt.xlabel(\"Opening\")\n",
        "plt.ylabel(\"Type de jeu et Catégorie ELO\")\n",
        "plt.xticks(rotation=45, ha=\"right\")\n",
        "plt.tight_layout()\n",
        "plt.show()"
      ],
      "metadata": {
        "colab": {
          "base_uri": "https://localhost:8080/",
          "height": 807
        },
        "id": "Pv2RrjNrQ3wW",
        "outputId": "62a4ded3-81b7-4108-ef80-eb132b8dfe9b"
      },
      "execution_count": 112,
      "outputs": [
        {
          "output_type": "display_data",
          "data": {
            "text/plain": [
              "<Figure size 1200x800 with 2 Axes>"
            ],
            "image/png": "[encoded data removed]"
          },
          "metadata": {}
        }
      ]
    },
    {
      "cell_type": "code",
      "source": [
        "# TODO : Voir comment on conclut ici en fonction de combien de parties min on utilise\n",
        "\n",
        "# On voit que King's ... permet de gagner dans plusieurs conf"
      ],
      "metadata": {
        "id": "BQrFNXrjIBEu"
      },
      "execution_count": 113,
      "outputs": []
    },
    {
      "cell_type": "markdown",
      "source": [
        "- Q2b: same question with black. You don't need to write again the same but only the results with black."
      ],
      "metadata": {
        "id": "wSzOqkhIb368"
      }
    },
    {
      "cell_type": "code",
      "source": [
        "# TODO : Copier ce qu'il y a dans Q2a en remplacant White_ELO_category par Black_ELO_category\n",
        "# A faire quand on aura décidé comment on fait"
      ],
      "metadata": {
        "id": "ZjrdbJ1UPaCo"
      },
      "execution_count": null,
      "outputs": []
    },
    {
      "cell_type": "code",
      "source": [],
      "metadata": {
        "id": "VG4ZJpU3WQXq"
      },
      "execution_count": null,
      "outputs": []
    },
    {
      "cell_type": "markdown",
      "source": [
        "### Question 3"
      ],
      "metadata": {
        "id": "ib5E3BoQP47F"
      }
    },
    {
      "cell_type": "markdown",
      "source": [
        "Q3: (difficult). Does a line of data in the file predict the outcome of the game (column Result), and with what\n",
        "probability? In other words, can any of the variables, such as the number of errors (mistakes, blunders, inacurracies,\n",
        "ts_blunders), the difference in ELO between the two players, etc., explain the outcome (win/loss)? You are free to\n",
        "define explain as you wish. It can be a correlation, linear or not, or any other relationship that allows this prediction.\n",
        "\n",
        "Note that the ELO is itself computed from a probability (normal distribution) of victory depending on the difference\n",
        "in ELO of the two players. For instance, for a difference of 100 ELO points, the higher ranked player is expected to\n",
        "win with probability 0.64. For a 200 points difference, it is 0.76.\n",
        "\n",
        "As we have more data than the ELO difference, your prediction should be more accurate than that."
      ],
      "metadata": {
        "id": "DH7Khn9AP6hA"
      }
    },
    {
      "cell_type": "markdown",
      "source": [
        "#### Observation des données"
      ],
      "metadata": {
        "id": "C02cvUwyw4DI"
      }
    },
    {
      "cell_type": "code",
      "source": [
        "df_spark.show(5)"
      ],
      "metadata": {
        "id": "iJgruJiL1X57"
      },
      "execution_count": null,
      "outputs": []
    },
    {
      "cell_type": "markdown",
      "source": [
        "#### Gestion valeurs NULL"
      ],
      "metadata": {
        "id": "7nwC7P5S8x6B"
      }
    },
    {
      "cell_type": "code",
      "source": [
        "# Calcule valeurs null par colonnes\n",
        "null_counts = df_spark.select(\n",
        "    *[\n",
        "        count(when(col(c).isNull(), c)).alias(c)\n",
        "        for c in df_spark.columns\n",
        "    ]\n",
        ")\n",
        "\n",
        "null_counts.show()"
      ],
      "metadata": {
        "id": "sGSVVh9i7llY"
      },
      "execution_count": null,
      "outputs": []
    },
    {
      "cell_type": "markdown",
      "source": [
        "Valeurs null dans les colonnes :\n",
        "- BlackRatingDiff\n",
        "- WhiteRatingDiff\n",
        "- starting_time\n",
        "- increment"
      ],
      "metadata": {
        "id": "584wXxKm71yB"
      }
    },
    {
      "cell_type": "markdown",
      "source": [
        "##### Gestion starting_time et increment"
      ],
      "metadata": {
        "id": "FsJjnr4o-pZd"
      }
    },
    {
      "cell_type": "code",
      "source": [
        "# Même nombre null pour starting_time et increment, on vérifie que c'est aligné\n",
        "df_spark.filter(col(\"starting_time\").isNull() & col(\"increment\").isNull()).count()"
      ],
      "metadata": {
        "id": "R9DqgPll9eQB"
      },
      "execution_count": null,
      "outputs": []
    },
    {
      "cell_type": "code",
      "source": [
        "# Afficher les type de game quand ces 2 colonnes sont NULL\n",
        "df_spark.filter(col(\"starting_time\").isNull() & col(\"increment\").isNull()).select(\"Game_type\").distinct().show()"
      ],
      "metadata": {
        "id": "R5GbM2Wu9vwu"
      },
      "execution_count": null,
      "outputs": []
    },
    {
      "cell_type": "code",
      "source": [
        "# Afficher les parties avec type de jeu Correspondence et starting_time ou increment non null\n",
        "df_spark.filter((col(\"Game_type\") == \"Correspondence\") & (col(\"starting_time\").isNotNull() | col(\"increment\").isNotNull())).show()"
      ],
      "metadata": {
        "id": "1mw_BCfA-bLo"
      },
      "execution_count": null,
      "outputs": []
    },
    {
      "cell_type": "code",
      "source": [
        "# TODO : Les NULL sont normaux, on fait quoi ?"
      ],
      "metadata": {
        "id": "FXonO2Ge_LDA"
      },
      "execution_count": null,
      "outputs": []
    },
    {
      "cell_type": "markdown",
      "source": [
        "OK comme dans la doc"
      ],
      "metadata": {
        "id": "HW0Dag3m9-dp"
      }
    },
    {
      "cell_type": "code",
      "source": [
        "# Vérifier si TimeControl correspond bien à starting_time+increment\n",
        "# Extraire starting_time et increment à partir de TimeControl\n",
        "df_spark_check = df_spark.withColumn(\n",
        "    \"starting_time_extracted\",\n",
        "    when(col(\"TimeControl\") != \"-\", split(col(\"TimeControl\"), \"\\+\")[0].cast(\"int\"))\n",
        "    .otherwise(None))\n",
        "\n",
        "df_spark_check = df_spark_check.withColumn(\n",
        "    \"increment_extracted\",\n",
        "    when(col(\"TimeControl\") != \"-\", split(col(\"TimeControl\"), \"\\+\")[1].cast(\"int\"))\n",
        "    .otherwise(None))\n",
        "\n",
        "# Recréer TimeControl avec les colonnes extraites\n",
        "df_spark_check = df_spark_check.withColumn(\n",
        "    \"TimeControl_reconstructed\",\n",
        "    when(col(\"starting_time_extracted\").isNull() & col(\"increment_extracted\").isNull(), \"-\")\n",
        "    .otherwise(concat_ws(\"+\", col(\"starting_time_extracted\"), col(\"increment_extracted\")))\n",
        ")\n",
        "\n",
        "# Comparer TimeControl avec la recréation\n",
        "df_spark_check = df_spark_check.withColumn(\n",
        "    \"is_matching\",\n",
        "    col(\"TimeControl\") == col(\"TimeControl_reconstructed\")\n",
        ")\n",
        "\n",
        "# Checker les résultats\n",
        "df_spark_check.select(\"TimeControl\", \"starting_time\", \"increment\", \"starting_time_extracted\", \"increment_extracted\", \"TimeControl_reconstructed\", \"is_matching\").show(5)\n",
        "mismatch_count = df_spark_check.filter(col(\"is_matching\") == False).count()\n",
        "print(f\"Nombre de désalignements : {mismatch_count}\")"
      ],
      "metadata": {
        "id": "7tERsB8fVQI0"
      },
      "execution_count": null,
      "outputs": []
    },
    {
      "cell_type": "markdown",
      "source": [
        "##### Gestion BlackRatingDiff et WhiteRatingDiff"
      ],
      "metadata": {
        "id": "D38qs6o9-vVZ"
      }
    },
    {
      "cell_type": "code",
      "source": [
        "# Même nombre null pour starting_time et increment, on vérifie que c'est aligné\n",
        "df_spark.filter(col(\"BlackRatingDiff\").isNull() & col(\"WhiteRatingDiff\").isNull()).count()"
      ],
      "metadata": {
        "id": "PH8XgtKj-BK1"
      },
      "execution_count": null,
      "outputs": []
    },
    {
      "cell_type": "code",
      "source": [
        "# pourcentage null\n",
        "prc_missed = round(df_spark.filter(col(\"BlackRatingDiff\").isNull() | col(\"WhiteRatingDiff\").isNull()).count()/df_spark.count()*100,2)\n",
        "print(f\"Pourcentage de NULL : {prc_missed}%\")"
      ],
      "metadata": {
        "id": "mK_TlfLt__dN"
      },
      "execution_count": null,
      "outputs": []
    },
    {
      "cell_type": "code",
      "source": [
        "# TODO : Virer les lignes avec des NULL"
      ],
      "metadata": {
        "id": "_2HPNwvWSJcL"
      },
      "execution_count": null,
      "outputs": []
    },
    {
      "cell_type": "markdown",
      "source": [
        "#### Conservation des colonnes utiles"
      ],
      "metadata": {
        "id": "TwHSlAkW95m_"
      }
    },
    {
      "cell_type": "code",
      "source": [
        "# Colonnes inutiles\n",
        "# - GAME : un ID, Date, Site, UTCTime, TimeControl"
      ],
      "metadata": {
        "id": "jbUZEnnw1h7E"
      },
      "execution_count": null,
      "outputs": []
    },
    {
      "cell_type": "code",
      "source": [
        "# Suppression colonnes inutiles\n",
        "columns_to_drop = [\"GAME\", \"Date\", \"Site\", \"UTCTime\",\"TimeControl\"]\n",
        "df_spark_cleaned = df_spark.drop(*columns_to_drop)"
      ],
      "metadata": {
        "id": "_wrf1D087DbA"
      },
      "execution_count": null,
      "outputs": []
    },
    {
      "cell_type": "code",
      "source": [
        "# Observation des valeurs dans la colonne Result\n",
        "result_counts = df_spark_cleaned.groupBy(\"Result\").count()\n",
        "result_counts.orderBy(\"count\", ascending=False).show()"
      ],
      "metadata": {
        "id": "Oh1wP1BGxAuO"
      },
      "execution_count": null,
      "outputs": []
    },
    {
      "cell_type": "code",
      "source": [
        "# TODO : Très peu de indéfini + prédit rien donc peut etre supprimer,\n",
        "# revoir en fonction des résultats obtenus\n",
        "df_spark_cleaned = df_spark_cleaned.filter(col(\"Result\") != \"*\")"
      ],
      "metadata": {
        "id": "MseqjgYC0asN"
      },
      "execution_count": null,
      "outputs": []
    },
    {
      "cell_type": "markdown",
      "source": [
        "#### Gestion des données non numérique"
      ],
      "metadata": {
        "id": "PWAhhfCKA7La"
      }
    },
    {
      "cell_type": "code",
      "source": [
        "# Observation des types des colonnes pour savoir comment les traiter\n",
        "schema = df_spark_cleaned.schema\n",
        "columns_by_type = defaultdict(list)\n",
        "\n",
        "for field in schema:\n",
        "    columns_by_type[str(field.dataType)].append(field.name)\n",
        "\n",
        "for data_type, columns in columns_by_type.items():\n",
        "    print(f\"Type: {data_type}\")\n",
        "    print(f\"Columns: {columns}\\n\")"
      ],
      "metadata": {
        "id": "XJPgCitQRLhb"
      },
      "execution_count": null,
      "outputs": []
    },
    {
      "cell_type": "code",
      "source": [
        "# Afficher les valeurs pour les colonnes non numériques\n",
        "columns_to_check = [\n",
        "    'ECO', 'Event', 'Opening', 'Result', 'Termination',\n",
        "    'Black_elo_category', 'White_elo_category', 'Game_type'\n",
        "]\n",
        "\n",
        "for column in columns_to_check:\n",
        "    print(f\"Valeurs possibles pour la colonne '{column}':\")\n",
        "    df_spark_cleaned.select(column).distinct().show(truncate=False)\n"
      ],
      "metadata": {
        "id": "8Ulwl0GyBApj"
      },
      "execution_count": null,
      "outputs": []
    },
    {
      "cell_type": "code",
      "source": [
        "# Extraire le type d'evenement\n",
        "df_spark_cleaned = df_spark_cleaned.withColumn(\"Event_type\", split(col(\"Event\"), \"https://\")[0])\n",
        "df_spark_cleaned.select(\"Event\", \"Event_type\").show(5)"
      ],
      "metadata": {
        "id": "nS9TmYb0W6EQ"
      },
      "execution_count": null,
      "outputs": []
    },
    {
      "cell_type": "code",
      "source": [
        "# Afficher les Event_type différents\n",
        "df_spark_cleaned.select(\"Event_type\").distinct().show(truncate=False)"
      ],
      "metadata": {
        "id": "m_d7lSoyW-Zr"
      },
      "execution_count": null,
      "outputs": []
    },
    {
      "cell_type": "code",
      "source": [
        "from pyspark.ml.feature import OneHotEncoder, StringIndexer\n",
        "from pyspark.sql.functions import when"
      ],
      "metadata": {
        "id": "gPSc8pA7UM9X"
      },
      "execution_count": null,
      "outputs": []
    },
    {
      "cell_type": "code",
      "source": [
        "# Gérer les différentes colonnes non-numériques\n",
        "\n",
        "# Beaucoup de valeurs : ECO et Opening\n",
        "indexer_eco = StringIndexer(inputCol=\"ECO\", outputCol=\"ECO_index\")\n",
        "indexer_opening = StringIndexer(inputCol=\"Opening\", outputCol=\"Opening_index\")\n",
        "\n",
        "df_spark_cleaned = indexer_eco.fit(df_spark_cleaned).transform(df_spark_cleaned)\n",
        "df_spark_cleaned = indexer_opening.fit(df_spark_cleaned).transform(df_spark_cleaned)\n",
        "\n",
        "# Peu de valeurs : Termination, Black_elo_category, White_elo_category, Game_type, Event_type\n",
        "# TODO : Voir si on fait One Hot mais apres c'est trop lourd pour convertir en df Pandas\n",
        "columns_to_encode = [\"Termination\", \"Black_elo_category\", \"White_elo_category\", \"Game_type\", \"Event_type\"]\n",
        "\n",
        "for column in columns_to_encode:\n",
        "    indexer = StringIndexer(inputCol=column, outputCol=f\"{column}_index\")\n",
        "    df_spark_cleaned = indexer.fit(df_spark_cleaned).transform(df_spark_cleaned)\n",
        "\n",
        "\n",
        "# Colonne à retrouver : Result\n",
        "df_spark_cleaned = df_spark_cleaned.withColumn(\n",
        "    \"Result_encoded\",\n",
        "    when(col(\"Result\") == \"1-0\", 1)\n",
        "    .when(col(\"Result\") == \"0-1\", 0)\n",
        "    .when(col(\"Result\") == \"1/2-1/2\", -1)\n",
        "    .otherwise(None)\n",
        ")"
      ],
      "metadata": {
        "id": "_9o1E_jtBrGx"
      },
      "execution_count": null,
      "outputs": []
    },
    {
      "cell_type": "code",
      "source": [
        "df_spark_cleaned.printSchema()"
      ],
      "metadata": {
        "id": "xgdkWG06d214"
      },
      "execution_count": null,
      "outputs": []
    },
    {
      "cell_type": "code",
      "source": [
        "df_spark_cleaned.show(5)"
      ],
      "metadata": {
        "id": "Ktvrdi5bX7Od"
      },
      "execution_count": null,
      "outputs": []
    },
    {
      "cell_type": "code",
      "source": [
        "# Supprimer colonnes string remplacées si dessus\n",
        "df_spark_cleaned_num = df_spark_cleaned.drop('ECO','Site','Opening','Termination','Black_elo_category','White_elo_category','Game_type','Result','Event','Event_type')"
      ],
      "metadata": {
        "id": "bwccrLvOe0Eh"
      },
      "execution_count": null,
      "outputs": []
    },
    {
      "cell_type": "code",
      "source": [
        "df_spark_cleaned_num.show(5)"
      ],
      "metadata": {
        "id": "a_8cy8-Tgtb3"
      },
      "execution_count": null,
      "outputs": []
    },
    {
      "cell_type": "code",
      "source": [
        "df_spark_cleaned_num.printSchema()"
      ],
      "metadata": {
        "id": "5kIcX1iKm3sk"
      },
      "execution_count": null,
      "outputs": []
    },
    {
      "cell_type": "markdown",
      "source": [
        "#### Matrice de corrélation"
      ],
      "metadata": {
        "id": "DalX4MRahadG"
      }
    },
    {
      "cell_type": "code",
      "source": [
        "# Calcule de la corrélation dans spark car pas assez de mémoire"
      ],
      "metadata": {
        "id": "D_LnvPUOmkNj"
      },
      "execution_count": null,
      "outputs": []
    },
    {
      "cell_type": "code",
      "source": [
        "# TODO : Gérer les valeurs NULL au dessus avant de pouvoir faire la suite"
      ],
      "metadata": {
        "id": "gtzqQJLdoMvW"
      },
      "execution_count": null,
      "outputs": []
    },
    {
      "cell_type": "markdown",
      "source": [
        "#### PCA"
      ],
      "metadata": {
        "id": "F6SaFSiWhc7v"
      }
    },
    {
      "cell_type": "markdown",
      "source": [
        "#### Modèle"
      ],
      "metadata": {
        "id": "4HIbsC9WheyY"
      }
    },
    {
      "cell_type": "markdown",
      "source": [
        "### Questions supplémentaires"
      ],
      "metadata": {
        "id": "-4fIC5KrhhEm"
      }
    },
    {
      "cell_type": "markdown",
      "source": [
        "## Idées questions supplémentaires"
      ],
      "metadata": {
        "id": "vGu7vG1wgku2"
      }
    },
    {
      "cell_type": "markdown",
      "source": [
        "- influence of time spent per move on errors\n",
        "  - existe t il une corrélation entre le temps moyen par coup et le nombre d'erreurs ?\n",
        "  - analyse par niveau et type de jeu\n",
        "\n",
        "- distribtion of drawn games by opening and level\n",
        "  - quelles ouvertures ont une probabilité plus élevée de conduire à une partie nulle ?\n",
        "  - analyse des taux de parties nulles en fonciton de l'ouverture et des catégories ELO\n",
        "\n",
        "- impact of ELO difference on game length\n",
        "  - les parties avec une grande différence d'ELO durent-elles moins longtemps (en nombre de coups) ?\n",
        "\n",
        "- most common mistakes by level\n",
        "  - quels types d'erreurs sont les plus fréquents selon les catégories ELO ?\n",
        "  - comparaison entre joueurs de niveau débutant et expert\n",
        "\n",
        "- optimal strategy for specific openings\n",
        "  - pour une ouverture donnée (à sélectionner manuellement), quelle est la stratégie optiale selon le niveau des joueurs ?"
      ],
      "metadata": {
        "id": "YYj6SLZ1zt3K"
      }
    }
  ]
}