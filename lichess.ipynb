{
  "nbformat": 4,
  "nbformat_minor": 0,
  "metadata": {
    "colab": {
      "provenance": [],
      "gpuType": "T4"
    },
    "kernelspec": {
      "name": "python3",
      "display_name": "Python 3"
    },
    "language_info": {
      "name": "python"
    }
  },
  "cells": [
    {
      "cell_type": "markdown",
      "source": [
        "# Projet Lichess\n",
        "\n",
        "_Traitements et données large échelle_\n",
        "\n",
        "Zoé Marquis & Charlotte Kruzic"
      ],
      "metadata": {
        "id": "SZ-ApUtIwHXG"
      }
    },
    {
      "cell_type": "markdown",
      "source": [
        "TODO : présenter les objectifs du projet, les différentes questions, les données utilisées\n"
      ],
      "metadata": {
        "id": "ManTk4Ll02fM"
      }
    },
    {
      "cell_type": "markdown",
      "source": [
        "### Installation et importation des bibliothèques nécessaires"
      ],
      "metadata": {
        "id": "MoCDA5c1McJt"
      }
    },
    {
      "cell_type": "code",
      "source": [
        "!pip install kagglehub"
      ],
      "metadata": {
        "colab": {
          "base_uri": "https://localhost:8080/"
        },
        "id": "BLQJBvTu1Ln_",
        "outputId": "ad6c89b9-4367-4bbb-b18b-baa9d5d0ffe2"
      },
      "execution_count": 1,
      "outputs": [
        {
          "output_type": "stream",
          "name": "stdout",
          "text": [
            "Requirement already satisfied: kagglehub in /usr/local/lib/python3.10/dist-packages (0.3.5)\n",
            "Requirement already satisfied: packaging in /usr/local/lib/python3.10/dist-packages (from kagglehub) (24.2)\n",
            "Requirement already satisfied: requests in /usr/local/lib/python3.10/dist-packages (from kagglehub) (2.32.3)\n",
            "Requirement already satisfied: tqdm in /usr/local/lib/python3.10/dist-packages (from kagglehub) (4.67.1)\n",
            "Requirement already satisfied: charset-normalizer<4,>=2 in /usr/local/lib/python3.10/dist-packages (from requests->kagglehub) (3.4.0)\n",
            "Requirement already satisfied: idna<4,>=2.5 in /usr/local/lib/python3.10/dist-packages (from requests->kagglehub) (3.10)\n",
            "Requirement already satisfied: urllib3<3,>=1.21.1 in /usr/local/lib/python3.10/dist-packages (from requests->kagglehub) (2.2.3)\n",
            "Requirement already satisfied: certifi>=2017.4.17 in /usr/local/lib/python3.10/dist-packages (from requests->kagglehub) (2024.12.14)\n"
          ]
        }
      ]
    },
    {
      "cell_type": "code",
      "source": [
        "!pip install -q findspark"
      ],
      "metadata": {
        "id": "ZIoRHOnTSqmt"
      },
      "execution_count": 2,
      "outputs": []
    },
    {
      "cell_type": "code",
      "source": [
        "# imports\n",
        "import pandas as pd\n",
        "import numpy as np\n",
        "import matplotlib.pyplot as plt\n",
        "import seaborn as sns\n",
        "import json\n",
        "import os\n",
        "import kagglehub\n",
        "\n",
        "import findspark\n",
        "from pyspark.sql import SparkSession"
      ],
      "metadata": {
        "id": "7Fq95N2B0pm8"
      },
      "execution_count": 3,
      "outputs": []
    },
    {
      "cell_type": "code",
      "source": [
        "!apt-get install openjdk-8-jdk-headless -qq > /dev/null\n",
        "!wget -q https://downloads.apache.org/spark/spark-3.5.3/spark-3.5.3-bin-hadoop3.tgz\n",
        "!tar xf spark-3.5.3-bin-hadoop3.tgz"
      ],
      "metadata": {
        "id": "6v1hNJRbMmTS"
      },
      "execution_count": 4,
      "outputs": []
    },
    {
      "cell_type": "code",
      "source": [
        "os.environ[\"JAVA_HOME\"] = \"/usr/lib/jvm/java-8-openjdk-amd64\"\n",
        "os.environ[\"SPARK_HOME\"] = \"/content/spark-3.5.3-bin-hadoop3\"  # this is proper to Colab\n"
      ],
      "metadata": {
        "id": "mXe-TNDn4Seo"
      },
      "execution_count": 5,
      "outputs": []
    },
    {
      "cell_type": "markdown",
      "source": [
        "## Préparation des données\n",
        "\n",
        "Chargement des données, analyse exploratoire et prétraitement des données."
      ],
      "metadata": {
        "id": "MoOwUYVF0r4O"
      }
    },
    {
      "cell_type": "code",
      "source": [
        "path = kagglehub.dataset_download(\"noobiedatascientist/lichess-september-2020-data\")\n",
        "print(\"Chemin vers le fichier du dataset : \", path)"
      ],
      "metadata": {
        "id": "8dD1y9b60pkk",
        "colab": {
          "base_uri": "https://localhost:8080/"
        },
        "outputId": "b24a9480-c5f7-429c-f00b-3831fc324da1"
      },
      "execution_count": 6,
      "outputs": [
        {
          "output_type": "stream",
          "name": "stdout",
          "text": [
            "Warning: Looks like you're using an outdated `kagglehub` version (installed: 0.3.5), please consider upgrading to the latest version (0.3.6).\n",
            "Chemin vers le fichier du dataset :  /root/.cache/kagglehub/datasets/noobiedatascientist/lichess-september-2020-data/versions/3\n"
          ]
        }
      ]
    },
    {
      "cell_type": "code",
      "source": [
        "files = os.listdir(path)\n",
        "print(\"Fichiers du dataset : \", files)"
      ],
      "metadata": {
        "id": "ZoMmOHTH0pf_",
        "colab": {
          "base_uri": "https://localhost:8080/"
        },
        "outputId": "fb328c2f-0717-4700-f60d-9ef7e36d1cf4"
      },
      "execution_count": 7,
      "outputs": [
        {
          "output_type": "stream",
          "name": "stdout",
          "text": [
            "Fichiers du dataset :  ['Sept_20_analysis.RDS', 'Sept_20_analysis.csv', 'Column information.txt']\n"
          ]
        }
      ]
    },
    {
      "cell_type": "code",
      "source": [
        "filename = f\"{path}/Sept_20_analysis.csv\"\n",
        "print(\"Nom du fichier : \", filename)"
      ],
      "metadata": {
        "id": "-C_Fv81N0pbO",
        "colab": {
          "base_uri": "https://localhost:8080/"
        },
        "outputId": "e17ec837-c690-4d43-92f1-00ed50231d53"
      },
      "execution_count": 8,
      "outputs": [
        {
          "output_type": "stream",
          "name": "stdout",
          "text": [
            "Nom du fichier :  /root/.cache/kagglehub/datasets/noobiedatascientist/lichess-september-2020-data/versions/3/Sept_20_analysis.csv\n"
          ]
        }
      ]
    },
    {
      "cell_type": "code",
      "source": [
        "# voir le contenu du .txt\n",
        "filename_txt = f\"{path}/Column information.txt\"\n",
        "with open(filename_txt, 'r') as f:\n",
        "    print(f.read())"
      ],
      "metadata": {
        "id": "bj58yVL60pPQ",
        "colab": {
          "base_uri": "https://localhost:8080/"
        },
        "outputId": "474b0ae7-8803-4e8a-fbc5-667cb286bd96"
      },
      "execution_count": 9,
      "outputs": [
        {
          "output_type": "stream",
          "name": "stdout",
          "text": [
            "GAME: Game ID (not from lichess.org)\n",
            "\n",
            "BlackElo: Elo rating of the player with the black pieces\n",
            "\n",
            "BlackRatingDiff: Rating change (gain/loss) after game conclusion for the player with the black pieces\n",
            "\n",
            "Date: Date the game was played\n",
            "\n",
            "ECO: Game opening (ECO notation)\n",
            "\n",
            "Event: Event where the game was played\n",
            "\n",
            "Opening: Game opening\n",
            "\n",
            "Result: Result of the game\n",
            "\n",
            "\t1-0 -- White victory\n",
            "\t0-1 -- Black victory\n",
            "\t1/2-1/2 -- Draw\n",
            "\t* -- Undecided\n",
            "\t\n",
            "Site: URL of the game\n",
            "\n",
            "Termination: Way the game terminated\n",
            "\n",
            "\tTime forfeit -- One of the players ran out of time\n",
            "\tNormal -- Game terminated with check mate\n",
            "\tRules infraction -- Game terminated due to rule breaking\n",
            "\tAbandoned -- Game was abandoned\n",
            "\t\n",
            "TimeControl: Timecontrol in seconds that was used for the game (Starting time: Increment) \n",
            "\n",
            "UTCTime: Time the game was played\n",
            "\n",
            "WhiteElo: Elo rating of the player with the white pieces\n",
            "\n",
            "WhiteRatingDiff: Rating change (gain/loss) after game conclusion for the player with the white pieces\n",
            "\n",
            "Black_elo_category: ELO category of the player with the black pieces\n",
            "\n",
            "\tLow rating -- Rating below 1900\n",
            "\tHigh rating -- Rating above 1900 and below 2400\n",
            "\tGM rating -- Rating above 2400\n",
            "\t\n",
            "starting_time: The time in seconds that the players have available at the start of the game (taken from TimeControl)\n",
            "\n",
            "\tEMPTY -- Correspondence games\n",
            "\t\n",
            "increment: Time increment in seconds that was used in the game (taken from TimeControl)\n",
            "\n",
            "\tEMPTY -- Correspondence games\n",
            "\n",
            "Game_type: Type of game based on TimeControl\n",
            "\n",
            "\tBullet -- Starting time below 2 minutes\n",
            "\tBlitz -- Starting time between 2 and 10 minutes\n",
            "\tRapid -- Starting time between 10 and 15 minutes\n",
            "\tClassical -- Starting time above 15 minutes or increment 2 minutes or higher\n",
            "\tCorrespondence -- No time information\n",
            "\t\n",
            "Total_moves: Total number of moves in the game\n",
            "\n",
            "Black_blunders: Number of blunders by the player with the black pieces (move annotation ?? in the PGN)\n",
            "\n",
            "White_blunders: Number of blunders by the player with the white pieces (move annotation ?? in the PGN)\n",
            "\n",
            "Black_mistakes: Number of mistakes by the player with the black pieces (move annotation ? in the PGN)\n",
            "\n",
            "White_mistakes: Number of mistakes by the player with the white pieces (move annotation ? in the PGN)\n",
            "\n",
            "Black_inaccuracies: Number of inaccuracies by the player with the black pieces (move annotation ?! in the PGN)\n",
            "\n",
            "White_inaccuracies: Number of inaccuracies by the player with the white pieces (move annotation ?! in the PGN)\n",
            "\n",
            "Black_inferior_moves: Black_blunders + Black_mistakes + Black_inaccuracies \n",
            "\n",
            "White_inferior_moves: White_blunders + White_mistakes + White_inaccuracies\n",
            "\n",
            "Black_ts_moves: Number of moves by the player with the black pieces in time scramble (remaining time less than or equal to 10% of the starting time)\n",
            "\n",
            "White_ts_moves: Number of moves by the player with the white pieces in time scramble (remaining time less than or equal to 10% of the starting time)\n",
            "\n",
            "Black_ts_blunders: Number of blunders by the player with the black pieces in time scramble (remaining time less than or equal to 10% of the starting time)\n",
            "\n",
            "White_ts_blunders: Number of blunders by the player with the white pieces in time scramble (remaining time less than or equal to 10% of the starting time)\n",
            "\n",
            "Black_ts_mistakes: Number of mistakes by the player with the black pieces in time scramble (remaining time less than or equal to 10% of the starting time)\n",
            "\n",
            "White_ts_mistakes: Number of mistakes by the player with the white pieces in time scramble (remaining time less than or equal to 10% of the starting time)\n",
            "\n",
            "Black_long_moves: Number of moves by the player with the black pieces that required more than 10% of the starting time\n",
            "\n",
            "White_long_moves: Number of moves by the player with the white pieces that required more than 10% of the starting time\n",
            "\n",
            "Black_bad_long_moves: Number of long moves by the player with the black pieces that were inferior\n",
            "\n",
            "White_bad_long_moves: Number of long moves by the player with the white pieces that were inferior \n",
            "\n",
            "Game_flips: Number of times in the game where the balance of the game changed\n",
            "\n",
            "Game_flips_ts: Number of times in the game where the balance of the game changed and the players were in time scramble\n",
            "\n",
            "\n",
            "\n",
            "\n",
            "\n",
            "\n"
          ]
        }
      ]
    },
    {
      "cell_type": "markdown",
      "source": [
        "## Spark"
      ],
      "metadata": {
        "id": "tHbCTsTR4S6e"
      }
    },
    {
      "cell_type": "code",
      "source": [
        "# Importation des éléments Spark\n",
        "from pyspark.sql.functions import col, when, isnull, count, max as spark_max, countDistinct, row_number, split, concat_ws\n",
        "from pyspark.sql.window import Window\n",
        "from pyspark.ml.feature import OneHotEncoder, StringIndexer\n",
        "from collections import defaultdict"
      ],
      "metadata": {
        "id": "uiPqfPJdY4Lx"
      },
      "execution_count": 10,
      "outputs": []
    },
    {
      "cell_type": "code",
      "source": [
        "findspark.init()\n",
        "spark = SparkSession.builder.master(\"local[*]\").getOrCreate()"
      ],
      "metadata": {
        "id": "YEcWzry24SZ4"
      },
      "execution_count": 11,
      "outputs": []
    },
    {
      "cell_type": "code",
      "source": [
        "sc = spark.sparkContext\n",
        "df_spark = spark.read.csv(filename, header=True, inferSchema=True)"
      ],
      "metadata": {
        "id": "wQTMYx5g4SXb"
      },
      "execution_count": 12,
      "outputs": []
    },
    {
      "cell_type": "code",
      "source": [
        "df_spark.printSchema()"
      ],
      "metadata": {
        "id": "-KMIg7qx4ihe",
        "colab": {
          "base_uri": "https://localhost:8080/"
        },
        "outputId": "16998688-0fa5-496f-b832-cf900ac0bbc3"
      },
      "execution_count": 13,
      "outputs": [
        {
          "output_type": "stream",
          "name": "stdout",
          "text": [
            "root\n",
            " |-- GAME: integer (nullable = true)\n",
            " |-- BlackElo: integer (nullable = true)\n",
            " |-- BlackRatingDiff: integer (nullable = true)\n",
            " |-- Date: string (nullable = true)\n",
            " |-- ECO: string (nullable = true)\n",
            " |-- Event: string (nullable = true)\n",
            " |-- Opening: string (nullable = true)\n",
            " |-- Result: string (nullable = true)\n",
            " |-- Site: string (nullable = true)\n",
            " |-- Termination: string (nullable = true)\n",
            " |-- TimeControl: string (nullable = true)\n",
            " |-- UTCTime: timestamp (nullable = true)\n",
            " |-- WhiteElo: integer (nullable = true)\n",
            " |-- WhiteRatingDiff: integer (nullable = true)\n",
            " |-- Black_elo_category: string (nullable = true)\n",
            " |-- White_elo_category: string (nullable = true)\n",
            " |-- starting_time: integer (nullable = true)\n",
            " |-- increment: integer (nullable = true)\n",
            " |-- Game_type: string (nullable = true)\n",
            " |-- Total_moves: integer (nullable = true)\n",
            " |-- Black_blunders: integer (nullable = true)\n",
            " |-- White_blunders: integer (nullable = true)\n",
            " |-- Black_mistakes: integer (nullable = true)\n",
            " |-- White_mistakes: integer (nullable = true)\n",
            " |-- Black_inaccuracies: integer (nullable = true)\n",
            " |-- White_inaccuracies: integer (nullable = true)\n",
            " |-- Black_inferior_moves: integer (nullable = true)\n",
            " |-- White_inferior_moves: integer (nullable = true)\n",
            " |-- Black_ts_moves: integer (nullable = true)\n",
            " |-- White_ts_moves: integer (nullable = true)\n",
            " |-- Black_ts_blunders: integer (nullable = true)\n",
            " |-- White_ts_blunders: integer (nullable = true)\n",
            " |-- Black_ts_mistakes: integer (nullable = true)\n",
            " |-- White_ts_mistake: integer (nullable = true)\n",
            " |-- Black_long_moves: integer (nullable = true)\n",
            " |-- White_long_moves: integer (nullable = true)\n",
            " |-- Black_bad_long_moves: integer (nullable = true)\n",
            " |-- White_bad_long_moves: integer (nullable = true)\n",
            " |-- Game_flips: integer (nullable = true)\n",
            " |-- Game_flips_ts: integer (nullable = true)\n",
            "\n"
          ]
        }
      ]
    },
    {
      "cell_type": "code",
      "source": [
        "# nombre lignes\n",
        "df_spark.count()"
      ],
      "metadata": {
        "colab": {
          "base_uri": "https://localhost:8080/"
        },
        "id": "VrCaCyNT_rtu",
        "outputId": "f8638899-5d3d-4331-dec3-28471f518afc"
      },
      "execution_count": 14,
      "outputs": [
        {
          "output_type": "execute_result",
          "data": {
            "text/plain": [
              "3739909"
            ]
          },
          "metadata": {},
          "execution_count": 14
        }
      ]
    },
    {
      "cell_type": "code",
      "source": [
        "df_spark.show(5)"
      ],
      "metadata": {
        "id": "XiSTXCRS4ife",
        "colab": {
          "base_uri": "https://localhost:8080/"
        },
        "outputId": "38adf9e7-24ba-4387-a01d-689c5e75e4cf"
      },
      "execution_count": 15,
      "outputs": [
        {
          "output_type": "stream",
          "name": "stdout",
          "text": [
            "+----+--------+---------------+----------+---+----------------+--------------------+------+--------------------+------------+-----------+-------------------+--------+---------------+------------------+------------------+-------------+---------+---------+-----------+--------------+--------------+--------------+--------------+------------------+------------------+--------------------+--------------------+--------------+--------------+-----------------+-----------------+-----------------+----------------+----------------+----------------+--------------------+--------------------+----------+-------------+\n",
            "|GAME|BlackElo|BlackRatingDiff|      Date|ECO|           Event|             Opening|Result|                Site| Termination|TimeControl|            UTCTime|WhiteElo|WhiteRatingDiff|Black_elo_category|White_elo_category|starting_time|increment|Game_type|Total_moves|Black_blunders|White_blunders|Black_mistakes|White_mistakes|Black_inaccuracies|White_inaccuracies|Black_inferior_moves|White_inferior_moves|Black_ts_moves|White_ts_moves|Black_ts_blunders|White_ts_blunders|Black_ts_mistakes|White_ts_mistake|Black_long_moves|White_long_moves|Black_bad_long_moves|White_bad_long_moves|Game_flips|Game_flips_ts|\n",
            "+----+--------+---------------+----------+---+----------------+--------------------+------+--------------------+------------+-----------+-------------------+--------+---------------+------------------+------------------+-------------+---------+---------+-----------+--------------+--------------+--------------+--------------+------------------+------------------+--------------------+--------------------+--------------+--------------+-----------------+-----------------+-----------------+----------------+----------------+----------------+--------------------+--------------------+----------+-------------+\n",
            "|  11|    1143|              6|2020.09.01|A02|Rated Blitz game|        Bird Opening|   0-1|https://lichess.o...|Time forfeit|      300+0|2024-12-28 00:00:00|    1180|             -7|        Low rating|        Low rating|          300|        0|    Blitz|         66|             4|             2|             0|             3|                 3|                 1|                   7|                   6|             8|             8|                0|                0|                0|               0|               2|               1|                   1|                   1|         8|            0|\n",
            "|  14|    1504|           NULL|2020.09.01|A04|Rated Blitz game|        Réti Opening|   0-1|https://lichess.o...|      Normal|      300+0|2024-12-28 00:00:00|    1381|           NULL|        Low rating|        Low rating|          300|        0|    Blitz|         64|             2|             1|             1|             1|                 7|                 5|                  10|                   7|             0|             0|                0|                0|                0|               0|               0|               1|                   0|                   0|         6|            0|\n",
            "|  29|    1933|              1|2020.09.01|C41|Rated Blitz game|    Philidor Defense|   0-1|https://lichess.o...|Time forfeit|      300+2|2024-12-28 00:00:00|    1485|             -1|       High rating|        Low rating|          300|        2|    Blitz|         70|             0|             1|             1|             2|                 8|                 8|                   9|                  11|             0|             2|                0|                0|                0|               0|               1|               1|                   1|                   0|         5|            0|\n",
            "|  40|    1710|             10|2020.09.01|B23|Rated Blitz game|Sicilian Defense:...|   0-1|https://lichess.o...|      Normal|      180+2|2024-12-28 00:00:00|    2040|            -11|        Low rating|       High rating|          180|        2|    Blitz|         86|             4|             2|             1|             5|                 3|                 4|                   8|                  11|            18|             0|                4|                0|                0|               0|               3|               1|                   1|                   0|         8|            1|\n",
            "|  55|    1598|             -1|2020.09.01|B03|Rated Rapid game|    Alekhine Defense|   1-0|https://lichess.o...|      Normal|      600+0|2024-12-28 00:00:00|    2163|              0|        Low rating|       High rating|          600|        0|    Rapid|         71|             1|             0|             1|             1|                 6|                 2|                   8|                   3|             0|             0|                0|                0|                0|               0|               0|               0|                   0|                   0|         2|            0|\n",
            "+----+--------+---------------+----------+---+----------------+--------------------+------+--------------------+------------+-----------+-------------------+--------+---------------+------------------+------------------+-------------+---------+---------+-----------+--------------+--------------+--------------+--------------+------------------+------------------+--------------------+--------------------+--------------+--------------+-----------------+-----------------+-----------------+----------------+----------------+----------------+--------------------+--------------------+----------+-------------+\n",
            "only showing top 5 rows\n",
            "\n"
          ]
        }
      ]
    },
    {
      "cell_type": "markdown",
      "source": [
        "## Préparation générale des données"
      ],
      "metadata": {
        "id": "NAcsmDlTdOWG"
      }
    },
    {
      "cell_type": "markdown",
      "source": [
        "#### Calcule des catégories"
      ],
      "metadata": {
        "id": "o89yf5WEXwQT"
      }
    },
    {
      "cell_type": "code",
      "source": [
        "# TODO : Peut etre différencier les others (ceux supérieur ou inférieur aux bornes) ??\n",
        "\n",
        "# Ajout des catégories ELO\n",
        "# Catégorie ELO du joueur Noir\n",
        "df_spark_plus = df_spark.withColumn(\"Black_ELO_category\",\n",
        "                              when((col(\"BlackElo\") >= 1200) & (col(\"BlackElo\") <= 1499), \"occasional player\")\n",
        "                              .when((col(\"BlackElo\") >= 1500) & (col(\"BlackElo\") <= 1799), \"good club player\")\n",
        "                              .when((col(\"BlackElo\") >= 1800) & (col(\"BlackElo\") <= 1999), \"very good club player\")\n",
        "                              .when((col(\"BlackElo\") >= 2000) & (col(\"BlackElo\") <= 2399), \"national and international level\")\n",
        "                              .when((col(\"BlackElo\") >= 2400) & (col(\"BlackElo\") <= 2800), \"GMI, World Champions\")\n",
        "                              .otherwise(\"other\")\n",
        "                              )\n",
        "\n",
        "# Catégorie ELO du joueur Blanc\n",
        "df_spark_plus = df_spark_plus.withColumn(\"White_ELO_category\",\n",
        "                              when((col(\"WhiteElo\") >= 1200) & (col(\"WhiteElo\") <= 1499), \"occasional player\")\n",
        "                              .when((col(\"WhiteElo\") >= 1500) & (col(\"WhiteElo\") <= 1799), \"good club player\")\n",
        "                              .when((col(\"WhiteElo\") >= 1800) & (col(\"WhiteElo\") <= 1999), \"very good club player\")\n",
        "                              .when((col(\"WhiteElo\") >= 2000) & (col(\"WhiteElo\") <= 2399), \"national and international level\")\n",
        "                              .when((col(\"WhiteElo\") >= 2400) & (col(\"WhiteElo\") <= 2800), \"GMI, World Champions\")\n",
        "                              .otherwise(\"other\")\n",
        "                              )\n",
        "\n",
        "# Catégorie ELO moyenne des 2 joueurs\n",
        "df_spark_plus = df_spark_plus.withColumn(\"Avg_ELO_category\", (col(\"BlackElo\") + col(\"WhiteElo\")) / 2)\n",
        "\n",
        "df_spark_plus = df_spark_plus.withColumn(\"Avg_ELO_category\",\n",
        "                              when((col(\"Avg_ELO_category\") >= 1200) & (col(\"Avg_ELO_category\") <= 1499), \"occasional player\")\n",
        "                              .when((col(\"Avg_ELO_category\") >= 1500) & (col(\"Avg_ELO_category\") <= 1799), \"good club player\")\n",
        "                              .when((col(\"Avg_ELO_category\") >= 1800) & (col(\"Avg_ELO_category\") <= 1999), \"very good club player\")\n",
        "                              .when((col(\"Avg_ELO_category\") >= 2000) & (col(\"Avg_ELO_category\") <= 2399), \"national and international level\")\n",
        "                              .when((col(\"Avg_ELO_category\") >= 2400) & (col(\"Avg_ELO_category\") <= 2800), \"GMI, World Champions\")\n",
        "                              .otherwise(\"other\"))"
      ],
      "metadata": {
        "id": "ypAzl9Gh6iWY"
      },
      "execution_count": 16,
      "outputs": []
    },
    {
      "cell_type": "code",
      "source": [
        "# vérifier combien de \"other\"\n",
        "df_spark_plus.filter(col(\"Black_ELO_category\") == \"other\").count()"
      ],
      "metadata": {
        "id": "vdeN_nAW6iUQ",
        "colab": {
          "base_uri": "https://localhost:8080/"
        },
        "outputId": "a05dc1cf-8ec1-425a-dc3d-432f9ea9c709"
      },
      "execution_count": 17,
      "outputs": [
        {
          "output_type": "execute_result",
          "data": {
            "text/plain": [
              "476296"
            ]
          },
          "metadata": {},
          "execution_count": 17
        }
      ]
    },
    {
      "cell_type": "code",
      "source": [
        "df_spark_plus.filter(col(\"White_ELO_category\") == \"other\").count()"
      ],
      "metadata": {
        "id": "B_vK0uol6iSC",
        "colab": {
          "base_uri": "https://localhost:8080/"
        },
        "outputId": "be98671f-7ffa-4610-9474-4695075e5e66"
      },
      "execution_count": 18,
      "outputs": [
        {
          "output_type": "execute_result",
          "data": {
            "text/plain": [
              "479718"
            ]
          },
          "metadata": {},
          "execution_count": 18
        }
      ]
    },
    {
      "cell_type": "markdown",
      "source": [
        "## Question 1"
      ],
      "metadata": {
        "id": "T74gZM0NPDmJ"
      }
    },
    {
      "cell_type": "markdown",
      "source": [
        "Hypothèse : plus la catégorie est bonne plus le taux de fautes devrait logiquement diminuer"
      ],
      "metadata": {
        "id": "GljHcFnAbLcJ"
      }
    },
    {
      "cell_type": "markdown",
      "source": [
        "Q1: What is the rate of blunders, errors and inaccuracies per move, per level category (*) and on Blitz type games (Blitz type is by far the most played on these online sites). A game has two players, whose ELOs are most likely different. You will be able to classify a game into a category, either by considering the average ELO of both players, or by considering only the games where both players are in the same category."
      ],
      "metadata": {
        "id": "0XEtPJrWOqkm"
      }
    },
    {
      "cell_type": "code",
      "source": [
        "# Filtre les parties avec un type de jeu Blitz\n",
        "df_blitz = df_spark_plus.filter(col(\"Game_type\") == \"Blitz\")"
      ],
      "metadata": {
        "id": "oRA97x6ZQFls"
      },
      "execution_count": 19,
      "outputs": []
    },
    {
      "cell_type": "markdown",
      "source": [
        "#### Calcule des taux"
      ],
      "metadata": {
        "id": "hQv8TwoKXrxT"
      }
    },
    {
      "cell_type": "code",
      "source": [
        "# Calcule taux de bourdes\n",
        "df_blitz = df_blitz.withColumn(\"Black_blunders_rate\", col(\"Black_blunders\") / col(\"Total_moves\")) \\\n",
        "                   .withColumn(\"White_blunders_rate\", col(\"White_blunders\") / col(\"Total_moves\"))"
      ],
      "metadata": {
        "id": "rBnGnO-5QbsD"
      },
      "execution_count": 20,
      "outputs": []
    },
    {
      "cell_type": "code",
      "source": [
        "# Calcule taux d'erreurs\n",
        "df_blitz = df_blitz.withColumn(\"Black_errors_rate\", col(\"Black_mistakes\") / col(\"Total_moves\")) \\\n",
        "                   .withColumn(\"White_errors_rate\", col(\"White_mistakes\") / col(\"Total_moves\"))"
      ],
      "metadata": {
        "id": "ZxP7iixpRX06"
      },
      "execution_count": 21,
      "outputs": []
    },
    {
      "cell_type": "code",
      "source": [
        "# Calcule taux d'imprecisions\n",
        "df_blitz = df_blitz.withColumn(\"Black_inaccuracies_rate\", col(\"Black_inaccuracies\") / col(\"Total_moves\")) \\\n",
        "                   .withColumn(\"White_inaccuracies_rate\", col(\"White_inaccuracies\") / col(\"Total_moves\"))"
      ],
      "metadata": {
        "id": "xI1qobZ_R_CU"
      },
      "execution_count": 22,
      "outputs": []
    },
    {
      "cell_type": "markdown",
      "source": [
        "#### Classification des games avec moyenne des 2 joueurs"
      ],
      "metadata": {
        "id": "pEG83zrNXzT6"
      }
    },
    {
      "cell_type": "code",
      "source": [
        "df_avg_elo_summary = df_blitz.groupBy(\"Avg_ELO_category\").agg(\n",
        "    {\"Black_blunders_rate\": \"avg\", \"White_blunders_rate\": \"avg\",\n",
        "     \"Black_errors_rate\": \"avg\", \"White_errors_rate\": \"avg\",\n",
        "     \"Black_inaccuracies_rate\": \"avg\", \"White_inaccuracies_rate\": \"avg\"}\n",
        ").withColumnRenamed(\"avg(Black_blunders_rate)\", \"Avg_Black_blunders_rate\") \\\n",
        " .withColumnRenamed(\"avg(White_blunders_rate)\", \"Avg_White_blunders_rate\") \\\n",
        " .withColumnRenamed(\"avg(Black_errors_rate)\", \"Avg_Black_errors_rate\") \\\n",
        " .withColumnRenamed(\"avg(White_errors_rate)\", \"Avg_White_errors_rate\") \\\n",
        " .withColumnRenamed(\"avg(Black_inaccuracies_rate)\", \"Avg_Black_inaccuracies_rate\") \\\n",
        " .withColumnRenamed(\"avg(White_inaccuracies_rate)\", \"Avg_White_inaccuracies_rate\")"
      ],
      "metadata": {
        "id": "pdklkG0cX6Zh"
      },
      "execution_count": 23,
      "outputs": []
    },
    {
      "cell_type": "code",
      "source": [
        "df_avg_elo_summary.show(5)"
      ],
      "metadata": {
        "colab": {
          "base_uri": "https://localhost:8080/"
        },
        "id": "oUmnTnbIPxTX",
        "outputId": "ed7b33b8-7327-45c7-c0b8-6e9de20edf39"
      },
      "execution_count": 24,
      "outputs": [
        {
          "output_type": "stream",
          "name": "stdout",
          "text": [
            "+--------------------+---------------------------+-----------------------+---------------------+---------------------+-----------------------+---------------------------+\n",
            "|    Avg_ELO_category|Avg_White_inaccuracies_rate|Avg_White_blunders_rate|Avg_Black_errors_rate|Avg_White_errors_rate|Avg_Black_blunders_rate|Avg_Black_inaccuracies_rate|\n",
            "+--------------------+---------------------------+-----------------------+---------------------+---------------------+-----------------------+---------------------------+\n",
            "|GMI, World Champions|        0.03649314267507789|   0.015454990958813869| 0.033797322537345735| 0.033301912273222996|   0.016443676658494083|       0.038392670154764316|\n",
            "|               other|       0.046071483010896905|    0.04768980684161655|  0.05582335797833772|  0.05445660451304556|    0.04843359364853215|       0.047421327592271655|\n",
            "|very good club pl...|        0.04458924288017192|   0.024422100702977404| 0.045997908613240726| 0.045843799123494865|   0.025296756442037382|         0.0468850819546207|\n",
            "|    good club player|        0.04587315087987242|   0.029895719502999976|  0.04991549884266208|  0.04946828005446617|   0.030709739726061468|       0.047965785986999326|\n",
            "|   occasional player|       0.045760091488304545|   0.037852691567910844| 0.053163631630006494|  0.05235170250892971|    0.03857290181082919|        0.04779178559166473|\n",
            "+--------------------+---------------------------+-----------------------+---------------------+---------------------+-----------------------+---------------------------+\n",
            "only showing top 5 rows\n",
            "\n"
          ]
        }
      ]
    },
    {
      "cell_type": "code",
      "source": [
        "df_avg_elo_summary_pandas = df_avg_elo_summary.toPandas()"
      ],
      "metadata": {
        "id": "GsfB62FrYR55"
      },
      "execution_count": 25,
      "outputs": []
    },
    {
      "cell_type": "code",
      "source": [
        "df_avg_elo_summary_pandas.isna().sum()"
      ],
      "metadata": {
        "colab": {
          "base_uri": "https://localhost:8080/",
          "height": 304
        },
        "id": "HmO5nsP2a2Fz",
        "outputId": "5b162683-59c7-4fba-89e8-dc837d787e75"
      },
      "execution_count": 26,
      "outputs": [
        {
          "output_type": "execute_result",
          "data": {
            "text/plain": [
              "Avg_ELO_category               0\n",
              "Avg_White_inaccuracies_rate    0\n",
              "Avg_White_blunders_rate        0\n",
              "Avg_Black_errors_rate          0\n",
              "Avg_White_errors_rate          0\n",
              "Avg_Black_blunders_rate        0\n",
              "Avg_Black_inaccuracies_rate    0\n",
              "dtype: int64"
            ],
            "text/html": [
              "<div>\n",
              "<style scoped>\n",
              "    .dataframe tbody tr th:only-of-type {\n",
              "        vertical-align: middle;\n",
              "    }\n",
              "\n",
              "    .dataframe tbody tr th {\n",
              "        vertical-align: top;\n",
              "    }\n",
              "\n",
              "    .dataframe thead th {\n",
              "        text-align: right;\n",
              "    }\n",
              "</style>\n",
              "<table border=\"1\" class=\"dataframe\">\n",
              "  <thead>\n",
              "    <tr style=\"text-align: right;\">\n",
              "      <th></th>\n",
              "      <th>0</th>\n",
              "    </tr>\n",
              "  </thead>\n",
              "  <tbody>\n",
              "    <tr>\n",
              "      <th>Avg_ELO_category</th>\n",
              "      <td>0</td>\n",
              "    </tr>\n",
              "    <tr>\n",
              "      <th>Avg_White_inaccuracies_rate</th>\n",
              "      <td>0</td>\n",
              "    </tr>\n",
              "    <tr>\n",
              "      <th>Avg_White_blunders_rate</th>\n",
              "      <td>0</td>\n",
              "    </tr>\n",
              "    <tr>\n",
              "      <th>Avg_Black_errors_rate</th>\n",
              "      <td>0</td>\n",
              "    </tr>\n",
              "    <tr>\n",
              "      <th>Avg_White_errors_rate</th>\n",
              "      <td>0</td>\n",
              "    </tr>\n",
              "    <tr>\n",
              "      <th>Avg_Black_blunders_rate</th>\n",
              "      <td>0</td>\n",
              "    </tr>\n",
              "    <tr>\n",
              "      <th>Avg_Black_inaccuracies_rate</th>\n",
              "      <td>0</td>\n",
              "    </tr>\n",
              "  </tbody>\n",
              "</table>\n",
              "</div><br><label><b>dtype:</b> int64</label>"
            ]
          },
          "metadata": {},
          "execution_count": 26
        }
      ]
    },
    {
      "cell_type": "code",
      "source": [
        "# TODO : Voir si on affiche les other\n",
        "\n",
        "# Ordonner les catégories de joueurs\n",
        "category_order = [\"other\", \"occasional player\", \"good club player\", \"very good club player\",\n",
        "                  \"national and international level\", \"GMI, World Champions\"]\n",
        "df_avg_elo_summary_pandas['Avg_ELO_category'] = pd.Categorical(df_avg_elo_summary_pandas['Avg_ELO_category'],  categories=category_order,  ordered=True)\n",
        "df_avg_elo_summary_pandas = df_avg_elo_summary_pandas.sort_values('Avg_ELO_category')\n",
        "\n",
        "\n",
        "categories = df_avg_elo_summary_pandas['Avg_ELO_category']\n",
        "error_types = ['Bourdes', 'Erreurs', 'Imprecisions']\n",
        "\n",
        "# Données par type d'erreur et catégorie\n",
        "blunders = df_avg_elo_summary_pandas[['Avg_Black_blunders_rate', 'Avg_White_blunders_rate']].mean(axis=1)*100\n",
        "mistakes = df_avg_elo_summary_pandas[['Avg_Black_errors_rate', 'Avg_White_errors_rate']].mean(axis=1)*100\n",
        "inaccuracies = df_avg_elo_summary_pandas[['Avg_Black_inaccuracies_rate', 'Avg_White_inaccuracies_rate']].mean(axis=1)*100\n",
        "\n",
        "# Matrice (erreurs x catégorie)\n",
        "data = np.array([blunders, mistakes, inaccuracies]).T"
      ],
      "metadata": {
        "id": "Ff1S4mlyYblk"
      },
      "execution_count": 27,
      "outputs": []
    },
    {
      "cell_type": "code",
      "source": [
        "# Graphique\n",
        "plt.figure(figsize=(14, 8))\n",
        "x = np.arange(len(error_types))\n",
        "bar_width = 0.15\n",
        "\n",
        "for i, category in enumerate(categories):\n",
        "    plt.bar(x + i * bar_width, data[i], width=bar_width, label=str(category))\n",
        "\n",
        "plt.xlabel('Type de fautes') # TODO : Peut etre dire autrement\n",
        "plt.ylabel('Pourcentage de taux moyen (en %)')\n",
        "plt.title('Moyenne des taux de fautes par catégorie (Catégorie moyenne)')\n",
        "plt.xticks(x + bar_width * (len(categories) - 1) / 2, error_types)\n",
        "plt.legend(title=\"Catégorie ELO\")\n",
        "plt.tight_layout()\n",
        "plt.show()"
      ],
      "metadata": {
        "colab": {
          "base_uri": "https://localhost:8080/",
          "height": 382
        },
        "id": "kTpkiqb2cMMX",
        "outputId": "d3c095b2-3397-4f01-aebd-b5f5f3fa6664"
      },
      "execution_count": 28,
      "outputs": [
        {
          "output_type": "display_data",
          "data": {
            "text/plain": [
              "<Figure size 1400x800 with 1 Axes>"
            ],
            "image/png": "[encoded data removed]"
          },
          "metadata": {}
        }
      ]
    },
    {
      "cell_type": "markdown",
      "source": [
        "#### Classification des games avec 2 joueurs de la même catégorie"
      ],
      "metadata": {
        "id": "it5jufdcX3K8"
      }
    },
    {
      "cell_type": "code",
      "source": [
        "df_same_category = df_blitz.filter(col(\"Black_ELO_category\") == col(\"White_ELO_category\"))"
      ],
      "metadata": {
        "id": "iUfv1BQDX224"
      },
      "execution_count": 29,
      "outputs": []
    },
    {
      "cell_type": "code",
      "source": [
        "tot_blitz = df_blitz.count()\n",
        "tot_same_cat = df_same_category.count()\n",
        "print(f\"Nombre de parties total : {tot_blitz}\")\n",
        "print(f\"Nombre de parties avec 2 joueurs de la même catégorie : {tot_blitz}\")\n",
        "print(f\"Pourcentage même catégorie : {tot_same_cat / tot_blitz * 100} %\")"
      ],
      "metadata": {
        "colab": {
          "base_uri": "https://localhost:8080/"
        },
        "id": "Wwa42HNxhrYe",
        "outputId": "fc288cd7-b688-471b-af3f-4de7b2b8ce6c"
      },
      "execution_count": 30,
      "outputs": [
        {
          "output_type": "stream",
          "name": "stdout",
          "text": [
            "Nombre de parties total : 1812120\n",
            "Nombre de parties avec 2 joueurs de la même catégorie : 1812120\n",
            "Pourcentage même catégorie : 77.09274220250315 %\n"
          ]
        }
      ]
    },
    {
      "cell_type": "code",
      "source": [
        "df_same_category_summary = df_same_category.groupBy(\"Black_ELO_category\").agg(\n",
        "    {\"Black_blunders_rate\": \"avg\", \"White_blunders_rate\": \"avg\",\n",
        "     \"Black_errors_rate\": \"avg\", \"White_errors_rate\": \"avg\",\n",
        "     \"Black_inaccuracies_rate\": \"avg\", \"White_inaccuracies_rate\": \"avg\"}\n",
        ").withColumnRenamed(\"avg(Black_blunders_rate)\", \"Avg_Black_blunders_rate\") \\\n",
        " .withColumnRenamed(\"avg(White_blunders_rate)\", \"Avg_White_blunders_rate\") \\\n",
        " .withColumnRenamed(\"avg(Black_errors_rate)\", \"Avg_Black_errors_rate\") \\\n",
        " .withColumnRenamed(\"avg(White_errors_rate)\", \"Avg_White_errors_rate\") \\\n",
        " .withColumnRenamed(\"avg(Black_inaccuracies_rate)\", \"Avg_Black_inaccuracies_rate\") \\\n",
        " .withColumnRenamed(\"avg(White_inaccuracies_rate)\", \"Avg_White_inaccuracies_rate\")"
      ],
      "metadata": {
        "id": "8E8WMVXZYBf6"
      },
      "execution_count": 31,
      "outputs": []
    },
    {
      "cell_type": "code",
      "source": [
        "df_same_category_summary_pandas = df_same_category_summary.toPandas()"
      ],
      "metadata": {
        "id": "l_Ye8JmudLX7"
      },
      "execution_count": 32,
      "outputs": []
    },
    {
      "cell_type": "code",
      "source": [
        "# TODO : Voir si on affiche les other\n",
        "\n",
        "# Ordonner les catégories de joueurs\n",
        "category_order = [\"other\", \"occasional player\", \"good club player\", \"very good club player\",\n",
        "                  \"national and international level\", \"GMI, World Champions\"]\n",
        "df_same_category_summary_pandas['Black_ELO_category'] = pd.Categorical(df_same_category_summary_pandas['Black_ELO_category'],  categories=category_order,  ordered=True)\n",
        "df_same_category_summary_pandas = df_same_category_summary_pandas.sort_values('Black_ELO_category')\n",
        "\n",
        "\n",
        "categories = df_same_category_summary_pandas['Black_ELO_category']\n",
        "error_types = ['Bourdes', 'Erreurs', 'Imprecisions']\n",
        "\n",
        "# Données par type d'erreur et catégorie (moyenne) # TODO : Voir si on fait autrement\n",
        "blunders = df_same_category_summary_pandas[['Avg_Black_blunders_rate', 'Avg_White_blunders_rate']].mean(axis=1)*100\n",
        "mistakes = df_same_category_summary_pandas[['Avg_Black_errors_rate', 'Avg_White_errors_rate']].mean(axis=1)*100\n",
        "inaccuracies = df_same_category_summary_pandas[['Avg_Black_inaccuracies_rate', 'Avg_White_inaccuracies_rate']].mean(axis=1)*100\n",
        "\n",
        "# Matrice (erreurs x catégorie)\n",
        "data = np.array([blunders, mistakes, inaccuracies]).T"
      ],
      "metadata": {
        "id": "WtSEk6uMfAnG"
      },
      "execution_count": 33,
      "outputs": []
    },
    {
      "cell_type": "code",
      "source": [
        "# Graphique\n",
        "plt.figure(figsize=(14, 8))\n",
        "x = np.arange(len(error_types))\n",
        "bar_width = 0.15\n",
        "for i, category in enumerate(categories):\n",
        "    plt.bar(x + i * bar_width, data[i], width=bar_width, label=str(category))\n",
        "\n",
        "plt.xlabel('Type de fautes') # TODO : Peut etre dire autrement\n",
        "plt.ylabel('Pourcentage de taux moyen (en %)')\n",
        "plt.title('Moyenne des taux de fautes par catégorie (Même catégorie entre les joueurs)')\n",
        "plt.xticks(x + bar_width * (len(categories) - 1) / 2, error_types)\n",
        "plt.legend(title=\"Catégorie ELO\")\n",
        "plt.tight_layout()\n",
        "plt.show()"
      ],
      "metadata": {
        "colab": {
          "base_uri": "https://localhost:8080/",
          "height": 382
        },
        "id": "zKlJ7m2AeUJA",
        "outputId": "73a7325a-24e1-4ac7-9e0b-c18b4013e375"
      },
      "execution_count": 34,
      "outputs": [
        {
          "output_type": "display_data",
          "data": {
            "text/plain": [
              "<Figure size 1400x800 with 1 Axes>"
            ],
            "image/png": "[encoded data removed]"
          },
          "metadata": {}
        }
      ]
    },
    {
      "cell_type": "markdown",
      "source": [
        "#### Résultats"
      ],
      "metadata": {
        "id": "M8vNfmy-g0d7"
      }
    },
    {
      "cell_type": "markdown",
      "source": [
        "- Même résultats par moyenne ou seulement les joueurs ayant la même catégorie.\n",
        "- Tous les types de fautes ont tendances à dimuner plus le niveau augmente (taux diminue)\n",
        "- En accord avec l'hypothèse"
      ],
      "metadata": {
        "id": "v5acBCPUg3nC"
      }
    },
    {
      "cell_type": "code",
      "source": [
        "# TODO : Parler des résultats\n",
        "# Peut etre refaire d'autres graphiques"
      ],
      "metadata": {
        "id": "lXKE0vP-gnX-"
      },
      "execution_count": 35,
      "outputs": []
    },
    {
      "cell_type": "markdown",
      "source": [
        "### Question 2"
      ],
      "metadata": {
        "id": "YGmM--xUgI7N"
      }
    },
    {
      "cell_type": "markdown",
      "source": [
        "Les Opening et ECO coressepondent aux ouvertures, nous regardons s'ils sont alignés."
      ],
      "metadata": {
        "id": "41P8vKRnZ6kH"
      }
    },
    {
      "cell_type": "code",
      "source": [
        "# Nombre valeurs opening\n",
        "print(f\"Nombre de valeurs opening : {df_spark.select('Opening').distinct().count()}\")\n",
        "print(f\"Nombre de valeurs ECO : {df_spark.select('ECO').distinct().count()}\")"
      ],
      "metadata": {
        "colab": {
          "base_uri": "https://localhost:8080/"
        },
        "id": "KfgPipGf5Fdo",
        "outputId": "e069b344-29a2-4375-8966-df70252cca55"
      },
      "execution_count": 36,
      "outputs": [
        {
          "output_type": "stream",
          "name": "stdout",
          "text": [
            "Nombre de valeurs opening : 2790\n",
            "Nombre de valeurs ECO : 492\n"
          ]
        }
      ]
    },
    {
      "cell_type": "code",
      "source": [
        "#  Checker si les colonnes ECO et Opening sont toujours alignées\n",
        "alignment_check_1 = df_spark.groupBy(\"ECO\").agg(countDistinct(\"Opening\").alias(\"Unique_Openings\"))\n",
        "misaligned_rows_1 = alignment_check_1.filter(col(\"Unique_Openings\") > 1)"
      ],
      "metadata": {
        "id": "pn4f69Fx17ju"
      },
      "execution_count": 37,
      "outputs": []
    },
    {
      "cell_type": "code",
      "source": [
        "# Afficher les résultats\n",
        "if misaligned_rows_1.count() > 0:\n",
        "    print(\"Il existe plusieurs Openings pour un code ECO.\")\n",
        "    misaligned_rows_1.show(5)\n",
        "    print(\"Nombre de lignes : \", misaligned_rows_1.count())\n",
        "else:\n",
        "    print(\"Il existe un seul Opening pour un code ECO.\")"
      ],
      "metadata": {
        "colab": {
          "base_uri": "https://localhost:8080/"
        },
        "id": "Gu0Edcv32tO5",
        "outputId": "1b7baab5-fecb-473b-c650-a31112c2cbef"
      },
      "execution_count": 38,
      "outputs": [
        {
          "output_type": "stream",
          "name": "stdout",
          "text": [
            "Il existe plusieurs Openings pour un code ECO.\n",
            "+---+---------------+\n",
            "|ECO|Unique_Openings|\n",
            "+---+---------------+\n",
            "|B05|              4|\n",
            "|B79|              2|\n",
            "|A47|              3|\n",
            "|E83|              3|\n",
            "|B34|              3|\n",
            "+---+---------------+\n",
            "only showing top 5 rows\n",
            "\n",
            "Nombre de lignes :  353\n"
          ]
        }
      ]
    },
    {
      "cell_type": "code",
      "source": [
        "#  Checker si les colonnes ECO et Opening sont toujours alignées\n",
        "alignment_check_2 = df_spark.groupBy(\"Opening\").agg(countDistinct(\"ECO\").alias(\"Unique_ECOs\"))\n",
        "misaligned_rows_2 = alignment_check_2.filter(col(\"Unique_ECOs\") > 1)"
      ],
      "metadata": {
        "id": "XPLNZ7I_2wm2"
      },
      "execution_count": 39,
      "outputs": []
    },
    {
      "cell_type": "code",
      "source": [
        "# Afficher les résultats\n",
        "if misaligned_rows_2.count() > 0:\n",
        "    print(\"Il existe plusieurs ECO pour un code Opening.\")\n",
        "    misaligned_rows_2.show(5)\n",
        "    print(\"Nombre de lignes : \", misaligned_rows_2.count())\n",
        "else:\n",
        "    print(\"Il existe un seul ECO pour un code Opening.\")"
      ],
      "metadata": {
        "colab": {
          "base_uri": "https://localhost:8080/"
        },
        "id": "o-1nR4KR3f8j",
        "outputId": "091b4233-aaba-444f-c1ce-ae0120840d09"
      },
      "execution_count": 40,
      "outputs": [
        {
          "output_type": "stream",
          "name": "stdout",
          "text": [
            "Il existe plusieurs ECO pour un code Opening.\n",
            "+--------------------+-----------+\n",
            "|             Opening|Unique_ECOs|\n",
            "+--------------------+-----------+\n",
            "|  St. George Defense|          2|\n",
            "|Nimzo-Indian Defe...|          5|\n",
            "|        Torre Attack|          2|\n",
            "|   Caro-Kann Defense|          4|\n",
            "|Sicilian Defense:...|          2|\n",
            "+--------------------+-----------+\n",
            "only showing top 5 rows\n",
            "\n",
            "Nombre de lignes :  95\n"
          ]
        }
      ]
    },
    {
      "cell_type": "markdown",
      "source": [
        "Beaucoup de Opening et ECO ne sont pas alignés, nous allons regarder si ce sont des erreurs."
      ],
      "metadata": {
        "id": "RZaOgJPZaC4H"
      }
    },
    {
      "cell_type": "code",
      "source": [
        "# Filtrer pour les ouvertures ayant plusieurs ECO\n",
        "misaligned_rows_2 = alignment_check_2.filter(col(\"Unique_ECOs\") > 1)\n",
        "opening_eco_counts = df_spark.groupBy(\"Opening\", \"ECO\").agg(count(\"*\").alias(\"count\"))\n",
        "multiple_opening_eco_counts = misaligned_rows_2.join(opening_eco_counts, on=\"Opening\", how=\"inner\")\n",
        "multiple_opening_eco_counts.orderBy(\"Opening\", \"count\", ascending=False).show(truncate=False)\n"
      ],
      "metadata": {
        "colab": {
          "base_uri": "https://localhost:8080/"
        },
        "id": "Qb3pNGYNQk5g",
        "outputId": "7d6a41ff-6c0e-4783-d882-c02cb071781d"
      },
      "execution_count": 41,
      "outputs": [
        {
          "output_type": "stream",
          "name": "stdout",
          "text": [
            "+------------------------------------------------------------------------+-----------+---+-----+\n",
            "|Opening                                                                 |Unique_ECOs|ECO|count|\n",
            "+------------------------------------------------------------------------+-----------+---+-----+\n",
            "|Vienna Game: Vienna Gambit                                              |2          |C28|3648 |\n",
            "|Vienna Game: Vienna Gambit                                              |2          |C25|1193 |\n",
            "|Torre Attack                                                            |2          |A46|1704 |\n",
            "|Torre Attack                                                            |2          |A48|1587 |\n",
            "|St. George Defense                                                      |2          |B00|4265 |\n",
            "|St. George Defense                                                      |2          |C00|690  |\n",
            "|Slav Defense: Exchange Variation                                        |2          |D10|5637 |\n",
            "|Slav Defense: Exchange Variation                                        |2          |D13|1076 |\n",
            "|Sicilian Defense: Scheveningen Variation, Classical Variation           |2          |B84|944  |\n",
            "|Sicilian Defense: Scheveningen Variation, Classical Variation           |2          |B83|111  |\n",
            "|Sicilian Defense: Richter-Rauzer Variation, Neo-Modern Variation        |2          |B67|90   |\n",
            "|Sicilian Defense: Richter-Rauzer Variation, Neo-Modern Variation        |2          |B68|17   |\n",
            "|Sicilian Defense: Richter-Rauzer Variation, Modern Variation            |2          |B60|58   |\n",
            "|Sicilian Defense: Richter-Rauzer Variation, Modern Variation            |2          |B61|51   |\n",
            "|Sicilian Defense: Richter-Rauzer Variation, Classical Variation         |3          |B63|124  |\n",
            "|Sicilian Defense: Richter-Rauzer Variation, Classical Variation         |3          |B64|23   |\n",
            "|Sicilian Defense: Richter-Rauzer Variation, Classical Variation         |3          |B65|15   |\n",
            "|Sicilian Defense: Richter-Rauzer Variation                              |2          |B60|360  |\n",
            "|Sicilian Defense: Richter-Rauzer Variation                              |2          |B62|10   |\n",
            "|Sicilian Defense: Paulsen Variation, Bastrikov Variation, English Attack|2          |B48|242  |\n",
            "+------------------------------------------------------------------------+-----------+---+-----+\n",
            "only showing top 20 rows\n",
            "\n"
          ]
        }
      ]
    },
    {
      "cell_type": "markdown",
      "source": [
        "Cela ne semble pas être des erreurs, il n'y a pas de ECO ou Opening largement dominant, nous allons donc garder ces éléments comme cela et les considérer comme 2 colonnes distinctes."
      ],
      "metadata": {
        "id": "ybFjANGdaKhv"
      }
    },
    {
      "cell_type": "code",
      "source": [
        "# TODO : Voir si on traite pour aligner ou si on fait juste avec Opening\n",
        "# comme c'est fait actuellement"
      ],
      "metadata": {
        "id": "eDVorzco4DZ3"
      },
      "execution_count": 42,
      "outputs": []
    },
    {
      "cell_type": "markdown",
      "source": [
        "Nous avons pu constater que certaines configurations n'étaient joués que quelques fois et toujours gagnés par les Blancs. Cela ajoute un biais, et ne permet pas de déterminer correctement quel opening permet le plus de gagner. On obtenait plus de 3800 White_win_probability=1.\n",
        "\n",
        "Nous avons donc décidé de concerver seulement les configurations avec un nombre de parties jouées élevées.\n",
        "\n",
        "TODO : Dire combien on garde finalement et pourquoi"
      ],
      "metadata": {
        "id": "hXkg4q_iK6rM"
      }
    },
    {
      "cell_type": "markdown",
      "source": [
        "Q2: Win probability depending on opening:\n",
        "\n",
        "- Q2a: With which opening does White have the best chance to win, by level category (*) and by type of game (Blitz, Fast, Classic)."
      ],
      "metadata": {
        "id": "JuH5E2dAgNr7"
      }
    },
    {
      "cell_type": "code",
      "source": [
        "# Calculer le nombre de parties pour chaque configuration\n",
        "config_game_counts = df_spark_plus.groupBy(\"Opening\", \"White_ELO_category\", \"Game_type\").agg(count(\"*\").alias(\"Total_games_count\"))\n",
        "config_game_counts.orderBy(\"Total_games_count\", ascending=False).show(5)"
      ],
      "metadata": {
        "colab": {
          "base_uri": "https://localhost:8080/"
        },
        "id": "u75jGBagKp72",
        "outputId": "749c18b8-6c59-4c19-ebe7-0d9348e2c8b9"
      },
      "execution_count": 43,
      "outputs": [
        {
          "output_type": "stream",
          "name": "stdout",
          "text": [
            "+--------------------+------------------+---------+-----------------+\n",
            "|             Opening|White_ELO_category|Game_type|Total_games_count|\n",
            "+--------------------+------------------+---------+-----------------+\n",
            "|Queen's Pawn Game...| occasional player|    Blitz|            11963|\n",
            "|Queen's Pawn Game...|  good club player|    Blitz|            11456|\n",
            "|    Philidor Defense| occasional player|    Blitz|            10246|\n",
            "|    Philidor Defense|  good club player|    Blitz|             9800|\n",
            "|    Sicilian Defense|  good club player|    Blitz|             9702|\n",
            "+--------------------+------------------+---------+-----------------+\n",
            "only showing top 5 rows\n",
            "\n"
          ]
        }
      ]
    },
    {
      "cell_type": "code",
      "source": [
        "# Nombre total de configurations uniques\n",
        "print(f\"Nombre total de configurations possibles : {config_game_counts.count()}\")"
      ],
      "metadata": {
        "colab": {
          "base_uri": "https://localhost:8080/"
        },
        "id": "jJE5RbW9MnpR",
        "outputId": "f3b2107b-227b-4945-b36a-e0b8679f1a2a"
      },
      "execution_count": 44,
      "outputs": [
        {
          "output_type": "stream",
          "name": "stdout",
          "text": [
            "Nombre total de configurations possibles : 43813\n"
          ]
        }
      ]
    },
    {
      "cell_type": "code",
      "source": [
        "# Filtrer les configurations avec plus de 1000 parties jouées\n",
        "# TODO : Voir si on adapte le nombre de parties (autre chose que 1000)\n",
        "filtered_configurations = config_game_counts.filter(col(\"Total_games_count\") > 1000)\n",
        "filtered_configurations.orderBy(\"Total_games_count\", ascending=False).show(5)\n",
        "print(f\"Nombre de configurations avec plus de 1000 parties jouées : {filtered_configurations.count()}\")"
      ],
      "metadata": {
        "colab": {
          "base_uri": "https://localhost:8080/"
        },
        "id": "BGq5eexmMrTo",
        "outputId": "995781a0-6feb-4485-eb7a-693d4959c81a"
      },
      "execution_count": 45,
      "outputs": [
        {
          "output_type": "stream",
          "name": "stdout",
          "text": [
            "+--------------------+------------------+---------+-----------------+\n",
            "|             Opening|White_ELO_category|Game_type|Total_games_count|\n",
            "+--------------------+------------------+---------+-----------------+\n",
            "|Queen's Pawn Game...| occasional player|    Blitz|            11963|\n",
            "|Queen's Pawn Game...|  good club player|    Blitz|            11456|\n",
            "|    Philidor Defense| occasional player|    Blitz|            10246|\n",
            "|    Philidor Defense|  good club player|    Blitz|             9800|\n",
            "|    Sicilian Defense|  good club player|    Blitz|             9702|\n",
            "+--------------------+------------------+---------+-----------------+\n",
            "only showing top 5 rows\n",
            "\n",
            "Nombre de configurations avec plus de 1000 parties jouées : 690\n"
          ]
        }
      ]
    },
    {
      "cell_type": "code",
      "source": [
        "# On utilise que les configurations avec plus de 1000 parties\n",
        "filtered_df = df_spark_plus.join( filtered_configurations.select(\"Opening\", \"White_ELO_category\", \"Game_type\"), on=[\"Opening\", \"White_ELO_category\", \"Game_type\"], how=\"inner\")\n"
      ],
      "metadata": {
        "id": "YeJ6lm0bN_Pn"
      },
      "execution_count": 46,
      "outputs": []
    },
    {
      "cell_type": "code",
      "source": [
        "# Récupération des parties voulues (blancs gagnes +  type de jeux Blitz, Fast, Classic)\n",
        "df_white_wins = filtered_df.filter((col(\"Result\") == \"1-0\") & (col(\"Game_type\").isin([\"Blitz\", \"Rapid\", \"Classical\"]))) #TODO : Fast et Classic n'existe pas j'ai mis Classical et Rapid\n",
        "df_total_games = filtered_df.filter(col(\"Game_type\").isin([\"Blitz\", \"Rapid\", \"Classical\"]))"
      ],
      "metadata": {
        "id": "MyMMuNQ3glZd"
      },
      "execution_count": 47,
      "outputs": []
    },
    {
      "cell_type": "code",
      "source": [
        "# Pour chaque ouverture, catégorie et type de jeu on calcule le nombre de victoires des blancs\n",
        "df_white_wins_groupby = df_white_wins.groupBy(\"Opening\", \"White_ELO_category\", \"Game_type\").agg(count(\"*\").alias(\"White_win_count\"))\n",
        "\n",
        "# Pareil mais on calcule le total de parties jouées\n",
        "df_total_games_groupby = df_total_games.groupBy(\"Opening\", \"White_ELO_category\", \"Game_type\").agg(count(\"*\").alias(\"Total_games_count\"))"
      ],
      "metadata": {
        "id": "ax5rSGfWcPiO"
      },
      "execution_count": 48,
      "outputs": []
    },
    {
      "cell_type": "code",
      "source": [
        "df_white_wins_groupby.show(5)"
      ],
      "metadata": {
        "colab": {
          "base_uri": "https://localhost:8080/"
        },
        "id": "2z0MCCPSeZol",
        "outputId": "368b7b6a-0772-49be-a068-1b0f9b22496f"
      },
      "execution_count": 49,
      "outputs": [
        {
          "output_type": "stream",
          "name": "stdout",
          "text": [
            "+----------------+------------------+---------+---------------+\n",
            "|         Opening|White_ELO_category|Game_type|White_win_count|\n",
            "+----------------+------------------+---------+---------------+\n",
            "|Alekhine Defense|  good club player|    Blitz|            519|\n",
            "|Alekhine Defense| occasional player|    Blitz|            523|\n",
            "|Bishop's Opening|  good club player|    Blitz|           1477|\n",
            "|Bishop's Opening|  good club player|    Rapid|            834|\n",
            "|Bishop's Opening| occasional player|    Blitz|           1563|\n",
            "+----------------+------------------+---------+---------------+\n",
            "only showing top 5 rows\n",
            "\n"
          ]
        }
      ]
    },
    {
      "cell_type": "code",
      "source": [
        "df_total_games_groupby.show(5)"
      ],
      "metadata": {
        "colab": {
          "base_uri": "https://localhost:8080/"
        },
        "id": "RvYom_bSejJU",
        "outputId": "257a2094-b306-44ee-d3a1-9d8244214522"
      },
      "execution_count": 50,
      "outputs": [
        {
          "output_type": "stream",
          "name": "stdout",
          "text": [
            "+----------------+------------------+---------+-----------------+\n",
            "|         Opening|White_ELO_category|Game_type|Total_games_count|\n",
            "+----------------+------------------+---------+-----------------+\n",
            "|Alekhine Defense|  good club player|    Blitz|             1010|\n",
            "|Alekhine Defense| occasional player|    Blitz|             1029|\n",
            "|Bishop's Opening|  good club player|    Blitz|             2953|\n",
            "|Bishop's Opening|  good club player|    Rapid|             1842|\n",
            "|Bishop's Opening| occasional player|    Blitz|             3494|\n",
            "+----------------+------------------+---------+-----------------+\n",
            "only showing top 5 rows\n",
            "\n"
          ]
        }
      ]
    },
    {
      "cell_type": "code",
      "source": [
        "# Calcule de la probabilité de gagner en fonction de l'ouverture\n",
        "df_opening_stats = df_white_wins_groupby.join(df_total_games_groupby, on=[\"Opening\", \"White_ELO_category\", \"Game_type\"])\n",
        "df_opening_stats = df_opening_stats.withColumn(\"White_win_probability\", col(\"White_win_count\") / col(\"Total_games_count\"))"
      ],
      "metadata": {
        "id": "1JRCvwm1ezys"
      },
      "execution_count": 51,
      "outputs": []
    },
    {
      "cell_type": "code",
      "source": [
        "df_opening_stats.show(5)"
      ],
      "metadata": {
        "colab": {
          "base_uri": "https://localhost:8080/"
        },
        "id": "cCYS9hr6fazc",
        "outputId": "9fdb3947-9f5e-4bc8-b7e1-f14bb34be867"
      },
      "execution_count": 52,
      "outputs": [
        {
          "output_type": "stream",
          "name": "stdout",
          "text": [
            "+----------------+------------------+---------+---------------+-----------------+---------------------+\n",
            "|         Opening|White_ELO_category|Game_type|White_win_count|Total_games_count|White_win_probability|\n",
            "+----------------+------------------+---------+---------------+-----------------+---------------------+\n",
            "|Alekhine Defense|  good club player|    Blitz|            519|             1010|   0.5138613861386139|\n",
            "|Alekhine Defense| occasional player|    Blitz|            523|             1029|   0.5082604470359572|\n",
            "|Bishop's Opening|  good club player|    Blitz|           1477|             2953|   0.5001693193362682|\n",
            "|Bishop's Opening|  good club player|    Rapid|            834|             1842|   0.4527687296416938|\n",
            "|Bishop's Opening| occasional player|    Blitz|           1563|             3494|  0.44733829421866056|\n",
            "+----------------+------------------+---------+---------------+-----------------+---------------------+\n",
            "only showing top 5 rows\n",
            "\n"
          ]
        }
      ]
    },
    {
      "cell_type": "code",
      "source": [
        "df_opening_stats.count()"
      ],
      "metadata": {
        "colab": {
          "base_uri": "https://localhost:8080/"
        },
        "id": "0bI0zsP9gY4j",
        "outputId": "014223c2-97a6-4516-c306-d6d3a8507a93"
      },
      "execution_count": 53,
      "outputs": [
        {
          "output_type": "execute_result",
          "data": {
            "text/plain": [
              "548"
            ]
          },
          "metadata": {},
          "execution_count": 53
        }
      ]
    },
    {
      "cell_type": "code",
      "source": [
        "# Récupération du meilleur opening pour chaque categorie-type\n",
        "window_spec = Window.partitionBy(\"White_ELO_category\", \"Game_type\").orderBy(col(\"White_win_probability\").desc())\n",
        "best_openings = df_opening_stats.withColumn(\"rank\", row_number().over(window_spec))\n",
        "best_openings = best_openings.filter(col(\"rank\") == 1).select(\"White_ELO_category\", \"Game_type\", \"Opening\", \"White_win_probability\")"
      ],
      "metadata": {
        "id": "8DYvuedq_xTv"
      },
      "execution_count": 54,
      "outputs": []
    },
    {
      "cell_type": "code",
      "source": [
        "best_openings.orderBy(\"White_ELO_category\", \"Game_type\").show(truncate=False)"
      ],
      "metadata": {
        "colab": {
          "base_uri": "https://localhost:8080/"
        },
        "id": "wQr5WLm9Akvd",
        "outputId": "17d89c94-f6e5-4099-ff80-490de257323e"
      },
      "execution_count": 55,
      "outputs": [
        {
          "output_type": "stream",
          "name": "stdout",
          "text": [
            "+--------------------------------+---------+---------------------------------------------+---------------------+\n",
            "|White_ELO_category              |Game_type|Opening                                      |White_win_probability|\n",
            "+--------------------------------+---------+---------------------------------------------+---------------------+\n",
            "|good club player                |Blitz    |King's Pawn Game: McConnell Defense          |0.6738768718801996   |\n",
            "|good club player                |Classical|Philidor Defense                             |0.6274154589371981   |\n",
            "|good club player                |Rapid    |King's Pawn Game: McConnell Defense          |0.7159716758457907   |\n",
            "|national and international level|Blitz    |Owen Defense                                 |0.5989628349178912   |\n",
            "|national and international level|Rapid    |Queen's Pawn Game: Mason Attack              |0.5564263322884012   |\n",
            "|occasional player               |Blitz    |King's Pawn Game: McConnell Defense          |0.6744868035190615   |\n",
            "|occasional player               |Rapid    |King's Pawn Game: McConnell Defense          |0.6809487375669472   |\n",
            "|other                           |Blitz    |King's Pawn Game: McConnell Defense          |0.6675148430873622   |\n",
            "|other                           |Rapid    |Scandinavian Defense: Mieses-Kotroc Variation|0.5767731878409976   |\n",
            "|very good club player           |Blitz    |Ruy Lopez: Steinitz Defense                  |0.6385199240986718   |\n",
            "|very good club player           |Rapid    |Philidor Defense                             |0.6380240763802407   |\n",
            "+--------------------------------+---------+---------------------------------------------+---------------------+\n",
            "\n"
          ]
        }
      ]
    },
    {
      "cell_type": "code",
      "source": [
        "best_openings_pandas = best_openings.toPandas()"
      ],
      "metadata": {
        "id": "L83rRW9pQrtl"
      },
      "execution_count": 56,
      "outputs": []
    },
    {
      "cell_type": "code",
      "source": [
        "best_openings_pandas[\"GameType_Category\"] = (best_openings_pandas[\"Game_type\"] + \" | \" + best_openings_pandas[\"White_ELO_category\"])\n",
        "\n",
        "# Table pivot pour voir le meilleur opening pour chaque configuration\n",
        "pivot_table = best_openings_pandas.pivot_table(\n",
        "    index=\"GameType_Category\",\n",
        "    columns=\"Opening\",\n",
        "    values=\"White_win_probability\"\n",
        ")"
      ],
      "metadata": {
        "id": "k2dpsGhbPzrA"
      },
      "execution_count": 57,
      "outputs": []
    },
    {
      "cell_type": "code",
      "source": [
        "plt.figure(figsize=(12, 8))\n",
        "sns.heatmap(pivot_table, annot=True, fmt=\".2f\", cmap=\"coolwarm\", cbar=True)\n",
        "plt.title(\"Probabilités de victoire des Blancs par Opening et Configuration\")\n",
        "plt.xlabel(\"Opening\")\n",
        "plt.ylabel(\"Type de jeu et Catégorie ELO\")\n",
        "plt.xticks(rotation=45, ha=\"right\")\n",
        "plt.tight_layout()\n",
        "plt.show()"
      ],
      "metadata": {
        "colab": {
          "base_uri": "https://localhost:8080/",
          "height": 468
        },
        "id": "Pv2RrjNrQ3wW",
        "outputId": "f61202b6-6d0f-4f3a-8803-6c0ceb78bf01"
      },
      "execution_count": 58,
      "outputs": [
        {
          "output_type": "display_data",
          "data": {
            "text/plain": [
              "<Figure size 1200x800 with 2 Axes>"
            ],
            "image/png": "[encoded data removed]"
          },
          "metadata": {}
        }
      ]
    },
    {
      "cell_type": "code",
      "source": [
        "# TODO : Voir comment on conclut ici en fonction de combien de parties min on utilise\n",
        "\n",
        "# On voit que King's ... permet de gagner dans plusieurs conf"
      ],
      "metadata": {
        "id": "BQrFNXrjIBEu"
      },
      "execution_count": 59,
      "outputs": []
    },
    {
      "cell_type": "markdown",
      "source": [
        "- Q2b: same question with black. You don't need to write again the same but only the results with black."
      ],
      "metadata": {
        "id": "wSzOqkhIb368"
      }
    },
    {
      "cell_type": "code",
      "source": [
        "# TODO : Copier ce qu'il y a dans Q2a en remplacant White_ELO_category par Black_ELO_category\n",
        "# A faire quand on aura décidé comment on fait"
      ],
      "metadata": {
        "id": "ZjrdbJ1UPaCo"
      },
      "execution_count": 60,
      "outputs": []
    },
    {
      "cell_type": "markdown",
      "source": [
        "### Question 3"
      ],
      "metadata": {
        "id": "ib5E3BoQP47F"
      }
    },
    {
      "cell_type": "markdown",
      "source": [
        "Q3: (difficult). Does a line of data in the file predict the outcome of the game (column Result), and with what\n",
        "probability? In other words, can any of the variables, such as the number of errors (mistakes, blunders, inacurracies,\n",
        "ts_blunders), the difference in ELO between the two players, etc., explain the outcome (win/loss)? You are free to\n",
        "define explain as you wish. It can be a correlation, linear or not, or any other relationship that allows this prediction.\n",
        "\n",
        "Note that the ELO is itself computed from a probability (normal distribution) of victory depending on the difference\n",
        "in ELO of the two players. For instance, for a difference of 100 ELO points, the higher ranked player is expected to\n",
        "win with probability 0.64. For a 200 points difference, it is 0.76.\n",
        "\n",
        "As we have more data than the ELO difference, your prediction should be more accurate than that."
      ],
      "metadata": {
        "id": "DH7Khn9AP6hA"
      }
    },
    {
      "cell_type": "markdown",
      "source": [
        "#### Observation des données"
      ],
      "metadata": {
        "id": "C02cvUwyw4DI"
      }
    },
    {
      "cell_type": "code",
      "source": [
        "df_spark.show(5)"
      ],
      "metadata": {
        "colab": {
          "base_uri": "https://localhost:8080/"
        },
        "id": "iJgruJiL1X57",
        "outputId": "a1ae13db-a8ca-49e7-8fda-d597080eb5e1"
      },
      "execution_count": 61,
      "outputs": [
        {
          "output_type": "stream",
          "name": "stdout",
          "text": [
            "+----+--------+---------------+----------+---+----------------+--------------------+------+--------------------+------------+-----------+-------------------+--------+---------------+------------------+------------------+-------------+---------+---------+-----------+--------------+--------------+--------------+--------------+------------------+------------------+--------------------+--------------------+--------------+--------------+-----------------+-----------------+-----------------+----------------+----------------+----------------+--------------------+--------------------+----------+-------------+\n",
            "|GAME|BlackElo|BlackRatingDiff|      Date|ECO|           Event|             Opening|Result|                Site| Termination|TimeControl|            UTCTime|WhiteElo|WhiteRatingDiff|Black_elo_category|White_elo_category|starting_time|increment|Game_type|Total_moves|Black_blunders|White_blunders|Black_mistakes|White_mistakes|Black_inaccuracies|White_inaccuracies|Black_inferior_moves|White_inferior_moves|Black_ts_moves|White_ts_moves|Black_ts_blunders|White_ts_blunders|Black_ts_mistakes|White_ts_mistake|Black_long_moves|White_long_moves|Black_bad_long_moves|White_bad_long_moves|Game_flips|Game_flips_ts|\n",
            "+----+--------+---------------+----------+---+----------------+--------------------+------+--------------------+------------+-----------+-------------------+--------+---------------+------------------+------------------+-------------+---------+---------+-----------+--------------+--------------+--------------+--------------+------------------+------------------+--------------------+--------------------+--------------+--------------+-----------------+-----------------+-----------------+----------------+----------------+----------------+--------------------+--------------------+----------+-------------+\n",
            "|  11|    1143|              6|2020.09.01|A02|Rated Blitz game|        Bird Opening|   0-1|https://lichess.o...|Time forfeit|      300+0|2024-12-28 00:00:00|    1180|             -7|        Low rating|        Low rating|          300|        0|    Blitz|         66|             4|             2|             0|             3|                 3|                 1|                   7|                   6|             8|             8|                0|                0|                0|               0|               2|               1|                   1|                   1|         8|            0|\n",
            "|  14|    1504|           NULL|2020.09.01|A04|Rated Blitz game|        Réti Opening|   0-1|https://lichess.o...|      Normal|      300+0|2024-12-28 00:00:00|    1381|           NULL|        Low rating|        Low rating|          300|        0|    Blitz|         64|             2|             1|             1|             1|                 7|                 5|                  10|                   7|             0|             0|                0|                0|                0|               0|               0|               1|                   0|                   0|         6|            0|\n",
            "|  29|    1933|              1|2020.09.01|C41|Rated Blitz game|    Philidor Defense|   0-1|https://lichess.o...|Time forfeit|      300+2|2024-12-28 00:00:00|    1485|             -1|       High rating|        Low rating|          300|        2|    Blitz|         70|             0|             1|             1|             2|                 8|                 8|                   9|                  11|             0|             2|                0|                0|                0|               0|               1|               1|                   1|                   0|         5|            0|\n",
            "|  40|    1710|             10|2020.09.01|B23|Rated Blitz game|Sicilian Defense:...|   0-1|https://lichess.o...|      Normal|      180+2|2024-12-28 00:00:00|    2040|            -11|        Low rating|       High rating|          180|        2|    Blitz|         86|             4|             2|             1|             5|                 3|                 4|                   8|                  11|            18|             0|                4|                0|                0|               0|               3|               1|                   1|                   0|         8|            1|\n",
            "|  55|    1598|             -1|2020.09.01|B03|Rated Rapid game|    Alekhine Defense|   1-0|https://lichess.o...|      Normal|      600+0|2024-12-28 00:00:00|    2163|              0|        Low rating|       High rating|          600|        0|    Rapid|         71|             1|             0|             1|             1|                 6|                 2|                   8|                   3|             0|             0|                0|                0|                0|               0|               0|               0|                   0|                   0|         2|            0|\n",
            "+----+--------+---------------+----------+---+----------------+--------------------+------+--------------------+------------+-----------+-------------------+--------+---------------+------------------+------------------+-------------+---------+---------+-----------+--------------+--------------+--------------+--------------+------------------+------------------+--------------------+--------------------+--------------+--------------+-----------------+-----------------+-----------------+----------------+----------------+----------------+--------------------+--------------------+----------+-------------+\n",
            "only showing top 5 rows\n",
            "\n"
          ]
        }
      ]
    },
    {
      "cell_type": "markdown",
      "source": [
        "#### Gestion valeurs NULL"
      ],
      "metadata": {
        "id": "7nwC7P5S8x6B"
      }
    },
    {
      "cell_type": "code",
      "source": [
        "# Calcule valeurs null par colonnes\n",
        "null_counts = df_spark.select(\n",
        "    *[\n",
        "        count(when(col(c).isNull(), c)).alias(c)\n",
        "        for c in df_spark.columns\n",
        "    ]\n",
        ")\n",
        "\n",
        "null_counts.show()"
      ],
      "metadata": {
        "colab": {
          "base_uri": "https://localhost:8080/"
        },
        "id": "sGSVVh9i7llY",
        "outputId": "9b241ebc-9d36-4a58-af22-cb27ec1a8d0c"
      },
      "execution_count": 62,
      "outputs": [
        {
          "output_type": "stream",
          "name": "stdout",
          "text": [
            "+----+--------+---------------+----+---+-----+-------+------+----+-----------+-----------+-------+--------+---------------+------------------+------------------+-------------+---------+---------+-----------+--------------+--------------+--------------+--------------+------------------+------------------+--------------------+--------------------+--------------+--------------+-----------------+-----------------+-----------------+----------------+----------------+----------------+--------------------+--------------------+----------+-------------+\n",
            "|GAME|BlackElo|BlackRatingDiff|Date|ECO|Event|Opening|Result|Site|Termination|TimeControl|UTCTime|WhiteElo|WhiteRatingDiff|Black_elo_category|White_elo_category|starting_time|increment|Game_type|Total_moves|Black_blunders|White_blunders|Black_mistakes|White_mistakes|Black_inaccuracies|White_inaccuracies|Black_inferior_moves|White_inferior_moves|Black_ts_moves|White_ts_moves|Black_ts_blunders|White_ts_blunders|Black_ts_mistakes|White_ts_mistake|Black_long_moves|White_long_moves|Black_bad_long_moves|White_bad_long_moves|Game_flips|Game_flips_ts|\n",
            "+----+--------+---------------+----+---+-----+-------+------+----+-----------+-----------+-------+--------+---------------+------------------+------------------+-------------+---------+---------+-----------+--------------+--------------+--------------+--------------+------------------+------------------+--------------------+--------------------+--------------+--------------+-----------------+-----------------+-----------------+----------------+----------------+----------------+--------------------+--------------------+----------+-------------+\n",
            "|   0|       0|          13036|   0|  0|    0|      0|     0|   0|          0|          0|      0|       0|          13057|                 0|                 0|        10344|    10344|        0|          0|             0|             0|             0|             0|                 0|                 0|                   0|                   0|             0|             0|                0|                0|                0|               0|               0|               0|                   0|                   0|         0|            0|\n",
            "+----+--------+---------------+----+---+-----+-------+------+----+-----------+-----------+-------+--------+---------------+------------------+------------------+-------------+---------+---------+-----------+--------------+--------------+--------------+--------------+------------------+------------------+--------------------+--------------------+--------------+--------------+-----------------+-----------------+-----------------+----------------+----------------+----------------+--------------------+--------------------+----------+-------------+\n",
            "\n"
          ]
        }
      ]
    },
    {
      "cell_type": "markdown",
      "source": [
        "Valeurs null dans les colonnes :\n",
        "- BlackRatingDiff\n",
        "- WhiteRatingDiff\n",
        "- starting_time\n",
        "- increment"
      ],
      "metadata": {
        "id": "584wXxKm71yB"
      }
    },
    {
      "cell_type": "markdown",
      "source": [
        "##### Gestion starting_time et increment"
      ],
      "metadata": {
        "id": "FsJjnr4o-pZd"
      }
    },
    {
      "cell_type": "code",
      "source": [
        "# Même nombre null pour starting_time et increment, on vérifie que c'est aligné\n",
        "df_spark.filter(col(\"starting_time\").isNull() & col(\"increment\").isNull()).count()"
      ],
      "metadata": {
        "colab": {
          "base_uri": "https://localhost:8080/"
        },
        "id": "R9DqgPll9eQB",
        "outputId": "6b176678-933e-499b-c0c0-9c2f2d93d1ea"
      },
      "execution_count": 63,
      "outputs": [
        {
          "output_type": "execute_result",
          "data": {
            "text/plain": [
              "10344"
            ]
          },
          "metadata": {},
          "execution_count": 63
        }
      ]
    },
    {
      "cell_type": "code",
      "source": [
        "# Afficher les type de game quand ces 2 colonnes sont NULL\n",
        "df_spark.filter(col(\"starting_time\").isNull() & col(\"increment\").isNull()).select(\"Game_type\").distinct().show()"
      ],
      "metadata": {
        "colab": {
          "base_uri": "https://localhost:8080/"
        },
        "id": "R5GbM2Wu9vwu",
        "outputId": "29be68f5-ff60-4c6f-e04b-c6585e32cf11"
      },
      "execution_count": 64,
      "outputs": [
        {
          "output_type": "stream",
          "name": "stdout",
          "text": [
            "+--------------+\n",
            "|     Game_type|\n",
            "+--------------+\n",
            "|Correspondence|\n",
            "+--------------+\n",
            "\n"
          ]
        }
      ]
    },
    {
      "cell_type": "code",
      "source": [
        "# Afficher les parties avec type de jeu Correspondence et starting_time ou increment non null\n",
        "df_spark.filter((col(\"Game_type\") == \"Correspondence\") & (col(\"starting_time\").isNotNull() | col(\"increment\").isNotNull())).show()"
      ],
      "metadata": {
        "colab": {
          "base_uri": "https://localhost:8080/"
        },
        "id": "1mw_BCfA-bLo",
        "outputId": "4ad70f58-8d53-47a9-a8da-cac0fc69175a"
      },
      "execution_count": 65,
      "outputs": [
        {
          "output_type": "stream",
          "name": "stdout",
          "text": [
            "+----+--------+---------------+----+---+-----+-------+------+----+-----------+-----------+-------+--------+---------------+------------------+------------------+-------------+---------+---------+-----------+--------------+--------------+--------------+--------------+------------------+------------------+--------------------+--------------------+--------------+--------------+-----------------+-----------------+-----------------+----------------+----------------+----------------+--------------------+--------------------+----------+-------------+\n",
            "|GAME|BlackElo|BlackRatingDiff|Date|ECO|Event|Opening|Result|Site|Termination|TimeControl|UTCTime|WhiteElo|WhiteRatingDiff|Black_elo_category|White_elo_category|starting_time|increment|Game_type|Total_moves|Black_blunders|White_blunders|Black_mistakes|White_mistakes|Black_inaccuracies|White_inaccuracies|Black_inferior_moves|White_inferior_moves|Black_ts_moves|White_ts_moves|Black_ts_blunders|White_ts_blunders|Black_ts_mistakes|White_ts_mistake|Black_long_moves|White_long_moves|Black_bad_long_moves|White_bad_long_moves|Game_flips|Game_flips_ts|\n",
            "+----+--------+---------------+----+---+-----+-------+------+----+-----------+-----------+-------+--------+---------------+------------------+------------------+-------------+---------+---------+-----------+--------------+--------------+--------------+--------------+------------------+------------------+--------------------+--------------------+--------------+--------------+-----------------+-----------------+-----------------+----------------+----------------+----------------+--------------------+--------------------+----------+-------------+\n",
            "+----+--------+---------------+----+---+-----+-------+------+----+-----------+-----------+-------+--------+---------------+------------------+------------------+-------------+---------+---------+-----------+--------------+--------------+--------------+--------------+------------------+------------------+--------------------+--------------------+--------------+--------------+-----------------+-----------------+-----------------+----------------+----------------+----------------+--------------------+--------------------+----------+-------------+\n",
            "\n"
          ]
        }
      ]
    },
    {
      "cell_type": "code",
      "source": [
        "# TODO : Les NULL sont normaux, on fait quoi ?"
      ],
      "metadata": {
        "id": "FXonO2Ge_LDA"
      },
      "execution_count": 66,
      "outputs": []
    },
    {
      "cell_type": "markdown",
      "source": [
        "OK comme dans la doc"
      ],
      "metadata": {
        "id": "HW0Dag3m9-dp"
      }
    },
    {
      "cell_type": "code",
      "source": [
        "# Vérifier si TimeControl correspond bien à starting_time+increment\n",
        "# Extraire starting_time et increment à partir de TimeControl\n",
        "df_spark_check = df_spark.withColumn(\n",
        "    \"starting_time_extracted\",\n",
        "    when(col(\"TimeControl\") != \"-\", split(col(\"TimeControl\"), \"\\+\")[0].cast(\"int\"))\n",
        "    .otherwise(None))\n",
        "\n",
        "df_spark_check = df_spark_check.withColumn(\n",
        "    \"increment_extracted\",\n",
        "    when(col(\"TimeControl\") != \"-\", split(col(\"TimeControl\"), \"\\+\")[1].cast(\"int\"))\n",
        "    .otherwise(None))\n",
        "\n",
        "# Recréer TimeControl avec les colonnes extraites\n",
        "df_spark_check = df_spark_check.withColumn(\n",
        "    \"TimeControl_reconstructed\",\n",
        "    when(col(\"starting_time_extracted\").isNull() & col(\"increment_extracted\").isNull(), \"-\")\n",
        "    .otherwise(concat_ws(\"+\", col(\"starting_time_extracted\"), col(\"increment_extracted\")))\n",
        ")\n",
        "\n",
        "# Comparer TimeControl avec la recréation\n",
        "df_spark_check = df_spark_check.withColumn(\n",
        "    \"is_matching\",\n",
        "    col(\"TimeControl\") == col(\"TimeControl_reconstructed\")\n",
        ")\n",
        "\n",
        "# Checker les résultats\n",
        "df_spark_check.select(\"TimeControl\", \"starting_time\", \"increment\", \"starting_time_extracted\", \"increment_extracted\", \"TimeControl_reconstructed\", \"is_matching\").show(5)\n",
        "mismatch_count = df_spark_check.filter(col(\"is_matching\") == False).count()\n",
        "print(f\"Nombre de désalignements : {mismatch_count}\")"
      ],
      "metadata": {
        "colab": {
          "base_uri": "https://localhost:8080/"
        },
        "id": "7tERsB8fVQI0",
        "outputId": "6516adfd-d015-4192-a9f9-290e01ef105e"
      },
      "execution_count": 67,
      "outputs": [
        {
          "output_type": "stream",
          "name": "stdout",
          "text": [
            "+-----------+-------------+---------+-----------------------+-------------------+-------------------------+-----------+\n",
            "|TimeControl|starting_time|increment|starting_time_extracted|increment_extracted|TimeControl_reconstructed|is_matching|\n",
            "+-----------+-------------+---------+-----------------------+-------------------+-------------------------+-----------+\n",
            "|      300+0|          300|        0|                    300|                  0|                    300+0|       true|\n",
            "|      300+0|          300|        0|                    300|                  0|                    300+0|       true|\n",
            "|      300+2|          300|        2|                    300|                  2|                    300+2|       true|\n",
            "|      180+2|          180|        2|                    180|                  2|                    180+2|       true|\n",
            "|      600+0|          600|        0|                    600|                  0|                    600+0|       true|\n",
            "+-----------+-------------+---------+-----------------------+-------------------+-------------------------+-----------+\n",
            "only showing top 5 rows\n",
            "\n",
            "Nombre de désalignements : 0\n"
          ]
        }
      ]
    },
    {
      "cell_type": "markdown",
      "source": [
        "##### Gestion BlackRatingDiff et WhiteRatingDiff"
      ],
      "metadata": {
        "id": "D38qs6o9-vVZ"
      }
    },
    {
      "cell_type": "code",
      "source": [
        "# Même nombre null pour starting_time et increment, on vérifie que c'est aligné\n",
        "df_spark.filter(col(\"BlackRatingDiff\").isNull() & col(\"WhiteRatingDiff\").isNull()).count()"
      ],
      "metadata": {
        "colab": {
          "base_uri": "https://localhost:8080/"
        },
        "id": "PH8XgtKj-BK1",
        "outputId": "3a27a4a0-2f60-44d1-f236-11872dce56d0"
      },
      "execution_count": 68,
      "outputs": [
        {
          "output_type": "execute_result",
          "data": {
            "text/plain": [
              "12968"
            ]
          },
          "metadata": {},
          "execution_count": 68
        }
      ]
    },
    {
      "cell_type": "code",
      "source": [
        "# pourcentage null\n",
        "prc_missed = round(df_spark.filter(col(\"BlackRatingDiff\").isNull() | col(\"WhiteRatingDiff\").isNull()).count()/df_spark.count()*100,2)\n",
        "print(f\"Pourcentage de NULL : {prc_missed}%\")"
      ],
      "metadata": {
        "colab": {
          "base_uri": "https://localhost:8080/"
        },
        "id": "mK_TlfLt__dN",
        "outputId": "791c6754-0c29-454b-a2ad-ae4a89e0e3eb"
      },
      "execution_count": 69,
      "outputs": [
        {
          "output_type": "stream",
          "name": "stdout",
          "text": [
            "Pourcentage de NULL : 0.35%\n"
          ]
        }
      ]
    },
    {
      "cell_type": "code",
      "source": [
        "# TODO : Virer les lignes avec des NULL"
      ],
      "metadata": {
        "id": "_2HPNwvWSJcL"
      },
      "execution_count": 70,
      "outputs": []
    },
    {
      "cell_type": "markdown",
      "source": [
        "#### Conservation des colonnes utiles"
      ],
      "metadata": {
        "id": "TwHSlAkW95m_"
      }
    },
    {
      "cell_type": "code",
      "source": [
        "# Colonnes inutiles\n",
        "# - GAME : un ID, Date, Site, UTCTime, TimeControl"
      ],
      "metadata": {
        "id": "jbUZEnnw1h7E"
      },
      "execution_count": 71,
      "outputs": []
    },
    {
      "cell_type": "code",
      "source": [
        "# Suppression colonnes inutiles\n",
        "columns_to_drop = [\"GAME\", \"Date\", \"Site\", \"UTCTime\",\"TimeControl\"]\n",
        "df_spark_cleaned = df_spark.drop(*columns_to_drop)"
      ],
      "metadata": {
        "id": "_wrf1D087DbA"
      },
      "execution_count": 72,
      "outputs": []
    },
    {
      "cell_type": "code",
      "source": [
        "# Observation des valeurs dans la colonne Result\n",
        "result_counts = df_spark_cleaned.groupBy(\"Result\").count()\n",
        "result_counts.orderBy(\"count\", ascending=False).show()"
      ],
      "metadata": {
        "colab": {
          "base_uri": "https://localhost:8080/"
        },
        "id": "Oh1wP1BGxAuO",
        "outputId": "0850d186-3a42-4be2-d4bc-988f01464250"
      },
      "execution_count": 73,
      "outputs": [
        {
          "output_type": "stream",
          "name": "stdout",
          "text": [
            "+-------+-------+\n",
            "| Result|  count|\n",
            "+-------+-------+\n",
            "|    1-0|1863894|\n",
            "|    0-1|1766395|\n",
            "|1/2-1/2| 109548|\n",
            "|      *|     72|\n",
            "+-------+-------+\n",
            "\n"
          ]
        }
      ]
    },
    {
      "cell_type": "code",
      "source": [
        "# TODO : Très peu de indéfini + prédit rien donc peut etre supprimer,\n",
        "# revoir en fonction des résultats obtenus\n",
        "df_spark_cleaned = df_spark_cleaned.filter(col(\"Result\") != \"*\")"
      ],
      "metadata": {
        "id": "MseqjgYC0asN"
      },
      "execution_count": 74,
      "outputs": []
    },
    {
      "cell_type": "markdown",
      "source": [
        "#### Gestion des données non numérique"
      ],
      "metadata": {
        "id": "PWAhhfCKA7La"
      }
    },
    {
      "cell_type": "code",
      "source": [
        "# Observation des types des colonnes pour savoir comment les traiter\n",
        "schema = df_spark_cleaned.schema\n",
        "columns_by_type = defaultdict(list)\n",
        "\n",
        "for field in schema:\n",
        "    columns_by_type[str(field.dataType)].append(field.name)\n",
        "\n",
        "for data_type, columns in columns_by_type.items():\n",
        "    print(f\"Type: {data_type}\")\n",
        "    print(f\"Columns: {columns}\\n\")"
      ],
      "metadata": {
        "id": "XJPgCitQRLhb",
        "colab": {
          "base_uri": "https://localhost:8080/"
        },
        "outputId": "caa5f986-3620-4b50-d1a3-40ab2737ac5b"
      },
      "execution_count": 75,
      "outputs": [
        {
          "output_type": "stream",
          "name": "stdout",
          "text": [
            "Type: IntegerType()\n",
            "Columns: ['BlackElo', 'BlackRatingDiff', 'WhiteElo', 'WhiteRatingDiff', 'starting_time', 'increment', 'Total_moves', 'Black_blunders', 'White_blunders', 'Black_mistakes', 'White_mistakes', 'Black_inaccuracies', 'White_inaccuracies', 'Black_inferior_moves', 'White_inferior_moves', 'Black_ts_moves', 'White_ts_moves', 'Black_ts_blunders', 'White_ts_blunders', 'Black_ts_mistakes', 'White_ts_mistake', 'Black_long_moves', 'White_long_moves', 'Black_bad_long_moves', 'White_bad_long_moves', 'Game_flips', 'Game_flips_ts']\n",
            "\n",
            "Type: StringType()\n",
            "Columns: ['ECO', 'Event', 'Opening', 'Result', 'Termination', 'Black_elo_category', 'White_elo_category', 'Game_type']\n",
            "\n"
          ]
        }
      ]
    },
    {
      "cell_type": "code",
      "source": [
        "# Afficher les valeurs pour les colonnes non numériques\n",
        "columns_to_check = [\n",
        "    'ECO', 'Event', 'Opening', 'Result', 'Termination',\n",
        "    'Black_elo_category', 'White_elo_category', 'Game_type'\n",
        "]\n",
        "\n",
        "for column in columns_to_check:\n",
        "    print(f\"Valeurs possibles pour la colonne '{column}':\")\n",
        "    df_spark_cleaned.select(column).distinct().show(truncate=False)\n"
      ],
      "metadata": {
        "colab": {
          "base_uri": "https://localhost:8080/"
        },
        "id": "8Ulwl0GyBApj",
        "outputId": "c4c3fc81-e18f-4c86-f51d-909964585dd0"
      },
      "execution_count": 76,
      "outputs": [
        {
          "output_type": "stream",
          "name": "stdout",
          "text": [
            "Valeurs possibles pour la colonne 'ECO':\n",
            "+---+\n",
            "|ECO|\n",
            "+---+\n",
            "|B05|\n",
            "|A23|\n",
            "|E02|\n",
            "|B79|\n",
            "|B34|\n",
            "|E83|\n",
            "|A47|\n",
            "|D81|\n",
            "|E44|\n",
            "|A76|\n",
            "|B01|\n",
            "|C22|\n",
            "|A65|\n",
            "|E56|\n",
            "|B92|\n",
            "|A46|\n",
            "|C78|\n",
            "|C95|\n",
            "|C24|\n",
            "|C77|\n",
            "+---+\n",
            "only showing top 20 rows\n",
            "\n",
            "Valeurs possibles pour la colonne 'Event':\n",
            "+---------------------------------------------------------------+\n",
            "|Event                                                          |\n",
            "+---------------------------------------------------------------+\n",
            "|Rated Blitz tournament https://lichess.org/tournament/32Y8CIiO |\n",
            "|Rated Blitz tournament https://lichess.org/tournament/Rxw6M8S8 |\n",
            "|Rated Rapid tournament https://lichess.org/tournament/fzx79J4X |\n",
            "|Rated Blitz tournament https://lichess.org/tournament/F9uklw6B |\n",
            "|Rated Blitz tournament https://lichess.org/tournament/i08yaJaB |\n",
            "|Rated Blitz tournament https://lichess.org/tournament/wLGCYyQq |\n",
            "|Rated Bullet tournament https://lichess.org/tournament/alEGuHyE|\n",
            "|Rated Blitz tournament https://lichess.org/tournament/gTxa9p5B |\n",
            "|Rated Rapid tournament https://lichess.org/tournament/utIUdzMq |\n",
            "|Rated Blitz tournament https://lichess.org/tournament/YNoZOTBZ |\n",
            "|Rated Bullet tournament https://lichess.org/tournament/dKmAe7tD|\n",
            "|Rated Blitz tournament https://lichess.org/tournament/aWqctBnu |\n",
            "|Rated Blitz tournament https://lichess.org/tournament/ZUz3rVmI |\n",
            "|Rated Blitz tournament https://lichess.org/tournament/0rAQmZDO |\n",
            "|Rated Blitz tournament https://lichess.org/tournament/o0Rx1mBA |\n",
            "|Rated Rapid tournament https://lichess.org/tournament/TvslwR6g |\n",
            "|Rated Blitz tournament https://lichess.org/tournament/fLHo8TgV |\n",
            "|Rated Blitz tournament https://lichess.org/tournament/m4nZCpSI |\n",
            "|Rated Bullet tournament https://lichess.org/tournament/QMIaQmMg|\n",
            "|Rated Blitz tournament https://lichess.org/tournament/azL5mSqo |\n",
            "+---------------------------------------------------------------+\n",
            "only showing top 20 rows\n",
            "\n",
            "Valeurs possibles pour la colonne 'Opening':\n",
            "+-------------------------------------------------------------------------------------+\n",
            "|Opening                                                                              |\n",
            "+-------------------------------------------------------------------------------------+\n",
            "|Grünfeld Defense: Exchange Variation                                                 |\n",
            "|Four Knights Game: Spanish Variation, Rubinstein Variation Accepted                  |\n",
            "|Ruy Lopez: Berlin Defense, Tarrasch Trap                                             |\n",
            "|King's Gambit, Falkbeer Countergambit, Blackburne Attack                             |\n",
            "|King's Indian Attack: Wahls Defense                                                  |\n",
            "|Alekhine Defense: Modern Variation, Larsen-Haakert Variation                         |\n",
            "|Modern Defense: Randspringer Variation                                               |\n",
            "|Caro-Kann Defense: Accelerated Panov Attack, Open Variation                          |\n",
            "|Ruy Lopez: Classical Variation, Modern Main Line                                     |\n",
            "|Blackmar-Diemer Gambit Declined, Elbert Countergambit                                |\n",
            "|Caro-Kann Defense: von Hennig Gambit                                                 |\n",
            "|Queen's Gambit Declined: Semi-Tarrasch, San Sebastian Variation                      |\n",
            "|Owen Defense: Matovinsky Gambit                                                      |\n",
            "|Queen's Gambit Accepted: Classical Defense, Steinitz Variation, Development Variation|\n",
            "|Evans Gambit, Leonhardt Countergambit                                                |\n",
            "|Slav Defense: Czech Variation, Bled Attack                                           |\n",
            "|Evans Gambit, Morphy Attack                                                          |\n",
            "|Tarrasch Defense: Rubinstein System                                                  |\n",
            "|Italian Game: Two Knights Defense, Open Variation                                    |\n",
            "|King's Indian Defense: Averbakh Variation, Flexible Defense                          |\n",
            "+-------------------------------------------------------------------------------------+\n",
            "only showing top 20 rows\n",
            "\n",
            "Valeurs possibles pour la colonne 'Result':\n",
            "+-------+\n",
            "|Result |\n",
            "+-------+\n",
            "|1/2-1/2|\n",
            "|1-0    |\n",
            "|0-1    |\n",
            "+-------+\n",
            "\n",
            "Valeurs possibles pour la colonne 'Termination':\n",
            "+----------------+\n",
            "|Termination     |\n",
            "+----------------+\n",
            "|Abandoned       |\n",
            "|Rules infraction|\n",
            "|Time forfeit    |\n",
            "|Normal          |\n",
            "+----------------+\n",
            "\n",
            "Valeurs possibles pour la colonne 'Black_elo_category':\n",
            "+------------------+\n",
            "|Black_elo_category|\n",
            "+------------------+\n",
            "|GM rating         |\n",
            "|High rating       |\n",
            "|Low rating        |\n",
            "+------------------+\n",
            "\n",
            "Valeurs possibles pour la colonne 'White_elo_category':\n",
            "+------------------+\n",
            "|White_elo_category|\n",
            "+------------------+\n",
            "|GM rating         |\n",
            "|High rating       |\n",
            "|Low rating        |\n",
            "+------------------+\n",
            "\n",
            "Valeurs possibles pour la colonne 'Game_type':\n",
            "+--------------+\n",
            "|Game_type     |\n",
            "+--------------+\n",
            "|Bullet        |\n",
            "|Blitz         |\n",
            "|Classical     |\n",
            "|Rapid         |\n",
            "|Correspondence|\n",
            "+--------------+\n",
            "\n"
          ]
        }
      ]
    },
    {
      "cell_type": "code",
      "source": [
        "# Extraire le type d'evenement\n",
        "df_spark_cleaned = df_spark_cleaned.withColumn(\"Event_type\", split(col(\"Event\"), \"https://\")[0])\n",
        "df_spark_cleaned.select(\"Event\", \"Event_type\").show(5)"
      ],
      "metadata": {
        "colab": {
          "base_uri": "https://localhost:8080/"
        },
        "id": "nS9TmYb0W6EQ",
        "outputId": "82b9ad48-0a5d-4b9c-f9d8-0c56c9150eb4"
      },
      "execution_count": 77,
      "outputs": [
        {
          "output_type": "stream",
          "name": "stdout",
          "text": [
            "+----------------+----------------+\n",
            "|           Event|      Event_type|\n",
            "+----------------+----------------+\n",
            "|Rated Blitz game|Rated Blitz game|\n",
            "|Rated Blitz game|Rated Blitz game|\n",
            "|Rated Blitz game|Rated Blitz game|\n",
            "|Rated Blitz game|Rated Blitz game|\n",
            "|Rated Rapid game|Rated Rapid game|\n",
            "+----------------+----------------+\n",
            "only showing top 5 rows\n",
            "\n"
          ]
        }
      ]
    },
    {
      "cell_type": "code",
      "source": [
        "# Afficher les Event_type différents\n",
        "df_spark_cleaned.select(\"Event_type\").distinct().show(truncate=False)"
      ],
      "metadata": {
        "colab": {
          "base_uri": "https://localhost:8080/"
        },
        "id": "m_d7lSoyW-Zr",
        "outputId": "ff7e261b-d367-4c0c-c79c-6c8551ed3708"
      },
      "execution_count": 78,
      "outputs": [
        {
          "output_type": "stream",
          "name": "stdout",
          "text": [
            "+-----------------------------+\n",
            "|Event_type                   |\n",
            "+-----------------------------+\n",
            "|Rated Classical game         |\n",
            "|Rated Blitz tournament       |\n",
            "|Rated Classical tournament   |\n",
            "|Rated Rapid tournament       |\n",
            "|Rated UltraBullet tournament |\n",
            "|Rated Bullet tournament      |\n",
            "|Rated Blitz game             |\n",
            "|Rated Correspondence game    |\n",
            "|Rated UltraBullet game       |\n",
            "|Rated Rapid game             |\n",
            "|Rated Bullet game            |\n",
            "+-----------------------------+\n",
            "\n"
          ]
        }
      ]
    },
    {
      "cell_type": "code",
      "source": [
        "from pyspark.ml.feature import OneHotEncoder, StringIndexer\n",
        "from pyspark.sql.functions import when"
      ],
      "metadata": {
        "id": "gPSc8pA7UM9X"
      },
      "execution_count": 79,
      "outputs": []
    },
    {
      "cell_type": "code",
      "source": [
        "# Gérer les différentes colonnes non-numériques\n",
        "\n",
        "# Beaucoup de valeurs : ECO et Opening\n",
        "indexer_eco = StringIndexer(inputCol=\"ECO\", outputCol=\"ECO_index\")\n",
        "indexer_opening = StringIndexer(inputCol=\"Opening\", outputCol=\"Opening_index\")\n",
        "\n",
        "df_spark_cleaned = indexer_eco.fit(df_spark_cleaned).transform(df_spark_cleaned)\n",
        "df_spark_cleaned = indexer_opening.fit(df_spark_cleaned).transform(df_spark_cleaned)\n",
        "\n",
        "# Peu de valeurs : Termination, Black_elo_category, White_elo_category, Game_type, Event_type\n",
        "# TODO : Voir si on fait One Hot mais apres c'est trop lourd pour convertir en df Pandas\n",
        "columns_to_encode = [\"Termination\", \"Black_elo_category\", \"White_elo_category\", \"Game_type\", \"Event_type\"]\n",
        "\n",
        "for column in columns_to_encode:\n",
        "    indexer = StringIndexer(inputCol=column, outputCol=f\"{column}_index\")\n",
        "    df_spark_cleaned = indexer.fit(df_spark_cleaned).transform(df_spark_cleaned)\n",
        "\n",
        "\n",
        "# Colonne à retrouver : Result\n",
        "df_spark_cleaned = df_spark_cleaned.withColumn(\n",
        "    \"Result_encoded\",\n",
        "    when(col(\"Result\") == \"1-0\", 1)\n",
        "    .when(col(\"Result\") == \"0-1\", 0)\n",
        "    .when(col(\"Result\") == \"1/2-1/2\", -1)\n",
        "    .otherwise(None)\n",
        ")"
      ],
      "metadata": {
        "id": "_9o1E_jtBrGx"
      },
      "execution_count": 80,
      "outputs": []
    },
    {
      "cell_type": "code",
      "source": [
        "df_spark_cleaned.printSchema()"
      ],
      "metadata": {
        "colab": {
          "base_uri": "https://localhost:8080/"
        },
        "id": "xgdkWG06d214",
        "outputId": "961d595a-dd60-491d-e40b-cf0cd8d58193"
      },
      "execution_count": 81,
      "outputs": [
        {
          "output_type": "stream",
          "name": "stdout",
          "text": [
            "root\n",
            " |-- BlackElo: integer (nullable = true)\n",
            " |-- BlackRatingDiff: integer (nullable = true)\n",
            " |-- ECO: string (nullable = true)\n",
            " |-- Event: string (nullable = true)\n",
            " |-- Opening: string (nullable = true)\n",
            " |-- Result: string (nullable = true)\n",
            " |-- Termination: string (nullable = true)\n",
            " |-- WhiteElo: integer (nullable = true)\n",
            " |-- WhiteRatingDiff: integer (nullable = true)\n",
            " |-- Black_elo_category: string (nullable = true)\n",
            " |-- White_elo_category: string (nullable = true)\n",
            " |-- starting_time: integer (nullable = true)\n",
            " |-- increment: integer (nullable = true)\n",
            " |-- Game_type: string (nullable = true)\n",
            " |-- Total_moves: integer (nullable = true)\n",
            " |-- Black_blunders: integer (nullable = true)\n",
            " |-- White_blunders: integer (nullable = true)\n",
            " |-- Black_mistakes: integer (nullable = true)\n",
            " |-- White_mistakes: integer (nullable = true)\n",
            " |-- Black_inaccuracies: integer (nullable = true)\n",
            " |-- White_inaccuracies: integer (nullable = true)\n",
            " |-- Black_inferior_moves: integer (nullable = true)\n",
            " |-- White_inferior_moves: integer (nullable = true)\n",
            " |-- Black_ts_moves: integer (nullable = true)\n",
            " |-- White_ts_moves: integer (nullable = true)\n",
            " |-- Black_ts_blunders: integer (nullable = true)\n",
            " |-- White_ts_blunders: integer (nullable = true)\n",
            " |-- Black_ts_mistakes: integer (nullable = true)\n",
            " |-- White_ts_mistake: integer (nullable = true)\n",
            " |-- Black_long_moves: integer (nullable = true)\n",
            " |-- White_long_moves: integer (nullable = true)\n",
            " |-- Black_bad_long_moves: integer (nullable = true)\n",
            " |-- White_bad_long_moves: integer (nullable = true)\n",
            " |-- Game_flips: integer (nullable = true)\n",
            " |-- Game_flips_ts: integer (nullable = true)\n",
            " |-- Event_type: string (nullable = true)\n",
            " |-- ECO_index: double (nullable = false)\n",
            " |-- Opening_index: double (nullable = false)\n",
            " |-- Termination_index: double (nullable = false)\n",
            " |-- Black_elo_category_index: double (nullable = false)\n",
            " |-- White_elo_category_index: double (nullable = false)\n",
            " |-- Game_type_index: double (nullable = false)\n",
            " |-- Event_type_index: double (nullable = false)\n",
            " |-- Result_encoded: integer (nullable = true)\n",
            "\n"
          ]
        }
      ]
    },
    {
      "cell_type": "code",
      "source": [
        "df_spark_cleaned.show(5)"
      ],
      "metadata": {
        "colab": {
          "base_uri": "https://localhost:8080/"
        },
        "id": "Ktvrdi5bX7Od",
        "outputId": "88751edd-19c3-4b58-c658-f79da399be96"
      },
      "execution_count": 82,
      "outputs": [
        {
          "output_type": "stream",
          "name": "stdout",
          "text": [
            "+--------+---------------+---+----------------+--------------------+------+------------+--------+---------------+------------------+------------------+-------------+---------+---------+-----------+--------------+--------------+--------------+--------------+------------------+------------------+--------------------+--------------------+--------------+--------------+-----------------+-----------------+-----------------+----------------+----------------+----------------+--------------------+--------------------+----------+-------------+----------------+---------+-------------+-----------------+------------------------+------------------------+---------------+----------------+--------------+\n",
            "|BlackElo|BlackRatingDiff|ECO|           Event|             Opening|Result| Termination|WhiteElo|WhiteRatingDiff|Black_elo_category|White_elo_category|starting_time|increment|Game_type|Total_moves|Black_blunders|White_blunders|Black_mistakes|White_mistakes|Black_inaccuracies|White_inaccuracies|Black_inferior_moves|White_inferior_moves|Black_ts_moves|White_ts_moves|Black_ts_blunders|White_ts_blunders|Black_ts_mistakes|White_ts_mistake|Black_long_moves|White_long_moves|Black_bad_long_moves|White_bad_long_moves|Game_flips|Game_flips_ts|      Event_type|ECO_index|Opening_index|Termination_index|Black_elo_category_index|White_elo_category_index|Game_type_index|Event_type_index|Result_encoded|\n",
            "+--------+---------------+---+----------------+--------------------+------+------------+--------+---------------+------------------+------------------+-------------+---------+---------+-----------+--------------+--------------+--------------+--------------+------------------+------------------+--------------------+--------------------+--------------+--------------+-----------------+-----------------+-----------------+----------------+----------------+----------------+--------------------+--------------------+----------+-------------+----------------+---------+-------------+-----------------+------------------------+------------------------+---------------+----------------+--------------+\n",
            "|    1143|              6|A02|Rated Blitz game|        Bird Opening|   0-1|Time forfeit|    1180|             -7|        Low rating|        Low rating|          300|        0|    Blitz|         66|             4|             2|             0|             3|                 3|                 1|                   7|                   6|             8|             8|                0|                0|                0|               0|               2|               1|                   1|                   1|         8|            0|Rated Blitz game|     57.0|         60.0|              1.0|                     0.0|                     0.0|            0.0|             0.0|             0|\n",
            "|    1504|           NULL|A04|Rated Blitz game|        Réti Opening|   0-1|      Normal|    1381|           NULL|        Low rating|        Low rating|          300|        0|    Blitz|         64|             2|             1|             1|             1|                 7|                 5|                  10|                   7|             0|             0|                0|                0|                0|               0|               0|               1|                   0|                   0|         6|            0|Rated Blitz game|     16.0|         80.0|              0.0|                     0.0|                     0.0|            0.0|             0.0|             0|\n",
            "|    1933|              1|C41|Rated Blitz game|    Philidor Defense|   0-1|Time forfeit|    1485|             -1|       High rating|        Low rating|          300|        2|    Blitz|         70|             0|             1|             1|             2|                 8|                 8|                   9|                  11|             0|             2|                0|                0|                0|               0|               1|               1|                   1|                   0|         5|            0|Rated Blitz game|      8.0|          1.0|              1.0|                     1.0|                     0.0|            0.0|             0.0|             0|\n",
            "|    1710|             10|B23|Rated Blitz game|Sicilian Defense:...|   0-1|      Normal|    2040|            -11|        Low rating|       High rating|          180|        2|    Blitz|         86|             4|             2|             1|             5|                 3|                 4|                   8|                  11|            18|             0|                4|                0|                0|               0|               3|               1|                   1|                   0|         8|            1|Rated Blitz game|     30.0|         88.0|              0.0|                     0.0|                     1.0|            0.0|             0.0|             0|\n",
            "|    1598|             -1|B03|Rated Rapid game|    Alekhine Defense|   1-0|      Normal|    2163|              0|        Low rating|       High rating|          600|        0|    Rapid|         71|             1|             0|             1|             1|                 6|                 2|                   8|                   3|             0|             0|                0|                0|                0|               0|               0|               0|                   0|                   0|         2|            0|Rated Rapid game|     85.0|         79.0|              0.0|                     0.0|                     1.0|            1.0|             1.0|             1|\n",
            "+--------+---------------+---+----------------+--------------------+------+------------+--------+---------------+------------------+------------------+-------------+---------+---------+-----------+--------------+--------------+--------------+--------------+------------------+------------------+--------------------+--------------------+--------------+--------------+-----------------+-----------------+-----------------+----------------+----------------+----------------+--------------------+--------------------+----------+-------------+----------------+---------+-------------+-----------------+------------------------+------------------------+---------------+----------------+--------------+\n",
            "only showing top 5 rows\n",
            "\n"
          ]
        }
      ]
    },
    {
      "cell_type": "code",
      "source": [
        "# Supprimer colonnes string remplacées si dessus\n",
        "df_spark_cleaned_num = df_spark_cleaned.drop('ECO','Site','Opening','Termination','Black_elo_category','White_elo_category','Game_type','Result','Event','Event_type')"
      ],
      "metadata": {
        "id": "bwccrLvOe0Eh"
      },
      "execution_count": 83,
      "outputs": []
    },
    {
      "cell_type": "code",
      "source": [
        "df_spark_cleaned_num.show(5)"
      ],
      "metadata": {
        "colab": {
          "base_uri": "https://localhost:8080/"
        },
        "id": "a_8cy8-Tgtb3",
        "outputId": "3c4426c5-be8c-455d-f2dc-8c342b7e9fd9"
      },
      "execution_count": 84,
      "outputs": [
        {
          "output_type": "stream",
          "name": "stdout",
          "text": [
            "+--------+---------------+--------+---------------+-------------+---------+-----------+--------------+--------------+--------------+--------------+------------------+------------------+--------------------+--------------------+--------------+--------------+-----------------+-----------------+-----------------+----------------+----------------+----------------+--------------------+--------------------+----------+-------------+---------+-------------+-----------------+------------------------+------------------------+---------------+----------------+--------------+\n",
            "|BlackElo|BlackRatingDiff|WhiteElo|WhiteRatingDiff|starting_time|increment|Total_moves|Black_blunders|White_blunders|Black_mistakes|White_mistakes|Black_inaccuracies|White_inaccuracies|Black_inferior_moves|White_inferior_moves|Black_ts_moves|White_ts_moves|Black_ts_blunders|White_ts_blunders|Black_ts_mistakes|White_ts_mistake|Black_long_moves|White_long_moves|Black_bad_long_moves|White_bad_long_moves|Game_flips|Game_flips_ts|ECO_index|Opening_index|Termination_index|Black_elo_category_index|White_elo_category_index|Game_type_index|Event_type_index|Result_encoded|\n",
            "+--------+---------------+--------+---------------+-------------+---------+-----------+--------------+--------------+--------------+--------------+------------------+------------------+--------------------+--------------------+--------------+--------------+-----------------+-----------------+-----------------+----------------+----------------+----------------+--------------------+--------------------+----------+-------------+---------+-------------+-----------------+------------------------+------------------------+---------------+----------------+--------------+\n",
            "|    1143|              6|    1180|             -7|          300|        0|         66|             4|             2|             0|             3|                 3|                 1|                   7|                   6|             8|             8|                0|                0|                0|               0|               2|               1|                   1|                   1|         8|            0|     57.0|         60.0|              1.0|                     0.0|                     0.0|            0.0|             0.0|             0|\n",
            "|    1504|           NULL|    1381|           NULL|          300|        0|         64|             2|             1|             1|             1|                 7|                 5|                  10|                   7|             0|             0|                0|                0|                0|               0|               0|               1|                   0|                   0|         6|            0|     16.0|         80.0|              0.0|                     0.0|                     0.0|            0.0|             0.0|             0|\n",
            "|    1933|              1|    1485|             -1|          300|        2|         70|             0|             1|             1|             2|                 8|                 8|                   9|                  11|             0|             2|                0|                0|                0|               0|               1|               1|                   1|                   0|         5|            0|      8.0|          1.0|              1.0|                     1.0|                     0.0|            0.0|             0.0|             0|\n",
            "|    1710|             10|    2040|            -11|          180|        2|         86|             4|             2|             1|             5|                 3|                 4|                   8|                  11|            18|             0|                4|                0|                0|               0|               3|               1|                   1|                   0|         8|            1|     30.0|         88.0|              0.0|                     0.0|                     1.0|            0.0|             0.0|             0|\n",
            "|    1598|             -1|    2163|              0|          600|        0|         71|             1|             0|             1|             1|                 6|                 2|                   8|                   3|             0|             0|                0|                0|                0|               0|               0|               0|                   0|                   0|         2|            0|     85.0|         79.0|              0.0|                     0.0|                     1.0|            1.0|             1.0|             1|\n",
            "+--------+---------------+--------+---------------+-------------+---------+-----------+--------------+--------------+--------------+--------------+------------------+------------------+--------------------+--------------------+--------------+--------------+-----------------+-----------------+-----------------+----------------+----------------+----------------+--------------------+--------------------+----------+-------------+---------+-------------+-----------------+------------------------+------------------------+---------------+----------------+--------------+\n",
            "only showing top 5 rows\n",
            "\n"
          ]
        }
      ]
    },
    {
      "cell_type": "code",
      "source": [
        "df_spark_cleaned_num.printSchema()"
      ],
      "metadata": {
        "colab": {
          "base_uri": "https://localhost:8080/"
        },
        "id": "5kIcX1iKm3sk",
        "outputId": "08f45322-51e7-4b17-ead8-949ff37fc3c8"
      },
      "execution_count": 85,
      "outputs": [
        {
          "output_type": "stream",
          "name": "stdout",
          "text": [
            "root\n",
            " |-- BlackElo: integer (nullable = true)\n",
            " |-- BlackRatingDiff: integer (nullable = true)\n",
            " |-- WhiteElo: integer (nullable = true)\n",
            " |-- WhiteRatingDiff: integer (nullable = true)\n",
            " |-- starting_time: integer (nullable = true)\n",
            " |-- increment: integer (nullable = true)\n",
            " |-- Total_moves: integer (nullable = true)\n",
            " |-- Black_blunders: integer (nullable = true)\n",
            " |-- White_blunders: integer (nullable = true)\n",
            " |-- Black_mistakes: integer (nullable = true)\n",
            " |-- White_mistakes: integer (nullable = true)\n",
            " |-- Black_inaccuracies: integer (nullable = true)\n",
            " |-- White_inaccuracies: integer (nullable = true)\n",
            " |-- Black_inferior_moves: integer (nullable = true)\n",
            " |-- White_inferior_moves: integer (nullable = true)\n",
            " |-- Black_ts_moves: integer (nullable = true)\n",
            " |-- White_ts_moves: integer (nullable = true)\n",
            " |-- Black_ts_blunders: integer (nullable = true)\n",
            " |-- White_ts_blunders: integer (nullable = true)\n",
            " |-- Black_ts_mistakes: integer (nullable = true)\n",
            " |-- White_ts_mistake: integer (nullable = true)\n",
            " |-- Black_long_moves: integer (nullable = true)\n",
            " |-- White_long_moves: integer (nullable = true)\n",
            " |-- Black_bad_long_moves: integer (nullable = true)\n",
            " |-- White_bad_long_moves: integer (nullable = true)\n",
            " |-- Game_flips: integer (nullable = true)\n",
            " |-- Game_flips_ts: integer (nullable = true)\n",
            " |-- ECO_index: double (nullable = false)\n",
            " |-- Opening_index: double (nullable = false)\n",
            " |-- Termination_index: double (nullable = false)\n",
            " |-- Black_elo_category_index: double (nullable = false)\n",
            " |-- White_elo_category_index: double (nullable = false)\n",
            " |-- Game_type_index: double (nullable = false)\n",
            " |-- Event_type_index: double (nullable = false)\n",
            " |-- Result_encoded: integer (nullable = true)\n",
            "\n"
          ]
        }
      ]
    },
    {
      "cell_type": "markdown",
      "source": [
        "#### Matrice de corrélation"
      ],
      "metadata": {
        "id": "DalX4MRahadG"
      }
    },
    {
      "cell_type": "code",
      "source": [
        "# Calcule de la corrélation dans spark car pas assez de mémoire"
      ],
      "metadata": {
        "id": "D_LnvPUOmkNj"
      },
      "execution_count": 86,
      "outputs": []
    },
    {
      "cell_type": "code",
      "source": [
        "# TODO : Gérer les valeurs NULL au dessus avant de pouvoir faire la suite"
      ],
      "metadata": {
        "id": "gtzqQJLdoMvW"
      },
      "execution_count": 87,
      "outputs": []
    },
    {
      "cell_type": "markdown",
      "source": [
        "#### PCA"
      ],
      "metadata": {
        "id": "F6SaFSiWhc7v"
      }
    },
    {
      "cell_type": "markdown",
      "source": [
        "#### Modèle"
      ],
      "metadata": {
        "id": "4HIbsC9WheyY"
      }
    },
    {
      "cell_type": "markdown",
      "source": [
        "### Questions supplémentaires"
      ],
      "metadata": {
        "id": "-4fIC5KrhhEm"
      }
    },
    {
      "cell_type": "markdown",
      "source": [
        "## Idées questions supplémentaires"
      ],
      "metadata": {
        "id": "vGu7vG1wgku2"
      }
    },
    {
      "cell_type": "markdown",
      "source": [
        "- influence of time spent per move on errors\n",
        "  - existe t il une corrélation entre le temps moyen par coup et le nombre d'erreurs ?\n",
        "  - analyse par niveau et type de jeu\n",
        "\n",
        "- distribtion of drawn games by opening and level\n",
        "  - quelles ouvertures ont une probabilité plus élevée de conduire à une partie nulle ?\n",
        "  - analyse des taux de parties nulles en fonciton de l'ouverture et des catégories ELO\n",
        "\n",
        "- impact of ELO difference on game length\n",
        "  - les parties avec une grande différence d'ELO durent-elles moins longtemps (en nombre de coups) ?\n",
        "\n",
        "- most common mistakes by level\n",
        "  - quels types d'erreurs sont les plus fréquents selon les catégories ELO ?\n",
        "  - comparaison entre joueurs de niveau débutant et expert\n",
        "\n",
        "- optimal strategy for specific openings\n",
        "  - pour une ouverture donnée (à sélectionner manuellement), quelle est la stratégie optiale selon le niveau des joueurs ?"
      ],
      "metadata": {
        "id": "YYj6SLZ1zt3K"
      }
    }
  ]
}