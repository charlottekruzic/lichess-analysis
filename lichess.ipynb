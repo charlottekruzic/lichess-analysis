{
  "cells": [
    {
      "cell_type": "markdown",
      "metadata": {
        "id": "SZ-ApUtIwHXG"
      },
      "source": [
        "# Projet Lichess\n",
        "\n",
        "_Traitements et données large échelle_\n",
        "\n",
        "Zoé Marquis & Charlotte Kruzic"
      ]
    },
    {
      "cell_type": "markdown",
      "metadata": {
        "id": "ManTk4Ll02fM"
      },
      "source": [
        "TODO : présenter les objectifs du projet, les différentes questions, les données utilisées\n"
      ]
    },
    {
      "cell_type": "markdown",
      "metadata": {
        "id": "MoCDA5c1McJt"
      },
      "source": [
        "## Installation et importation des bibliothèques nécessaires"
      ]
    },
    {
      "cell_type": "code",
      "execution_count": 1,
      "metadata": {
        "colab": {
          "base_uri": "https://localhost:8080/"
        },
        "id": "BLQJBvTu1Ln_",
        "outputId": "a87ade4a-26b1-4c26-da0a-4a6bf2fe2c63"
      },
      "outputs": [
        {
          "output_type": "stream",
          "name": "stdout",
          "text": [
            "Requirement already satisfied: kagglehub in /usr/local/lib/python3.10/dist-packages (0.3.5)\n",
            "Requirement already satisfied: packaging in /usr/local/lib/python3.10/dist-packages (from kagglehub) (24.2)\n",
            "Requirement already satisfied: requests in /usr/local/lib/python3.10/dist-packages (from kagglehub) (2.32.3)\n",
            "Requirement already satisfied: tqdm in /usr/local/lib/python3.10/dist-packages (from kagglehub) (4.67.1)\n",
            "Requirement already satisfied: charset-normalizer<4,>=2 in /usr/local/lib/python3.10/dist-packages (from requests->kagglehub) (3.4.0)\n",
            "Requirement already satisfied: idna<4,>=2.5 in /usr/local/lib/python3.10/dist-packages (from requests->kagglehub) (3.10)\n",
            "Requirement already satisfied: urllib3<3,>=1.21.1 in /usr/local/lib/python3.10/dist-packages (from requests->kagglehub) (2.2.3)\n",
            "Requirement already satisfied: certifi>=2017.4.17 in /usr/local/lib/python3.10/dist-packages (from requests->kagglehub) (2024.12.14)\n"
          ]
        }
      ],
      "source": [
        "!pip install kagglehub"
      ]
    },
    {
      "cell_type": "code",
      "execution_count": 2,
      "metadata": {
        "id": "ZIoRHOnTSqmt"
      },
      "outputs": [],
      "source": [
        "!pip install -q findspark"
      ]
    },
    {
      "cell_type": "code",
      "execution_count": 3,
      "metadata": {
        "id": "7Fq95N2B0pm8"
      },
      "outputs": [],
      "source": [
        "# imports\n",
        "import pandas as pd\n",
        "import numpy as np\n",
        "import matplotlib.pyplot as plt\n",
        "import seaborn as sns\n",
        "import json\n",
        "import os\n",
        "import kagglehub\n",
        "\n",
        "import findspark\n",
        "from pyspark.sql import SparkSession"
      ]
    },
    {
      "cell_type": "code",
      "execution_count": 4,
      "metadata": {
        "id": "6v1hNJRbMmTS",
        "colab": {
          "base_uri": "https://localhost:8080/"
        },
        "outputId": "22237a54-3164-4189-b9c5-8243246cfa0b"
      },
      "outputs": [
        {
          "output_type": "stream",
          "name": "stdout",
          "text": [
            "^C\n",
            "tar: spark-3.5.3-bin-hadoop3.tgz: Cannot open: No such file or directory\n",
            "tar: Error is not recoverable: exiting now\n"
          ]
        }
      ],
      "source": [
        "!apt-get install openjdk-8-jdk-headless -qq > /dev/null\n",
        "!wget -q https://downloads.apache.org/spark/spark-3.5.3/spark-3.5.3-bin-hadoop3.tgz\n",
        "!tar xf spark-3.5.3-bin-hadoop3.tgz"
      ]
    },
    {
      "cell_type": "code",
      "execution_count": 5,
      "metadata": {
        "id": "mXe-TNDn4Seo"
      },
      "outputs": [],
      "source": [
        "os.environ[\"JAVA_HOME\"] = \"/usr/lib/jvm/java-8-openjdk-amd64\"\n",
        "os.environ[\"SPARK_HOME\"] = \"/content/spark-3.5.3-bin-hadoop3\""
      ]
    },
    {
      "cell_type": "markdown",
      "metadata": {
        "id": "MoOwUYVF0r4O"
      },
      "source": [
        "## Préparation des données et de l'environnement"
      ]
    },
    {
      "cell_type": "markdown",
      "metadata": {
        "id": "PqCvyHSnQMdZ"
      },
      "source": [
        "Chargement des données, analyse exploratoire et prétraitement des données."
      ]
    },
    {
      "cell_type": "markdown",
      "metadata": {
        "id": "so3fXjziQNRq"
      },
      "source": [
        "### Chargement du fichier de données"
      ]
    },
    {
      "cell_type": "code",
      "execution_count": null,
      "metadata": {
        "id": "8dD1y9b60pkk"
      },
      "outputs": [],
      "source": [
        "path = kagglehub.dataset_download(\"noobiedatascientist/lichess-september-2020-data\")\n",
        "print(\"Chemin vers le fichier du dataset : \", path)"
      ]
    },
    {
      "cell_type": "code",
      "execution_count": null,
      "metadata": {
        "id": "ZoMmOHTH0pf_"
      },
      "outputs": [],
      "source": [
        "files = os.listdir(path)\n",
        "print(\"Fichiers du dataset : \", files)"
      ]
    },
    {
      "cell_type": "code",
      "execution_count": null,
      "metadata": {
        "id": "-C_Fv81N0pbO"
      },
      "outputs": [],
      "source": [
        "filename = f\"{path}/Sept_20_analysis.csv\"\n",
        "print(\"Nom du fichier : \", filename)"
      ]
    },
    {
      "cell_type": "code",
      "execution_count": null,
      "metadata": {
        "id": "bj58yVL60pPQ"
      },
      "outputs": [],
      "source": [
        "# voir le contenu du .txt\n",
        "filename_txt = f\"{path}/Column information.txt\"\n",
        "with open(filename_txt, 'r') as f:\n",
        "    print(f.read())"
      ]
    },
    {
      "cell_type": "markdown",
      "metadata": {
        "id": "tHbCTsTR4S6e"
      },
      "source": [
        "### Lancement de Spark"
      ]
    },
    {
      "cell_type": "code",
      "execution_count": null,
      "metadata": {
        "id": "uiPqfPJdY4Lx"
      },
      "outputs": [],
      "source": [
        "# Importation des éléments Spark\n",
        "from pyspark.sql.functions import col, when, isnull, count, max as spark_max, countDistinct, row_number, split, concat_ws\n",
        "from pyspark.sql.functions import col, when, floor\n",
        "from pyspark.sql.window import Window\n",
        "from pyspark.ml.feature import OneHotEncoder, StringIndexer\n",
        "from collections import defaultdict"
      ]
    },
    {
      "cell_type": "code",
      "execution_count": null,
      "metadata": {
        "id": "YEcWzry24SZ4"
      },
      "outputs": [],
      "source": [
        "findspark.init()\n",
        "spark = SparkSession.builder.master(\"local[*]\").getOrCreate()"
      ]
    },
    {
      "cell_type": "code",
      "execution_count": null,
      "metadata": {
        "id": "wQTMYx5g4SXb"
      },
      "outputs": [],
      "source": [
        "sc = spark.sparkContext\n",
        "df_spark = spark.read.csv(filename, header=True, inferSchema=True)"
      ]
    },
    {
      "cell_type": "code",
      "execution_count": null,
      "metadata": {
        "id": "-KMIg7qx4ihe"
      },
      "outputs": [],
      "source": [
        "df_spark.printSchema()"
      ]
    },
    {
      "cell_type": "code",
      "execution_count": null,
      "metadata": {
        "id": "VrCaCyNT_rtu"
      },
      "outputs": [],
      "source": [
        "# nombre lignes\n",
        "df_spark.count()"
      ]
    },
    {
      "cell_type": "code",
      "execution_count": null,
      "metadata": {
        "id": "XiSTXCRS4ife"
      },
      "outputs": [],
      "source": [
        "df_spark.show(5)"
      ]
    },
    {
      "cell_type": "markdown",
      "metadata": {
        "id": "NAcsmDlTdOWG"
      },
      "source": [
        "### Préparation générale des données"
      ]
    },
    {
      "cell_type": "markdown",
      "metadata": {
        "id": "TSIXOGwkSCg0"
      },
      "source": [
        "Maintenant que les données sont chargées, nous y ajoutons les catégories ELO basées sur les plages données dans l'énoncé du projet.\n",
        "\n",
        "En plus des 5 catégories définies dans l'énoncé, nous ajoutons \"other lower bound\" et \"other upper bound\" pour les valeurs ELO hors des plages."
      ]
    },
    {
      "cell_type": "markdown",
      "metadata": {
        "id": "o89yf5WEXwQT"
      },
      "source": [
        "#### Calcule des catégories"
      ]
    },
    {
      "cell_type": "code",
      "execution_count": null,
      "metadata": {
        "id": "ypAzl9Gh6iWY"
      },
      "outputs": [],
      "source": [
        "# Ajout des catégories ELO\n",
        "# Catégorie ELO du joueur Noir\n",
        "df_spark_plus = df_spark.withColumn(\"Black_ELO_category\",\n",
        "                              when((col(\"BlackElo\") >= 1200) & (col(\"BlackElo\") <= 1499), \"occasional player\")\n",
        "                              .when((col(\"BlackElo\") >= 1500) & (col(\"BlackElo\") <= 1799), \"good club player\")\n",
        "                              .when((col(\"BlackElo\") >= 1800) & (col(\"BlackElo\") <= 1999), \"very good club player\")\n",
        "                              .when((col(\"BlackElo\") >= 2000) & (col(\"BlackElo\") <= 2399), \"national and international level\")\n",
        "                              .when((col(\"BlackElo\") >= 2400) & (col(\"BlackElo\") <= 2800), \"GMI, World Champions\")\n",
        "                              .when((col(\"BlackElo\") < 1200), \"other lower bound\")\n",
        "                              .otherwise(\"other upper bound\")\n",
        "                              )\n",
        "\n",
        "# Catégorie ELO du joueur Blanc\n",
        "df_spark_plus = df_spark_plus.withColumn(\"White_ELO_category\",\n",
        "                              when((col(\"WhiteElo\") >= 1200) & (col(\"WhiteElo\") <= 1499), \"occasional player\")\n",
        "                              .when((col(\"WhiteElo\") >= 1500) & (col(\"WhiteElo\") <= 1799), \"good club player\")\n",
        "                              .when((col(\"WhiteElo\") >= 1800) & (col(\"WhiteElo\") <= 1999), \"very good club player\")\n",
        "                              .when((col(\"WhiteElo\") >= 2000) & (col(\"WhiteElo\") <= 2399), \"national and international level\")\n",
        "                              .when((col(\"WhiteElo\") >= 2400) & (col(\"WhiteElo\") <= 2800), \"GMI, World Champions\")\n",
        "                              .when((col(\"WhiteElo\") < 1200), \"other lower bound\")\n",
        "                              .otherwise(\"other upper bound\")\n",
        "                              )\n",
        "\n",
        "# Catégorie ELO moyenne des 2 joueurs\n",
        "df_spark_plus = df_spark_plus.withColumn(\"Avg_ELO_category\", (col(\"BlackElo\") + col(\"WhiteElo\")) / 2)\n",
        "\n",
        "df_spark_plus = df_spark_plus.withColumn(\"Avg_ELO_category\",\n",
        "                              when((col(\"Avg_ELO_category\") >= 1200) & (col(\"Avg_ELO_category\") <= 1499), \"occasional player\")\n",
        "                              .when((col(\"Avg_ELO_category\") >= 1500) & (col(\"Avg_ELO_category\") <= 1799), \"good club player\")\n",
        "                              .when((col(\"Avg_ELO_category\") >= 1800) & (col(\"Avg_ELO_category\") <= 1999), \"very good club player\")\n",
        "                              .when((col(\"Avg_ELO_category\") >= 2000) & (col(\"Avg_ELO_category\") <= 2399), \"national and international level\")\n",
        "                              .when((col(\"Avg_ELO_category\") >= 2400) & (col(\"Avg_ELO_category\") <= 2800), \"GMI, World Champions\")\n",
        "                              .when((col(\"Avg_ELO_category\") < 1200), \"other lower bound\")\n",
        "                              .otherwise(\"other upper bound\")\n",
        "                              )"
      ]
    },
    {
      "cell_type": "code",
      "execution_count": null,
      "metadata": {
        "id": "vdeN_nAW6iUQ"
      },
      "outputs": [],
      "source": [
        "# vérifier combien de \"other ...\"\n",
        "other_lower_bound_black = df_spark_plus.filter(col(\"Black_ELO_category\") == \"other lower bound\").count()\n",
        "other_lower_bound_white = df_spark_plus.filter(col(\"White_ELO_category\") == \"other lower bound\").count()\n",
        "other_upper_bound_black = df_spark_plus.filter(col(\"Black_ELO_category\") == \"other upper bound\").count()\n",
        "other_upper_bound_white = df_spark_plus.filter(col(\"White_ELO_category\") == \"other upper bound\").count()\n",
        "print(f\"Nombre de parties avec other lower bound pour le joueur noir : {other_lower_bound_black}\")\n",
        "print(f\"Nombre de parties avec other lower bound pour le joueur blanc : {other_lower_bound_white}\")\n",
        "print(f\"Nombre de parties avec other upper bound pour le joueur noir : {other_upper_bound_black}\")\n",
        "print(f\"Nombre de parties avec other upper bound pour le joueur blanc : {other_upper_bound_white}\")"
      ]
    },
    {
      "cell_type": "code",
      "execution_count": null,
      "metadata": {
        "id": "IFVmQEXcF2ep"
      },
      "outputs": [],
      "source": [
        "# répartition du nombre de parties pour avg\n",
        "avg_other_lower_bound = df_spark_plus.filter(col(\"Avg_ELO_category\") == \"other lower bound\").count()\n",
        "avg_occasional_player = df_spark_plus.filter(col(\"Avg_ELO_category\") == \"occasional player\").count()\n",
        "avg_good_club_player = df_spark_plus.filter(col(\"Avg_ELO_category\") == \"good club player\").count()\n",
        "avg_very_good_club_player = df_spark_plus.filter(col(\"Avg_ELO_category\") == \"very good club player\").count()\n",
        "avg_national_international_level = df_spark_plus.filter(col(\"Avg_ELO_category\") == \"national and international level\").count()\n",
        "avg_GMI_World_Champions = df_spark_plus.filter(col(\"Avg_ELO_category\") == \"GMI, World Champions\").count()\n",
        "avg_other_upper_bound = df_spark_plus.filter(col(\"Avg_ELO_category\") == \"other upper bound\").count()\n",
        "\n",
        "# répartition du nombre de parties quand les 2 joueurs sont dans la même catégorie\n",
        "same_player_other_lower_bound = df_spark_plus.filter((col(\"Black_ELO_category\") == \"other lower bound\") & (col(\"White_ELO_category\") == \"other lower bound\")).count()\n",
        "same_player_occasional_player = df_spark_plus.filter((col(\"Black_ELO_category\") == \"occasional player\") & (col(\"White_ELO_category\") == \"occasional player\")).count()\n",
        "same_player_good_club_player = df_spark_plus.filter((col(\"Black_ELO_category\") == \"good club player\") & (col(\"White_ELO_category\") == \"good club player\")).count()\n",
        "same_player_very_good_club_player = df_spark_plus.filter((col(\"Black_ELO_category\") == \"very good club player\") & (col(\"White_ELO_category\") == \"very good club player\")).count()\n",
        "same_player_national_international_level = df_spark_plus.filter((col(\"Black_ELO_category\") == \"national and international level\") & (col(\"White_ELO_category\") == \"national and international level\")).count()\n",
        "same_player_GMI_World_Champions = df_spark_plus.filter((col(\"Black_ELO_category\") == \"GMI, World Champions\") & (col(\"White_ELO_category\") == \"GMI, World Champions\")).count()\n",
        "same_player_other_upper_bound = df_spark_plus.filter((col(\"Black_ELO_category\") == \"other upper bound\") & (col(\"White_ELO_category\") == \"other upper bound\")).count()\n"
      ]
    },
    {
      "cell_type": "code",
      "execution_count": null,
      "metadata": {
        "id": "nzgBXJ82CU2G"
      },
      "outputs": [],
      "source": [
        "# Visualiser la répartition des catégories\n",
        "\n",
        "categories = [\n",
        "    \"other lower bound\", \"occasional player\", \"good club player\",\n",
        "    \"very good club player\", \"national and international level\", \"GMI, World Champions\",\n",
        "    \"other upper bound\"\n",
        "]\n",
        "avg_counts = [\n",
        "    avg_other_lower_bound, avg_occasional_player, avg_good_club_player,\n",
        "    avg_very_good_club_player, avg_national_international_level, avg_GMI_World_Champions,\n",
        "    avg_other_upper_bound\n",
        "]\n",
        "same_player_counts = [\n",
        "    same_player_other_lower_bound, same_player_occasional_player, same_player_good_club_player,\n",
        "    same_player_very_good_club_player, same_player_national_international_level, same_player_GMI_World_Champions,\n",
        "    same_player_other_upper_bound\n",
        "]\n",
        "\n",
        "df_counts = pd.DataFrame({\n",
        "    'Category': categories,\n",
        "    'Avg_ELO_category': avg_counts,\n",
        "    'Same_Player_ELO_category': same_player_counts\n",
        "})\n",
        "\n",
        "plt.figure(figsize=(12, 6))\n",
        "df_counts.set_index('Category')[['Avg_ELO_category', 'Same_Player_ELO_category']].plot(kind='bar', ax=plt.gca(), color=['skyblue', 'lightcoral'])\n",
        "plt.xlabel('ELO Categories', fontsize=12)\n",
        "plt.ylabel('Number of Games', fontsize=12)\n",
        "plt.title('Répartition du nombre de parties pour chaque catégorie d\\'ELO', fontsize=14)\n",
        "plt.xticks(rotation=45, ha='right')\n",
        "plt.legend(['Avg ELO Category', 'Same Player ELO Category'])\n",
        "plt.tight_layout()\n",
        "plt.show()"
      ]
    },
    {
      "cell_type": "markdown",
      "source": [
        "La répartition des données, bien que déséquilibrée entre les catégories, semble réaliste.\n",
        "\n",
        "En effet, le nombre de parties avec des joueurs de niveaux intermédiaires est plus élevé, car ils représentent la plupart des joueurs actifs qui jouent régulièrement. Au contraire, le nombre de parties avec des joueurs ayant des niveaux extrêmes (faible ou élevé) est plus faible. Nous pouvons expliquer cela par le fait que les joueurs de bas niveau évoluent rapidement ou ne jouent pas beaucoup de parties, et les joueurs avec de hauts niveaux sont plus rares dû à la difficulté d'atteindre ces niveaux.\n",
        "\n",
        "Ce déséquilibre naturel pourrait introduire un biais dans l'analyse, car certaines catégories sont sur/sous-représentées."
      ],
      "metadata": {
        "id": "yoQZXsVnVaQm"
      }
    },
    {
      "cell_type": "code",
      "execution_count": null,
      "metadata": {
        "id": "Wqo_RBUW7UzI"
      },
      "outputs": [],
      "source": [
        "# Compter le nombre de moves pour chaque joueur (c'est White qui commence)\n",
        "df_spark_plus = df_spark_plus.withColumn(\"white_moves\",\n",
        "                                         when(col(\"Total_moves\") % 2 == 0, col(\"Total_moves\") / 2)\n",
        "                                         .otherwise(floor(col(\"Total_moves\") / 2) + 1)\n",
        "                                         )\n",
        "df_spark_plus = df_spark_plus.withColumn(\"black_moves\",\n",
        "                                         when(col(\"Total_moves\") % 2 == 0, col(\"Total_moves\") / 2)\n",
        "                                         .otherwise(floor(col(\"Total_moves\") / 2))\n",
        "                                         )"
      ]
    },
    {
      "cell_type": "code",
      "execution_count": null,
      "metadata": {
        "id": "e-NpaXh38W9m"
      },
      "outputs": [],
      "source": [
        "df_spark_plus.select(\"Total_moves\", \"white_moves\", \"black_moves\").show(5)"
      ]
    },
    {
      "cell_type": "markdown",
      "metadata": {
        "id": "ir--SwpeQdIE"
      },
      "source": [
        "## Réponses aux questions"
      ]
    },
    {
      "cell_type": "markdown",
      "metadata": {
        "id": "T74gZM0NPDmJ"
      },
      "source": [
        "### Question 1"
      ]
    },
    {
      "cell_type": "code",
      "execution_count": null,
      "metadata": {
        "id": "fvLr91m_i4mu"
      },
      "outputs": [],
      "source": [
        "# TODO rregarder au global inferior moves aussi ?\n",
        "# Charlotte : \"si c'est un commentaire pour moi, j'ai pas compris ce que ça veut dire mdrrr\"\n",
        "# pov : j'écris comme le théatre"
      ]
    },
    {
      "cell_type": "markdown",
      "metadata": {
        "id": "0XEtPJrWOqkm"
      },
      "source": [
        "*Q1: What is the rate of blunders, errors and inaccuracies per move, per level category and on Blitz type games (Blitz type is by far the most played on these online sites). A game has two players, whose ELOs are most likely different. You will be able to classify a game into a category, either by considering the average ELO of both players, or by considering only the games where both players are in the same category.*"
      ]
    },
    {
      "cell_type": "markdown",
      "metadata": {
        "id": "GljHcFnAbLcJ"
      },
      "source": [
        "**Hypothèse :** Les joueurs appartenant à des catégories plus expérimentées devraient présenter un taux d'erreurs plus faible."
      ]
    },
    {
      "cell_type": "code",
      "execution_count": null,
      "metadata": {
        "id": "oRA97x6ZQFls"
      },
      "outputs": [],
      "source": [
        "# Filtre les parties avec le type de jeu Blitz\n",
        "df_blitz = df_spark_plus.filter(col(\"Game_type\") == \"Blitz\")\n",
        "df_blitz.count()"
      ]
    },
    {
      "cell_type": "markdown",
      "metadata": {
        "id": "hQv8TwoKXrxT"
      },
      "source": [
        "#### Calcule des taux par partie"
      ]
    },
    {
      "cell_type": "code",
      "execution_count": null,
      "metadata": {
        "id": "rBnGnO-5QbsD"
      },
      "outputs": [],
      "source": [
        "# Calcule taux de bourdes (blunders)\n",
        "df_blitz = df_blitz.withColumn(\"Black_blunders_rate\", col(\"Black_blunders\") / col(\"black_moves\")) \\\n",
        "                   .withColumn(\"White_blunders_rate\", col(\"White_blunders\") / col(\"white_moves\"))"
      ]
    },
    {
      "cell_type": "code",
      "execution_count": null,
      "metadata": {
        "id": "ZxP7iixpRX06"
      },
      "outputs": [],
      "source": [
        "# Calcule taux d'erreurs (errors)\n",
        "df_blitz = df_blitz.withColumn(\"Black_errors_rate\", col(\"Black_mistakes\") / col(\"black_moves\")) \\\n",
        "                   .withColumn(\"White_errors_rate\", col(\"White_mistakes\") / col(\"white_moves\"))"
      ]
    },
    {
      "cell_type": "code",
      "execution_count": null,
      "metadata": {
        "id": "xI1qobZ_R_CU"
      },
      "outputs": [],
      "source": [
        "# Calcule taux d'imprecisions (inaccurcies)\n",
        "df_blitz = df_blitz.withColumn(\"Black_inaccuracies_rate\", col(\"Black_inaccuracies\") / col(\"black_moves\")) \\\n",
        "                   .withColumn(\"White_inaccuracies_rate\", col(\"White_inaccuracies\") / col(\"white_moves\"))"
      ]
    },
    {
      "cell_type": "markdown",
      "metadata": {
        "id": "pEG83zrNXzT6"
      },
      "source": [
        "#### Calcule des taux moyens par catégorie ELO (on considère le score ELO moyen des 2 joueurs)"
      ]
    },
    {
      "cell_type": "code",
      "execution_count": null,
      "metadata": {
        "id": "pdklkG0cX6Zh"
      },
      "outputs": [],
      "source": [
        "df_avg_elo_summary = df_blitz.groupBy(\"Avg_ELO_category\").agg(\n",
        "    {\"Black_blunders_rate\": \"avg\", \"White_blunders_rate\": \"avg\",\n",
        "     \"Black_errors_rate\": \"avg\", \"White_errors_rate\": \"avg\",\n",
        "     \"Black_inaccuracies_rate\": \"avg\", \"White_inaccuracies_rate\": \"avg\"}\n",
        ").withColumnRenamed(\"avg(Black_blunders_rate)\", \"Avg_Black_blunders_rate\") \\\n",
        " .withColumnRenamed(\"avg(White_blunders_rate)\", \"Avg_White_blunders_rate\") \\\n",
        " .withColumnRenamed(\"avg(Black_errors_rate)\", \"Avg_Black_errors_rate\") \\\n",
        " .withColumnRenamed(\"avg(White_errors_rate)\", \"Avg_White_errors_rate\") \\\n",
        " .withColumnRenamed(\"avg(Black_inaccuracies_rate)\", \"Avg_Black_inaccuracies_rate\") \\\n",
        " .withColumnRenamed(\"avg(White_inaccuracies_rate)\", \"Avg_White_inaccuracies_rate\")"
      ]
    },
    {
      "cell_type": "code",
      "execution_count": null,
      "metadata": {
        "id": "oUmnTnbIPxTX"
      },
      "outputs": [],
      "source": [
        "df_avg_elo_summary.show(5)"
      ]
    },
    {
      "cell_type": "code",
      "execution_count": null,
      "metadata": {
        "id": "GsfB62FrYR55"
      },
      "outputs": [],
      "source": [
        "df_avg_elo_summary_pandas = df_avg_elo_summary.toPandas()"
      ]
    },
    {
      "cell_type": "code",
      "execution_count": null,
      "metadata": {
        "id": "HmO5nsP2a2Fz"
      },
      "outputs": [],
      "source": [
        "df_avg_elo_summary_pandas.isna().sum()"
      ]
    },
    {
      "cell_type": "code",
      "execution_count": null,
      "metadata": {
        "id": "Ff1S4mlyYblk"
      },
      "outputs": [],
      "source": [
        "# Ordonner les catégories de joueurs\n",
        "category_order = [\"other lower bound\", \"occasional player\", \"good club player\", \"very good club player\",\n",
        "                  \"national and international level\", \"GMI, World Champions\", \"other upper bound\"]\n",
        "df_avg_elo_summary_pandas['Avg_ELO_category'] = pd.Categorical(df_avg_elo_summary_pandas['Avg_ELO_category'],  categories=category_order,  ordered=True)\n",
        "df_avg_elo_summary_pandas = df_avg_elo_summary_pandas.sort_values('Avg_ELO_category')\n",
        "\n",
        "\n",
        "categories = df_avg_elo_summary_pandas['Avg_ELO_category']\n",
        "error_types = ['Blunders', 'Errors', 'Inaccuracies']\n",
        "\n",
        "# Données par type d'erreur et catégorie\n",
        "blunders = df_avg_elo_summary_pandas[['Avg_Black_blunders_rate', 'Avg_White_blunders_rate']].mean(axis=1)*100\n",
        "mistakes = df_avg_elo_summary_pandas[['Avg_Black_errors_rate', 'Avg_White_errors_rate']].mean(axis=1)*100\n",
        "inaccuracies = df_avg_elo_summary_pandas[['Avg_Black_inaccuracies_rate', 'Avg_White_inaccuracies_rate']].mean(axis=1)*100\n",
        "\n",
        "# Matrice (erreurs x catégorie)\n",
        "data = np.array([blunders, mistakes, inaccuracies]).T"
      ]
    },
    {
      "cell_type": "code",
      "execution_count": null,
      "metadata": {
        "id": "kTpkiqb2cMMX"
      },
      "outputs": [],
      "source": [
        "# Graphique\n",
        "plt.figure(figsize=(14, 8))\n",
        "x = np.arange(len(error_types))\n",
        "bar_width = 0.1\n",
        "\n",
        "for i, category in enumerate(categories):\n",
        "    plt.bar(x + i * bar_width, data[i], width=bar_width, label=str(category))\n",
        "\n",
        "plt.xlabel('Taux de fautes')\n",
        "plt.ylabel('Pourcentage de taux moyen')\n",
        "plt.title('Moyenne des taux de fautes par catégorie (Catégorie moyenne)')\n",
        "plt.xticks(x + bar_width * (len(categories) - 1) / 2, error_types)\n",
        "plt.legend(title=\"Catégorie ELO\")\n",
        "plt.tight_layout()\n",
        "plt.show()"
      ]
    },
    {
      "cell_type": "markdown",
      "metadata": {
        "id": "JF6InvGrNm7z"
      },
      "source": [
        "##### **Analyse des taux de blunders, errors et inaccuracies selon les catégories d'ELO**"
      ]
    },
    {
      "cell_type": "markdown",
      "source": [
        "Lorsque l'on analyse les taux de blunders, errors et inaccuracies en fonction des différentes catégories ELO, plusieurs tendances intéressantes émergent.  \n",
        "En excluant la catégorie \"Other Upper Bound\", on observe une diminution progressive des taux de **bourdes** (blunders) à mesure que les catégories augmentent, avec une chute de moins en moins marquée. Cela suggère qu'il y a une amélioration du niveau des joueurs en fonction de leur catégorie ELO, bien qu'elle soit de moins en moins évidente pour les catégories les plus expérimentées.\n",
        "\n",
        "Concernant les taux d'**erreurs** (errors), la diminution est relativement constante à travers les catégories, mais on remarque une chute plus importante lorsque l'on atteint les deux meilleures catégories (\"National and International Level\" et \"GMI, World Champions\"). Cela indique une amélioration notable dans la gestion des erreurs pour les joueurs de niveau supérieur.\n",
        "\n",
        "Quant aux taux d'**imprécisions** (inaccuracies), la tendance reste assez stable pour les premières catégories, avec une diminution qui s'accélère à mesure que l'on approche des deux catégories les plus élevées. Cette tendance suggère également une amélioration du jeu des joueurs plus expérimentés.\n",
        "\n",
        "En résumé, **les taux diminuent sensiblement à mesure que l'on progresse dans les catégories ELO**, avec une amélioration plus marquée pour les catégories \"National and International Level\" et \"GMI, World Champions\", ce qui reflète probablement un meilleur contrôle stratégique et une plus grande expérience des joueurs."
      ],
      "metadata": {
        "id": "JIR-GSCib51F"
      }
    },
    {
      "cell_type": "markdown",
      "source": [
        "##### **Analyse de la catégorie \"Other Upper Bound\"**"
      ],
      "metadata": {
        "id": "tf-oBNyZb8nr"
      }
    },
    {
      "cell_type": "markdown",
      "source": [
        "Lorsque l'on considère la catégorie \"Other Upper Bound\", une tendance différente se dessine.  \n",
        "Les taux de blunders, errors et inaccuracies semblent augmenter pour atteindre une **valeur entre celle des catégories \"Good Club Player\" et \"Very Good Club Player\"**.\n",
        "\n",
        "Cette anomalie pourrait suggérer plusieurs pistes d'interprétation.  \n",
        "Tout d'abord, il est possible que cette catégorie contienne des **données** qui ne sont **pas représentatives** du reste des catégories en raison d'un échantillon trop faible ou non nettoyé correctement.\n",
        "\n",
        "Une autre hypothèse pourrait être que la **performance** des joueurs dans cette catégorie est **influencée** par la moyenne des ELO des deux joueurs, et non seulement par l'ELO individuel.  \n",
        "Par exemple, un joueur avec un ELO élevé qui affronte un adversaire de niveau inférieur pourrait être amené à prendre plus de risques ou adopter des stratégies différentes, ce qui expliquerait certains résultats.  \n",
        "De plus, il est possible qu'une partie classée dans la catégorie \"Other upper bound\" n'inclue qu'un seul joueur avec un ELO très élevé, ce qui fausse la moyenne des deux scores ELO et pourrait influencer l'analyse des performances."
      ],
      "metadata": {
        "id": "sl0aqSJOb-t9"
      }
    },
    {
      "cell_type": "markdown",
      "metadata": {
        "id": "it5jufdcX3K8"
      },
      "source": [
        "#### Calcule des taux moyens par catégorie ELO (ici on considère seulement les parties où les joueurs sont dans la même catégorie)\n"
      ]
    },
    {
      "cell_type": "code",
      "execution_count": null,
      "metadata": {
        "id": "iUfv1BQDX224"
      },
      "outputs": [],
      "source": [
        "df_same_category = df_blitz.filter(col(\"Black_ELO_category\") == col(\"White_ELO_category\"))"
      ]
    },
    {
      "cell_type": "code",
      "execution_count": null,
      "metadata": {
        "id": "Wwa42HNxhrYe"
      },
      "outputs": [],
      "source": [
        "tot_blitz = df_blitz.count()\n",
        "tot_same_cat = df_same_category.count()\n",
        "print(f\"Nombre de parties total : {tot_blitz}\")\n",
        "print(f\"Nombre de parties avec 2 joueurs de la même catégorie : {tot_blitz}\")\n",
        "print(f\"Pourcentage même catégorie : {tot_same_cat / tot_blitz * 100} %\")"
      ]
    },
    {
      "cell_type": "code",
      "execution_count": null,
      "metadata": {
        "id": "ZCJU38ziDDA-"
      },
      "outputs": [],
      "source": [
        "# TODO : expliquer qu'on introduit un biais (comme pour le avg ducoup enfaite...)\n",
        "# poru avg dire qu'on devrait un peu étudier l'écrat type peut etre ?"
      ]
    },
    {
      "cell_type": "code",
      "execution_count": null,
      "metadata": {
        "id": "8E8WMVXZYBf6"
      },
      "outputs": [],
      "source": [
        "df_same_category_summary = df_same_category.groupBy(\"Black_ELO_category\").agg(\n",
        "    {\"Black_blunders_rate\": \"avg\", \"White_blunders_rate\": \"avg\",\n",
        "     \"Black_errors_rate\": \"avg\", \"White_errors_rate\": \"avg\",\n",
        "     \"Black_inaccuracies_rate\": \"avg\", \"White_inaccuracies_rate\": \"avg\"}\n",
        ").withColumnRenamed(\"avg(Black_blunders_rate)\", \"Avg_Black_blunders_rate\") \\\n",
        " .withColumnRenamed(\"avg(White_blunders_rate)\", \"Avg_White_blunders_rate\") \\\n",
        " .withColumnRenamed(\"avg(Black_errors_rate)\", \"Avg_Black_errors_rate\") \\\n",
        " .withColumnRenamed(\"avg(White_errors_rate)\", \"Avg_White_errors_rate\") \\\n",
        " .withColumnRenamed(\"avg(Black_inaccuracies_rate)\", \"Avg_Black_inaccuracies_rate\") \\\n",
        " .withColumnRenamed(\"avg(White_inaccuracies_rate)\", \"Avg_White_inaccuracies_rate\")"
      ]
    },
    {
      "cell_type": "code",
      "execution_count": null,
      "metadata": {
        "id": "l_Ye8JmudLX7"
      },
      "outputs": [],
      "source": [
        "df_same_category_summary_pandas = df_same_category_summary.toPandas()"
      ]
    },
    {
      "cell_type": "code",
      "execution_count": null,
      "metadata": {
        "id": "WtSEk6uMfAnG"
      },
      "outputs": [],
      "source": [
        "# Ordonner les catégories de joueurs\n",
        "category_order = [\"other lower bound\", \"occasional player\", \"good club player\", \"very good club player\",\n",
        "                  \"national and international level\", \"GMI, World Champions\", \"other upper bound\"]\n",
        "df_same_category_summary_pandas['Black_ELO_category'] = pd.Categorical(df_same_category_summary_pandas['Black_ELO_category'],  categories=category_order,  ordered=True)\n",
        "df_same_category_summary_pandas = df_same_category_summary_pandas.sort_values('Black_ELO_category')\n",
        "\n",
        "\n",
        "categories = df_same_category_summary_pandas['Black_ELO_category']\n",
        "error_types = ['Blunders', 'Errors', 'Inaccuracies']\n",
        "\n",
        "# Données par type d'erreur et catégorie (moyenne) # TODO : Voir si on fait autrement\n",
        "blunders = df_same_category_summary_pandas[['Avg_Black_blunders_rate', 'Avg_White_blunders_rate']].mean(axis=1)*100\n",
        "mistakes = df_same_category_summary_pandas[['Avg_Black_errors_rate', 'Avg_White_errors_rate']].mean(axis=1)*100\n",
        "inaccuracies = df_same_category_summary_pandas[['Avg_Black_inaccuracies_rate', 'Avg_White_inaccuracies_rate']].mean(axis=1)*100\n",
        "\n",
        "# Matrice (erreurs x catégorie)\n",
        "data = np.array([blunders, mistakes, inaccuracies]).T"
      ]
    },
    {
      "cell_type": "code",
      "execution_count": null,
      "metadata": {
        "id": "zKlJ7m2AeUJA"
      },
      "outputs": [],
      "source": [
        "# Graphique\n",
        "plt.figure(figsize=(14, 8))\n",
        "x = np.arange(len(error_types))\n",
        "bar_width = 0.1\n",
        "for i, category in enumerate(categories):\n",
        "    plt.bar(x + i * bar_width, data[i], width=bar_width, label=str(category))\n",
        "\n",
        "plt.xlabel('Type de fautes')\n",
        "plt.ylabel('Pourcentage de taux moyen')\n",
        "plt.title('Moyenne des taux de fautes par catégorie (Même catégorie entre les joueurs)')\n",
        "plt.xticks(x + bar_width * (len(categories) - 1) / 2, error_types)\n",
        "plt.legend(title=\"Catégorie ELO\")\n",
        "plt.tight_layout()\n",
        "plt.show()"
      ]
    },
    {
      "cell_type": "markdown",
      "metadata": {
        "id": "zANho_i7QPRs"
      },
      "source": [
        "Pour ces parties, où les deux joueurs appartiennent à la même catégorie, **les observations sont similaires** à celles faites pour la moyenne des ELO des joueurs.\n",
        "\n",
        "Cependant, pour la catégorie **\"Other upper bound\"**, on ne constate **pas de réaugmentation** des erreurs et inexactitudes, ce qui confirme que la moyenne des ELO des deux joueurs influençait les résultats dans cette catégorie.\n",
        "\n",
        "En revanche, une légère réaugmentation des blunders est observée entre les catégories \"National and International level\" et \"GMI, World Champions\"."
      ]
    },
    {
      "cell_type": "markdown",
      "metadata": {
        "id": "M8vNfmy-g0d7"
      },
      "source": [
        "#### Résultats globaux"
      ]
    },
    {
      "cell_type": "markdown",
      "metadata": {
        "id": "v5acBCPUg3nC"
      },
      "source": [
        "Nous observons des **résultats similaires** entre les parties où les catégories sont basées sur la moyenne des ELO des deux joueurs et celles où les deux joueurs appartiennent à la même catégorie ELO. Nous voyons, en effet, que tous **les taux de fautes ont tendance à diminuer** à mesure que la catégorie ELO augmente.\n",
        "\n",
        "Ce résultat est en accord avec l'hypothèse initiale."
      ]
    },
    {
      "cell_type": "markdown",
      "metadata": {
        "id": "YGmM--xUgI7N"
      },
      "source": [
        "### Question 2"
      ]
    },
    {
      "cell_type": "code",
      "execution_count": null,
      "metadata": {
        "id": "VwuPZf0__umf"
      },
      "outputs": [],
      "source": [
        "# TODO texte\n",
        "# je capte pas pourquoi ECO ? genre ils mentionnent pas ECO dans l'énoncé donc on peut dire qu'on fait l'assertion d'utiliser que Opening ?\n",
        "# ou alors on expliue un peu plus en amont pcq juste \"alignés\" c'est pas super clair"
      ]
    },
    {
      "cell_type": "markdown",
      "metadata": {
        "id": "41P8vKRnZ6kH"
      },
      "source": [
        "Les Opening et ECO coressepondent aux ouvertures, nous regardons s'ils sont alignés."
      ]
    },
    {
      "cell_type": "code",
      "execution_count": null,
      "metadata": {
        "id": "KfgPipGf5Fdo"
      },
      "outputs": [],
      "source": [
        "# Nombre valeurs opening\n",
        "print(f\"Nombre de valeurs opening : {df_spark.select('Opening').distinct().count()}\")\n",
        "print(f\"Nombre de valeurs ECO : {df_spark.select('ECO').distinct().count()}\")"
      ]
    },
    {
      "cell_type": "code",
      "execution_count": null,
      "metadata": {
        "id": "pn4f69Fx17ju"
      },
      "outputs": [],
      "source": [
        "#  Checker si les colonnes ECO et Opening sont toujours alignées\n",
        "alignment_check_1 = df_spark.groupBy(\"ECO\").agg(countDistinct(\"Opening\").alias(\"Unique_Openings\"))\n",
        "misaligned_rows_1 = alignment_check_1.filter(col(\"Unique_Openings\") > 1)"
      ]
    },
    {
      "cell_type": "code",
      "execution_count": null,
      "metadata": {
        "id": "Gu0Edcv32tO5"
      },
      "outputs": [],
      "source": [
        "# Afficher les résultats\n",
        "if misaligned_rows_1.count() > 0:\n",
        "    print(\"Il existe plusieurs Openings pour un code ECO.\")\n",
        "    misaligned_rows_1.show(5)\n",
        "    print(\"Nombre de lignes : \", misaligned_rows_1.count())\n",
        "else:\n",
        "    print(\"Il existe un seul Opening pour un code ECO.\")"
      ]
    },
    {
      "cell_type": "code",
      "execution_count": null,
      "metadata": {
        "id": "XPLNZ7I_2wm2"
      },
      "outputs": [],
      "source": [
        "#  Checker si les colonnes ECO et Opening sont toujours alignées\n",
        "alignment_check_2 = df_spark.groupBy(\"Opening\").agg(countDistinct(\"ECO\").alias(\"Unique_ECOs\"))\n",
        "misaligned_rows_2 = alignment_check_2.filter(col(\"Unique_ECOs\") > 1)"
      ]
    },
    {
      "cell_type": "code",
      "execution_count": null,
      "metadata": {
        "id": "o-1nR4KR3f8j"
      },
      "outputs": [],
      "source": [
        "# Afficher les résultats\n",
        "if misaligned_rows_2.count() > 0:\n",
        "    print(\"Il existe plusieurs ECO pour un code Opening.\")\n",
        "    misaligned_rows_2.show(5)\n",
        "    print(\"Nombre de lignes : \", misaligned_rows_2.count())\n",
        "else:\n",
        "    print(\"Il existe un seul ECO pour un code Opening.\")"
      ]
    },
    {
      "cell_type": "markdown",
      "metadata": {
        "id": "RZaOgJPZaC4H"
      },
      "source": [
        "Beaucoup de Opening et ECO ne sont pas alignés, nous allons regarder si ce sont des erreurs."
      ]
    },
    {
      "cell_type": "code",
      "execution_count": null,
      "metadata": {
        "id": "Qb3pNGYNQk5g"
      },
      "outputs": [],
      "source": [
        "# Filtrer pour les ouvertures ayant plusieurs ECO\n",
        "misaligned_rows_2 = alignment_check_2.filter(col(\"Unique_ECOs\") > 1)\n",
        "opening_eco_counts = df_spark.groupBy(\"Opening\", \"ECO\").agg(count(\"*\").alias(\"count\"))\n",
        "multiple_opening_eco_counts = misaligned_rows_2.join(opening_eco_counts, on=\"Opening\", how=\"inner\")\n",
        "multiple_opening_eco_counts.orderBy(\"Opening\", \"count\", ascending=False).show(truncate=False)\n"
      ]
    },
    {
      "cell_type": "markdown",
      "metadata": {
        "id": "ybFjANGdaKhv"
      },
      "source": [
        "Cela ne semble pas être des erreurs, il n'y a pas de ECO ou Opening largement dominant, nous allons donc garder ces éléments comme cela et les considérer comme 2 colonnes distinctes."
      ]
    },
    {
      "cell_type": "code",
      "execution_count": null,
      "metadata": {
        "id": "eDVorzco4DZ3"
      },
      "outputs": [],
      "source": [
        "# TODO : Voir si on traite pour aligner ou si on fait juste avec Opening\n",
        "# comme c'est fait actuellement"
      ]
    },
    {
      "cell_type": "markdown",
      "metadata": {
        "id": "hXkg4q_iK6rM"
      },
      "source": [
        "Nous avons pu constater que certaines configurations n'étaient joués que quelques fois et toujours gagnés par les Blancs. Cela ajoute un biais, et ne permet pas de déterminer correctement quel opening permet le plus de gagner. On obtenait plus de 3800 White_win_probability=1.\n",
        "\n",
        "Nous avons donc décidé de concerver seulement les configurations avec un nombre de parties jouées élevées.\n",
        "\n",
        "TODO : Dire combien on garde finalement et pourquoi"
      ]
    },
    {
      "cell_type": "markdown",
      "metadata": {
        "id": "JuH5E2dAgNr7"
      },
      "source": [
        "##### Q2: Win probability depending on opening:\n",
        "\n",
        "- Q2a: With which opening does White have the best chance to win, by level category (*) and by type of game (Blitz, Fast, Classic)."
      ]
    },
    {
      "cell_type": "code",
      "execution_count": null,
      "metadata": {
        "id": "u75jGBagKp72"
      },
      "outputs": [],
      "source": [
        "# Calculer le nombre de parties pour chaque configuration\n",
        "config_game_counts = df_spark_plus.groupBy(\"Opening\", \"White_ELO_category\", \"Game_type\").agg(count(\"*\").alias(\"Total_games_count\"))\n",
        "config_game_counts.orderBy(\"Total_games_count\", ascending=False).show(5)"
      ]
    },
    {
      "cell_type": "code",
      "execution_count": null,
      "metadata": {
        "id": "ocVhYDjOL_wZ"
      },
      "outputs": [],
      "source": [
        "# TODO : mais là tu prends plus en compte les ECO ?? tu prends que Opening ?\n",
        "# tu veux pas faire une config ou tu groupes par Opening ECO category et game type ?"
      ]
    },
    {
      "cell_type": "code",
      "execution_count": null,
      "metadata": {
        "id": "jJE5RbW9MnpR"
      },
      "outputs": [],
      "source": [
        "# Nombre total de configurations uniques\n",
        "print(f\"Nombre total de configurations possibles : {config_game_counts.count()}\")"
      ]
    },
    {
      "cell_type": "code",
      "execution_count": null,
      "metadata": {
        "id": "BGq5eexmMrTo"
      },
      "outputs": [],
      "source": [
        "# Filtrer les configurations avec plus de 1000 parties jouées\n",
        "# TODO : Voir si on adapte le nombre de parties (autre chose que 1000)\n",
        "filtered_configurations = config_game_counts.filter(col(\"Total_games_count\") > 1000)\n",
        "filtered_configurations.orderBy(\"Total_games_count\", ascending=False).show(5)\n",
        "print(f\"Nombre de configurations avec plus de 1000 parties jouées : {filtered_configurations.count()}\")"
      ]
    },
    {
      "cell_type": "code",
      "execution_count": null,
      "metadata": {
        "id": "il1Z1GjxbBoI"
      },
      "outputs": [],
      "source": [
        "# TODO ZOE je pense qu'on enleve le > 1000 car on perd trop de catégories"
      ]
    },
    {
      "cell_type": "code",
      "execution_count": null,
      "metadata": {
        "id": "YeJ6lm0bN_Pn"
      },
      "outputs": [],
      "source": [
        "# On utilise que les configurations avec plus de 1000 parties\n",
        "filtered_df = df_spark_plus.join( filtered_configurations.select(\"Opening\", \"White_ELO_category\", \"Game_type\"), on=[\"Opening\", \"White_ELO_category\", \"Game_type\"], how=\"inner\")\n"
      ]
    },
    {
      "cell_type": "code",
      "execution_count": null,
      "metadata": {
        "id": "E65RvfdqMW5E"
      },
      "outputs": [],
      "source": [
        "# quels sont les différentes valeurs de Game_type ?\n",
        "filtered_df.select(\"Game_type\").distinct().show()"
      ]
    },
    {
      "cell_type": "markdown",
      "metadata": {
        "id": "9Vf--LJCMux6"
      },
      "source": [
        "L'énoncé précise \"by type of game (Blitz, Fast, Classic)\" mais on voit bien ici que c'est Blitz, Rapid et Classical."
      ]
    },
    {
      "cell_type": "code",
      "execution_count": null,
      "metadata": {
        "id": "VMtXPRSQNDIy"
      },
      "outputs": [],
      "source": [
        "# comment sont explicités les différentes fin de partie ?\n",
        "filtered_df.select(\"Result\").distinct().show()"
      ]
    },
    {
      "cell_type": "markdown",
      "metadata": {
        "id": "cfCDdQADP7Xz"
      },
      "source": [
        "1-0 -- White victory  \n",
        "0-1 -- Black victory  \n",
        "(vérifier dans la documentation)"
      ]
    },
    {
      "cell_type": "code",
      "execution_count": null,
      "metadata": {
        "id": "MyMMuNQ3glZd"
      },
      "outputs": [],
      "source": [
        "# Récupération des parties voulues (blancs gagnes +  type de jeux Blitz, Fast, Classic)\n",
        "df_white_wins = filtered_df.filter((col(\"Result\") == \"1-0\") & (col(\"Game_type\").isin([\"Blitz\", \"Rapid\", \"Classical\"])))\n",
        "df_total_games = filtered_df.filter(col(\"Game_type\").isin([\"Blitz\", \"Rapid\", \"Classical\"]))"
      ]
    },
    {
      "cell_type": "code",
      "execution_count": null,
      "metadata": {
        "id": "ax5rSGfWcPiO"
      },
      "outputs": [],
      "source": [
        "# Pour chaque ouverture, catégorie et type de jeu on calcule le nombre de victoires des blancs\n",
        "df_white_wins_groupby = df_white_wins.groupBy(\"Opening\", \"White_ELO_category\", \"Game_type\").agg(count(\"*\").alias(\"White_win_count\"))\n",
        "\n",
        "# Pareil mais on calcule le total de parties jouées\n",
        "df_total_games_groupby = df_total_games.groupBy(\"Opening\", \"White_ELO_category\", \"Game_type\").agg(count(\"*\").alias(\"Total_games_count\"))"
      ]
    },
    {
      "cell_type": "code",
      "execution_count": null,
      "metadata": {
        "id": "2z0MCCPSeZol"
      },
      "outputs": [],
      "source": [
        "df_white_wins_groupby.show(5)"
      ]
    },
    {
      "cell_type": "code",
      "execution_count": null,
      "metadata": {
        "id": "RvYom_bSejJU"
      },
      "outputs": [],
      "source": [
        "df_total_games_groupby.show(5)"
      ]
    },
    {
      "cell_type": "code",
      "execution_count": null,
      "metadata": {
        "id": "1JRCvwm1ezys"
      },
      "outputs": [],
      "source": [
        "# Calcule de la probabilité de gagner en fonction de l'ouverture\n",
        "df_opening_stats = df_white_wins_groupby.join(df_total_games_groupby, on=[\"Opening\", \"White_ELO_category\", \"Game_type\"])\n",
        "df_opening_stats = df_opening_stats.withColumn(\"White_win_probability\", col(\"White_win_count\") / col(\"Total_games_count\"))"
      ]
    },
    {
      "cell_type": "code",
      "execution_count": null,
      "metadata": {
        "id": "cCYS9hr6fazc"
      },
      "outputs": [],
      "source": [
        "df_opening_stats.show(5)"
      ]
    },
    {
      "cell_type": "code",
      "execution_count": null,
      "metadata": {
        "id": "0bI0zsP9gY4j"
      },
      "outputs": [],
      "source": [
        "df_opening_stats.count()"
      ]
    },
    {
      "cell_type": "code",
      "execution_count": null,
      "metadata": {
        "id": "5j81vN1RaUaE"
      },
      "outputs": [],
      "source": [
        "# y a t il toutes les combinaisons de catégorie / type de partie ?\n",
        "df_opening_stats.groupBy(\"White_ELO_category\", \"Game_type\").count().orderBy(\"count\", ascending=False).show(truncate=False)"
      ]
    },
    {
      "cell_type": "markdown",
      "metadata": {
        "id": "Ine3mq-iaweG"
      },
      "source": [
        "TODO : faut puet etre qu'on regle autrement ou alors on commente sur le fait qu'on a pas Classical pour toutes les catégories etc\n",
        "\n",
        "\n",
        "On voit que pour certaines combinaisons il y a peu d'Openings différent"
      ]
    },
    {
      "cell_type": "code",
      "execution_count": null,
      "metadata": {
        "id": "zG-71tavbRXH"
      },
      "outputs": [],
      "source": [
        "df_spark_plus.groupBy(\"White_ELO_category\", \"Game_type\").count().orderBy(\"count\", ascending=False).show(truncate=False)"
      ]
    },
    {
      "cell_type": "markdown",
      "metadata": {
        "id": "pvvqLnztbczp"
      },
      "source": [
        "TODO : on voit ue de base y a pas autant de Classical que le reste... toutes les combinaisons pas possibles"
      ]
    },
    {
      "cell_type": "code",
      "execution_count": null,
      "metadata": {
        "id": "8DYvuedq_xTv"
      },
      "outputs": [],
      "source": [
        "# Récupération du meilleur opening pour chaque catégorie de joueur et type de partie\n",
        "window_spec = Window.partitionBy(\"White_ELO_category\", \"Game_type\").orderBy(col(\"White_win_probability\").desc())\n",
        "best_openings = df_opening_stats.withColumn(\"rank\", row_number().over(window_spec))\n",
        "best_openings = best_openings.filter(col(\"rank\") == 1).select(\"White_ELO_category\", \"Game_type\", \"Opening\", \"White_win_probability\")"
      ]
    },
    {
      "cell_type": "code",
      "execution_count": null,
      "metadata": {
        "id": "wQr5WLm9Akvd"
      },
      "outputs": [],
      "source": [
        "best_openings.orderBy(\"White_ELO_category\", \"Game_type\").show(truncate=False)"
      ]
    },
    {
      "cell_type": "code",
      "execution_count": null,
      "metadata": {
        "id": "L83rRW9pQrtl"
      },
      "outputs": [],
      "source": [
        "best_openings_pandas = best_openings.toPandas()"
      ]
    },
    {
      "cell_type": "code",
      "execution_count": null,
      "metadata": {
        "id": "k2dpsGhbPzrA"
      },
      "outputs": [],
      "source": [
        "best_openings_pandas[\"GameType_Category\"] = (best_openings_pandas[\"Game_type\"] + \" | \" + best_openings_pandas[\"White_ELO_category\"])\n",
        "\n",
        "# Table pivot pour voir le meilleur opening pour chaque configuration\n",
        "pivot_table = best_openings_pandas.pivot_table(\n",
        "    index=\"GameType_Category\",\n",
        "    columns=\"Opening\",\n",
        "    values=\"White_win_probability\"\n",
        ")"
      ]
    },
    {
      "cell_type": "code",
      "execution_count": null,
      "metadata": {
        "id": "Pv2RrjNrQ3wW"
      },
      "outputs": [],
      "source": [
        "plt.figure(figsize=(12, 8))\n",
        "sns.heatmap(pivot_table, annot=True, fmt=\".2f\", cmap=\"coolwarm\", cbar=True)\n",
        "plt.title(\"Meilleure opening (plus grande probabilité de victoire) des Blancs pour une catégorie et un Game Type\")\n",
        "plt.xlabel(\"Opening\")\n",
        "plt.ylabel(\"Type de jeu et Catégorie ELO\")\n",
        "plt.xticks(rotation=45, ha=\"right\")\n",
        "plt.tight_layout()\n",
        "plt.show()"
      ]
    },
    {
      "cell_type": "code",
      "execution_count": null,
      "metadata": {
        "id": "iNtkSoaIaBp3"
      },
      "outputs": [],
      "source": []
    },
    {
      "cell_type": "code",
      "execution_count": null,
      "metadata": {
        "id": "BQrFNXrjIBEu"
      },
      "outputs": [],
      "source": [
        "# TODO : Voir comment on conclut ici en fonction de combien de parties min on utilise\n",
        "\n",
        "# On voit que King's ... permet de gagner dans plusieurs conf"
      ]
    },
    {
      "cell_type": "markdown",
      "metadata": {
        "id": "wSzOqkhIb368"
      },
      "source": [
        "- Q2b: same question with black. You don't need to write again the same but only the results with black."
      ]
    },
    {
      "cell_type": "code",
      "execution_count": null,
      "metadata": {
        "id": "ZjrdbJ1UPaCo"
      },
      "outputs": [],
      "source": [
        "# TODO : Copier ce qu'il y a dans Q2a en remplacant White_ELO_category par Black_ELO_category\n",
        "# A faire quand on aura décidé comment on fait"
      ]
    },
    {
      "cell_type": "code",
      "execution_count": null,
      "metadata": {
        "id": "VG4ZJpU3WQXq"
      },
      "outputs": [],
      "source": [
        "df_black_wins = filtered_df.filter((col(\"Result\") == \"0-1\") & (col(\"Game_type\").isin([\"Blitz\", \"Rapid\", \"Classical\"])))\n",
        "df_total_games = filtered_df.filter(col(\"Game_type\").isin([\"Blitz\", \"Rapid\", \"Classical\"]))"
      ]
    },
    {
      "cell_type": "code",
      "execution_count": null,
      "metadata": {
        "id": "CuUsplOvdZiD"
      },
      "outputs": [],
      "source": [
        "df_black_wins_groupby = df_black_wins.groupBy(\"Opening\", \"Black_ELO_category\", \"Game_type\").agg(count(\"*\").alias(\"Black_win_count\"))\n",
        "df_total_games_groupby = df_total_games.groupBy(\"Opening\", \"Black_ELO_category\", \"Game_type\").agg(count(\"*\").alias(\"Total_games_count\"))"
      ]
    },
    {
      "cell_type": "code",
      "execution_count": null,
      "metadata": {
        "id": "ypuadmuVdc7l"
      },
      "outputs": [],
      "source": [
        "df_opening_stats = df_black_wins_groupby.join(df_total_games_groupby, on=[\"Opening\", \"Black_ELO_category\", \"Game_type\"])\n",
        "df_opening_stats = df_opening_stats.withColumn(\"Black_win_probability\", col(\"Black_win_count\") / col(\"Total_games_count\"))"
      ]
    },
    {
      "cell_type": "code",
      "execution_count": null,
      "metadata": {
        "id": "-Vfa2I7odtb1"
      },
      "outputs": [],
      "source": [
        "window_spec = Window.partitionBy(\"Black_ELO_category\", \"Game_type\").orderBy(col(\"Black_win_probability\").desc())\n",
        "best_openings = df_opening_stats.withColumn(\"rank\", row_number().over(window_spec))\n",
        "best_openings = best_openings.filter(col(\"rank\") == 1).select(\"Black_ELO_category\", \"Game_type\", \"Opening\", \"Black_win_probability\")\n",
        "best_openings.orderBy(\"Black_ELO_category\", \"Game_type\").show(truncate=False)"
      ]
    },
    {
      "cell_type": "code",
      "execution_count": null,
      "metadata": {
        "id": "-Txk0FSCdsrO"
      },
      "outputs": [],
      "source": [
        "best_openings_pandas = best_openings.toPandas()"
      ]
    },
    {
      "cell_type": "code",
      "execution_count": null,
      "metadata": {
        "id": "WuMXExaydc5n"
      },
      "outputs": [],
      "source": [
        "best_openings_pandas[\"GameType_Category\"] = (best_openings_pandas[\"Game_type\"] + \" | \" + best_openings_pandas[\"Black_ELO_category\"])\n",
        "pivot_table = best_openings_pandas.pivot_table(\n",
        "    index=\"GameType_Category\",\n",
        "    columns=\"Opening\",\n",
        "    values=\"Black_win_probability\"\n",
        ")\n",
        "plt.figure(figsize=(12, 8))\n",
        "sns.heatmap(pivot_table, annot=True, fmt=\".2f\", cmap=\"coolwarm\", cbar=True)\n",
        "plt.title(\"Probabilités de victoire des Noirs par Opening et Configuration\")\n",
        "plt.xlabel(\"Opening\")"
      ]
    },
    {
      "cell_type": "code",
      "execution_count": null,
      "metadata": {
        "id": "Y9x-fKTidc3n"
      },
      "outputs": [],
      "source": [
        "plt.figure(figsize=(12, 8))\n",
        "sns.heatmap(pivot_table, annot=True, fmt=\".2f\", cmap=\"coolwarm\", cbar=True)\n",
        "plt.title(\"Meilleure opening (plus grande probabilité de victoire) des Noirs pour une catégorie et un Game Type\")\n",
        "plt.xlabel(\"Opening\")\n",
        "plt.ylabel(\"Type de jeu et Catégorie ELO\")\n",
        "plt.xticks(rotation=45, ha=\"right\")\n",
        "plt.tight_layout()\n",
        "plt.show()"
      ]
    },
    {
      "cell_type": "code",
      "execution_count": null,
      "metadata": {
        "id": "yGaqLjAteep-"
      },
      "outputs": [],
      "source": [
        "# TODO : iuci faut peut etre dire que opening c'est le coup fait par le blanc (à moins que ce soit plusieurs enchainement s?)"
      ]
    },
    {
      "cell_type": "code",
      "execution_count": null,
      "metadata": {
        "id": "1oWkSNKhdc1S"
      },
      "outputs": [],
      "source": [
        "# TODO : ici on peut regarder si on retrouve les memes choses entre noir et blanc"
      ]
    },
    {
      "cell_type": "markdown",
      "metadata": {
        "id": "ib5E3BoQP47F"
      },
      "source": [
        "### Question 3"
      ]
    },
    {
      "cell_type": "markdown",
      "metadata": {
        "id": "DH7Khn9AP6hA"
      },
      "source": [
        "*Q3: (difficult). Does a line of data in the file predict the outcome of the game (column Result), and with what\n",
        "probability? In other words, can any of the variables, such as the number of errors (mistakes, blunders, inacurracies,\n",
        "ts_blunders), the difference in ELO between the two players, etc., explain the outcome (win/loss)? You are free to\n",
        "define explain as you wish. It can be a correlation, linear or not, or any other relationship that allows this prediction.  \n",
        "Note that the ELO is itself computed from a probability (normal distribution) of victory depending on the difference\n",
        "in ELO of the two players. For instance, for a difference of 100 ELO points, the higher ranked player is expected to\n",
        "win with probability 0.64. For a 200 points difference, it is 0.76.  \n",
        "As we have more data than the ELO difference, your prediction should be more accurate than that.*"
      ]
    },
    {
      "cell_type": "code",
      "execution_count": null,
      "metadata": {
        "id": "P8wDBJ2ahF0R"
      },
      "outputs": [],
      "source": [
        "# TODO zoe : mes idées pour cette partie c'est de faire :\n",
        "\n",
        "# préparer les données -> result à encoder\n",
        "# différence de ELO blanc noir et / ou noir blanc\n",
        "# on prend en compte blunders, mistakes, inaccuracies (la même avec les ts_)\n",
        "# normaliser et encoder\n",
        "# MLLIB -> vecteur\n",
        "# train et test séparation\n",
        "# construire modèle de régression (logistique ?) ou arbre (genre random forest ou xgboost ?)\n",
        "# évaluer : MulticlassClassificationEvaluator\n",
        "# interpréter : Comparez la performance du modèle à celle prédite uniquement par la différence d'ELO (probabilités théoriques).\n",
        "# analyse les coefficients (dans le cas de la régression logistique) : importance de chaque variable.\n",
        "\n",
        "\n",
        "# en fait ils veulent qu'on explique... y a pas moyen de faire un truc avec explicabilité ?"
      ]
    },
    {
      "cell_type": "markdown",
      "metadata": {
        "id": "C02cvUwyw4DI"
      },
      "source": [
        "#### Observation des données"
      ]
    },
    {
      "cell_type": "code",
      "execution_count": null,
      "metadata": {
        "id": "iJgruJiL1X57"
      },
      "outputs": [],
      "source": [
        "df_spark.show(5)"
      ]
    },
    {
      "cell_type": "markdown",
      "metadata": {
        "id": "7nwC7P5S8x6B"
      },
      "source": [
        "#### Gestion valeurs NULL"
      ]
    },
    {
      "cell_type": "code",
      "execution_count": null,
      "metadata": {
        "id": "sGSVVh9i7llY"
      },
      "outputs": [],
      "source": [
        "# Calcule valeurs null par colonnes\n",
        "null_counts = df_spark.select(\n",
        "    *[\n",
        "        count(when(col(c).isNull(), c)).alias(c)\n",
        "        for c in df_spark.columns\n",
        "    ]\n",
        ")\n",
        "\n",
        "null_counts.show()"
      ]
    },
    {
      "cell_type": "code",
      "execution_count": null,
      "metadata": {
        "id": "jDlMMnOyjf-0"
      },
      "outputs": [],
      "source": [
        "# TODO CHARLOTTE lis : tu t'es trop pris la tete mdrrr\n",
        "\n",
        "# BlackRatingDiff: Rating change (gain/loss) after game conclusion for the player with the black pieces\n",
        "# WhiteRatingDiff idem\n",
        "# genre pour la prédiction c'est pas ouf on pourrait ne pas les prendre pcq c'est plutot une conséquence de qui a gagné ?\n",
        "# pour le starting time bah osef en vrai c'est pareil ce serait bien de pas prendre en compte\n",
        "# ducoup on pourrait juste drop ? on fait l'assumption au début (ils disent dans l'énonce on peut faire des assumptions)\n",
        "# increment à null c'est pcq c'est des parties par correspondance (pas en temps réel)\n",
        "\n",
        "# idem pour Date que pour starting time  ducoup\n",
        "# et je pense iden pour Time Control et UTC Time ducoup (on veut pa que ce soit ça qui influence...)\n",
        "\n",
        "# on peut suppr le GAME aussi (l'id)\n",
        "\n",
        "# on peut aussi suppr l'URL (métadonnée)\n",
        "\n",
        "# Event ? a t on vraiment besoin ? c'est plus une métadonnée non ? -> c'est pas une donnée sur la parie en tant que telle"
      ]
    },
    {
      "cell_type": "markdown",
      "metadata": {
        "id": "584wXxKm71yB"
      },
      "source": [
        "Valeurs null dans les colonnes :\n",
        "- BlackRatingDiff\n",
        "- WhiteRatingDiff\n",
        "- starting_time\n",
        "- increment"
      ]
    },
    {
      "cell_type": "markdown",
      "metadata": {
        "id": "FsJjnr4o-pZd"
      },
      "source": [
        "##### Gestion starting_time et increment"
      ]
    },
    {
      "cell_type": "code",
      "execution_count": null,
      "metadata": {
        "id": "R9DqgPll9eQB"
      },
      "outputs": [],
      "source": [
        "# Même nombre null pour starting_time et increment, on vérifie que c'est aligné\n",
        "df_spark.filter(col(\"starting_time\").isNull() & col(\"increment\").isNull()).count()"
      ]
    },
    {
      "cell_type": "code",
      "execution_count": null,
      "metadata": {
        "id": "R5GbM2Wu9vwu"
      },
      "outputs": [],
      "source": [
        "# Afficher les type de game quand ces 2 colonnes sont NULL\n",
        "df_spark.filter(col(\"starting_time\").isNull() & col(\"increment\").isNull()).select(\"Game_type\").distinct().show()"
      ]
    },
    {
      "cell_type": "code",
      "execution_count": null,
      "metadata": {
        "id": "1mw_BCfA-bLo"
      },
      "outputs": [],
      "source": [
        "# Afficher les parties avec type de jeu Correspondence et starting_time ou increment non null\n",
        "df_spark.filter((col(\"Game_type\") == \"Correspondence\") & (col(\"starting_time\").isNotNull() | col(\"increment\").isNotNull())).show()"
      ]
    },
    {
      "cell_type": "code",
      "execution_count": null,
      "metadata": {
        "id": "FXonO2Ge_LDA"
      },
      "outputs": [],
      "source": [
        "# TODO : Les NULL sont normaux, on fait quoi ?"
      ]
    },
    {
      "cell_type": "markdown",
      "metadata": {
        "id": "HW0Dag3m9-dp"
      },
      "source": [
        "OK comme dans la doc"
      ]
    },
    {
      "cell_type": "code",
      "execution_count": null,
      "metadata": {
        "id": "7tERsB8fVQI0"
      },
      "outputs": [],
      "source": [
        "# Vérifier si TimeControl correspond bien à starting_time+increment\n",
        "# Extraire starting_time et increment à partir de TimeControl\n",
        "df_spark_check = df_spark.withColumn(\n",
        "    \"starting_time_extracted\",\n",
        "    when(col(\"TimeControl\") != \"-\", split(col(\"TimeControl\"), \"\\+\")[0].cast(\"int\"))\n",
        "    .otherwise(None))\n",
        "\n",
        "df_spark_check = df_spark_check.withColumn(\n",
        "    \"increment_extracted\",\n",
        "    when(col(\"TimeControl\") != \"-\", split(col(\"TimeControl\"), \"\\+\")[1].cast(\"int\"))\n",
        "    .otherwise(None))\n",
        "\n",
        "# Recréer TimeControl avec les colonnes extraites\n",
        "df_spark_check = df_spark_check.withColumn(\n",
        "    \"TimeControl_reconstructed\",\n",
        "    when(col(\"starting_time_extracted\").isNull() & col(\"increment_extracted\").isNull(), \"-\")\n",
        "    .otherwise(concat_ws(\"+\", col(\"starting_time_extracted\"), col(\"increment_extracted\")))\n",
        ")\n",
        "\n",
        "# Comparer TimeControl avec la recréation\n",
        "df_spark_check = df_spark_check.withColumn(\n",
        "    \"is_matching\",\n",
        "    col(\"TimeControl\") == col(\"TimeControl_reconstructed\")\n",
        ")\n",
        "\n",
        "# Checker les résultats\n",
        "df_spark_check.select(\"TimeControl\", \"starting_time\", \"increment\", \"starting_time_extracted\", \"increment_extracted\", \"TimeControl_reconstructed\", \"is_matching\").show(5)\n",
        "mismatch_count = df_spark_check.filter(col(\"is_matching\") == False).count()\n",
        "print(f\"Nombre de désalignements : {mismatch_count}\")"
      ]
    },
    {
      "cell_type": "markdown",
      "metadata": {
        "id": "D38qs6o9-vVZ"
      },
      "source": [
        "##### Gestion BlackRatingDiff et WhiteRatingDiff"
      ]
    },
    {
      "cell_type": "code",
      "execution_count": null,
      "metadata": {
        "id": "PH8XgtKj-BK1"
      },
      "outputs": [],
      "source": [
        "# Même nombre null pour starting_time et increment, on vérifie que c'est aligné\n",
        "df_spark.filter(col(\"BlackRatingDiff\").isNull() & col(\"WhiteRatingDiff\").isNull()).count()"
      ]
    },
    {
      "cell_type": "code",
      "execution_count": null,
      "metadata": {
        "id": "mK_TlfLt__dN"
      },
      "outputs": [],
      "source": [
        "# pourcentage null\n",
        "prc_missed = round(df_spark.filter(col(\"BlackRatingDiff\").isNull() | col(\"WhiteRatingDiff\").isNull()).count()/df_spark.count()*100,2)\n",
        "print(f\"Pourcentage de NULL : {prc_missed}%\")"
      ]
    },
    {
      "cell_type": "code",
      "execution_count": null,
      "metadata": {
        "id": "_2HPNwvWSJcL"
      },
      "outputs": [],
      "source": [
        "# TODO : Virer les lignes avec des NULL"
      ]
    },
    {
      "cell_type": "markdown",
      "metadata": {
        "id": "TwHSlAkW95m_"
      },
      "source": [
        "#### Conservation des colonnes utiles"
      ]
    },
    {
      "cell_type": "code",
      "execution_count": null,
      "metadata": {
        "id": "jbUZEnnw1h7E"
      },
      "outputs": [],
      "source": [
        "# Colonnes inutiles\n",
        "# - GAME : un ID, Date, Site, UTCTime, TimeControl\n",
        "\n",
        "# TODO ZOE : je suis d'accord mdrrr mais faudrait peut etre le faire avant quand on drop tout et pourquoi on se permet de le drop"
      ]
    },
    {
      "cell_type": "code",
      "execution_count": null,
      "metadata": {
        "id": "_wrf1D087DbA"
      },
      "outputs": [],
      "source": [
        "# Suppression colonnes inutiles\n",
        "columns_to_drop = [\"GAME\", \"Date\", \"Site\", \"UTCTime\",\"TimeControl\"]\n",
        "df_spark_cleaned = df_spark.drop(*columns_to_drop)"
      ]
    },
    {
      "cell_type": "code",
      "execution_count": null,
      "metadata": {
        "id": "Oh1wP1BGxAuO"
      },
      "outputs": [],
      "source": [
        "# Observation des valeurs dans la colonne Result\n",
        "result_counts = df_spark_cleaned.groupBy(\"Result\").count()\n",
        "result_counts.orderBy(\"count\", ascending=False).show()"
      ]
    },
    {
      "cell_type": "code",
      "execution_count": null,
      "metadata": {
        "id": "MseqjgYC0asN"
      },
      "outputs": [],
      "source": [
        "# TODO : Très peu de indéfini + prédit rien donc peut etre supprimer,\n",
        "# revoir en fonction des résultats obtenus\n",
        "df_spark_cleaned = df_spark_cleaned.filter(col(\"Result\") != \"*\")"
      ]
    },
    {
      "cell_type": "markdown",
      "metadata": {
        "id": "PWAhhfCKA7La"
      },
      "source": [
        "#### Gestion des données non numérique"
      ]
    },
    {
      "cell_type": "code",
      "execution_count": null,
      "metadata": {
        "id": "XJPgCitQRLhb"
      },
      "outputs": [],
      "source": [
        "# Observation des types des colonnes pour savoir comment les traiter\n",
        "schema = df_spark_cleaned.schema\n",
        "columns_by_type = defaultdict(list)\n",
        "\n",
        "for field in schema:\n",
        "    columns_by_type[str(field.dataType)].append(field.name)\n",
        "\n",
        "for data_type, columns in columns_by_type.items():\n",
        "    print(f\"Type: {data_type}\")\n",
        "    print(f\"Columns: {columns}\\n\")"
      ]
    },
    {
      "cell_type": "code",
      "execution_count": null,
      "metadata": {
        "id": "8Ulwl0GyBApj"
      },
      "outputs": [],
      "source": [
        "# Afficher les valeurs pour les colonnes non numériques\n",
        "columns_to_check = [\n",
        "    'ECO', 'Event', 'Opening', 'Result', 'Termination',\n",
        "    'Black_elo_category', 'White_elo_category', 'Game_type'\n",
        "]\n",
        "\n",
        "for column in columns_to_check:\n",
        "    print(f\"Valeurs possibles pour la colonne '{column}':\")\n",
        "    df_spark_cleaned.select(column).distinct().show(truncate=False)\n"
      ]
    },
    {
      "cell_type": "code",
      "execution_count": null,
      "metadata": {
        "id": "nS9TmYb0W6EQ"
      },
      "outputs": [],
      "source": [
        "# Extraire le type d'evenement\n",
        "df_spark_cleaned = df_spark_cleaned.withColumn(\"Event_type\", split(col(\"Event\"), \"https://\")[0])\n",
        "df_spark_cleaned.select(\"Event\", \"Event_type\").show(5)"
      ]
    },
    {
      "cell_type": "code",
      "execution_count": null,
      "metadata": {
        "id": "m_d7lSoyW-Zr"
      },
      "outputs": [],
      "source": [
        "# Afficher les Event_type différents\n",
        "df_spark_cleaned.select(\"Event_type\").distinct().show(truncate=False)"
      ]
    },
    {
      "cell_type": "code",
      "execution_count": null,
      "metadata": {
        "id": "gPSc8pA7UM9X"
      },
      "outputs": [],
      "source": [
        "from pyspark.ml.feature import OneHotEncoder, StringIndexer\n",
        "from pyspark.sql.functions import when"
      ]
    },
    {
      "cell_type": "code",
      "execution_count": null,
      "metadata": {
        "id": "_9o1E_jtBrGx"
      },
      "outputs": [],
      "source": [
        "# Gérer les différentes colonnes non-numériques\n",
        "\n",
        "# Beaucoup de valeurs : ECO et Opening\n",
        "indexer_eco = StringIndexer(inputCol=\"ECO\", outputCol=\"ECO_index\")\n",
        "indexer_opening = StringIndexer(inputCol=\"Opening\", outputCol=\"Opening_index\")\n",
        "\n",
        "df_spark_cleaned = indexer_eco.fit(df_spark_cleaned).transform(df_spark_cleaned)\n",
        "df_spark_cleaned = indexer_opening.fit(df_spark_cleaned).transform(df_spark_cleaned)\n",
        "\n",
        "# Peu de valeurs : Termination, Black_elo_category, White_elo_category, Game_type, Event_type\n",
        "# TODO : Voir si on fait One Hot mais apres c'est trop lourd pour convertir en df Pandas\n",
        "columns_to_encode = [\"Termination\", \"Black_elo_category\", \"White_elo_category\", \"Game_type\", \"Event_type\"]\n",
        "# TODO CHARLOTTE LIS -> on garde pas leur elo category mais celles que nous on a créé plutot ce serait mieux\n",
        "# je pense on dégage le event type\n",
        "# on one hot encode trkl\n",
        "\n",
        "for column in columns_to_encode:\n",
        "    indexer = StringIndexer(inputCol=column, outputCol=f\"{column}_index\")\n",
        "    df_spark_cleaned = indexer.fit(df_spark_cleaned).transform(df_spark_cleaned)\n",
        "\n",
        "# Colonne à retrouver : Result\n",
        "df_spark_cleaned = df_spark_cleaned.withColumn(\n",
        "    \"Result_encoded\",\n",
        "    when(col(\"Result\") == \"1-0\", 1)\n",
        "    .when(col(\"Result\") == \"0-1\", 0)\n",
        "    .when(col(\"Result\") == \"1/2-1/2\", -1)\n",
        "    .otherwise(None) # TODO le * on en fait quoi ?\n",
        ")"
      ]
    },
    {
      "cell_type": "code",
      "execution_count": null,
      "metadata": {
        "id": "xgdkWG06d214"
      },
      "outputs": [],
      "source": [
        "df_spark_cleaned.printSchema()"
      ]
    },
    {
      "cell_type": "code",
      "execution_count": null,
      "metadata": {
        "id": "Ktvrdi5bX7Od"
      },
      "outputs": [],
      "source": [
        "df_spark_cleaned.show(5)"
      ]
    },
    {
      "cell_type": "code",
      "execution_count": null,
      "metadata": {
        "id": "bwccrLvOe0Eh"
      },
      "outputs": [],
      "source": [
        "# Supprimer colonnes string remplacées si dessus\n",
        "df_spark_cleaned_num = df_spark_cleaned.drop('ECO','Site','Opening','Termination','Black_elo_category','White_elo_category','Game_type','Result','Event','Event_type')"
      ]
    },
    {
      "cell_type": "code",
      "execution_count": null,
      "metadata": {
        "id": "x4IZ1ioJqTPt"
      },
      "outputs": [],
      "source": [
        "# TODO ZOE j'ai po compris"
      ]
    },
    {
      "cell_type": "code",
      "execution_count": null,
      "metadata": {
        "id": "a_8cy8-Tgtb3"
      },
      "outputs": [],
      "source": [
        "df_spark_cleaned_num.show(5)"
      ]
    },
    {
      "cell_type": "code",
      "execution_count": null,
      "metadata": {
        "id": "5kIcX1iKm3sk"
      },
      "outputs": [],
      "source": [
        "df_spark_cleaned_num.printSchema()"
      ]
    },
    {
      "cell_type": "markdown",
      "metadata": {
        "id": "DalX4MRahadG"
      },
      "source": [
        "#### Matrice de corrélation"
      ]
    },
    {
      "cell_type": "code",
      "execution_count": null,
      "metadata": {
        "id": "D_LnvPUOmkNj"
      },
      "outputs": [],
      "source": [
        "# Calcule de la corrélation dans spark car pas assez de mémoire"
      ]
    },
    {
      "cell_type": "code",
      "execution_count": null,
      "metadata": {
        "id": "gtzqQJLdoMvW"
      },
      "outputs": [],
      "source": [
        "# TODO : Gérer les valeurs NULL au dessus avant de pouvoir faire la suite"
      ]
    },
    {
      "cell_type": "markdown",
      "metadata": {
        "id": "F6SaFSiWhc7v"
      },
      "source": [
        "#### PCA"
      ]
    },
    {
      "cell_type": "markdown",
      "metadata": {
        "id": "4HIbsC9WheyY"
      },
      "source": [
        "#### Modèle"
      ]
    },
    {
      "cell_type": "markdown",
      "metadata": {
        "id": "-4fIC5KrhhEm"
      },
      "source": [
        "### Questions supplémentaires"
      ]
    },
    {
      "cell_type": "markdown",
      "metadata": {
        "id": "vGu7vG1wgku2"
      },
      "source": [
        "## Idées questions supplémentaires"
      ]
    },
    {
      "cell_type": "markdown",
      "metadata": {
        "id": "YYj6SLZ1zt3K"
      },
      "source": [
        "- influence of time spent per move on errors\n",
        "  - existe t il une corrélation entre le temps moyen par coup et le nombre d'erreurs ?\n",
        "  - analyse par niveau et type de jeu\n",
        "\n",
        "- distribtion of drawn games by opening and level\n",
        "  - quelles ouvertures ont une probabilité plus élevée de conduire à une partie nulle ?\n",
        "  - analyse des taux de parties nulles en fonciton de l'ouverture et des catégories ELO\n",
        "\n",
        "- impact of ELO difference on game length\n",
        "  - les parties avec une grande différence d'ELO durent-elles moins longtemps (en nombre de coups) ?\n",
        "\n",
        "- most common mistakes by level\n",
        "  - quels types d'erreurs sont les plus fréquents selon les catégories ELO ?\n",
        "  - comparaison entre joueurs de niveau débutant et expert\n",
        "\n",
        "- optimal strategy for specific openings\n",
        "  - pour une ouverture donnée (à sélectionner manuellement), quelle est la stratégie optiale selon le niveau des joueurs ?"
      ]
    }
  ],
  "metadata": {
    "colab": {
      "provenance": [],
      "collapsed_sections": [
        "hQv8TwoKXrxT",
        "pEG83zrNXzT6",
        "it5jufdcX3K8"
      ],
      "gpuType": "T4"
    },
    "kernelspec": {
      "display_name": "Python 3",
      "name": "python3"
    },
    "language_info": {
      "name": "python"
    },
    "accelerator": "GPU"
  },
  "nbformat": 4,
  "nbformat_minor": 0
}